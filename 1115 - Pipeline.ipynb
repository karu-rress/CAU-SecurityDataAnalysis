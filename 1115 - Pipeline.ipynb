{
 "cells": [
  {
   "cell_type": "markdown",
   "metadata": {},
   "source": [
    "# Pipeline"
   ]
  },
  {
   "cell_type": "code",
   "execution_count": 1,
   "metadata": {},
   "outputs": [],
   "source": [
    "from sklearn.linear_model       import LogisticRegression\n",
    "from sklearn.metrics import accuracy_score\n",
    "from sklearn.metrics import average_precision_score\n",
    "from sklearn.model_selection    import train_test_split\n",
    "from sklearn.model_selection    import cross_validate\n",
    "from sklearn.model_selection    import cross_val_score\n",
    "from sklearn.model_selection    import GridSearchCV\n",
    "from sklearn.tree import DecisionTreeClassifier\n",
    "from imblearn.over_sampling     import SMOTENC\n",
    "from sklearn.pipeline           import Pipeline\n",
    "from sklearn.preprocessing      import MinMaxScaler\n",
    "from imblearn.pipeline          import Pipeline\n",
    "import pandas                   as pd\n",
    "\n",
    "from sklearn.pipeline           import make_pipeline\n",
    "from SecurityDataAnalysis       import Crowdfunding\n",
    "from SecurityDataAnalysis       import Fraud"
   ]
  },
  {
   "cell_type": "code",
   "execution_count": 2,
   "metadata": {},
   "outputs": [
    {
     "name": "stderr",
     "output_type": "stream",
     "text": [
      "d:\\OneDrive - 중앙대학교\\CAU\\Grade 1 Semester 2\\[전선] 보안데이터 분석\\Workspace\\SecurityDataAnalysis.py:127: SettingWithCopyWarning: \n",
      "A value is trying to be set on a copy of a slice from a DataFrame\n",
      "\n",
      "See the caveats in the documentation: https://pandas.pydata.org/pandas-docs/stable/user_guide/indexing.html#returning-a-view-versus-a-copy\n",
      "  self._x_df.rename(columns={'보상수': '#ofRewards'}, inplace=True)\n"
     ]
    },
    {
     "data": {
      "text/html": [
       "<div>\n",
       "<style scoped>\n",
       "    .dataframe tbody tr th:only-of-type {\n",
       "        vertical-align: middle;\n",
       "    }\n",
       "\n",
       "    .dataframe tbody tr th {\n",
       "        vertical-align: top;\n",
       "    }\n",
       "\n",
       "    .dataframe thead th {\n",
       "        text-align: right;\n",
       "    }\n",
       "</style>\n",
       "<table border=\"1\" class=\"dataframe\">\n",
       "  <thead>\n",
       "    <tr style=\"text-align: right;\">\n",
       "      <th></th>\n",
       "      <th>Backers</th>\n",
       "      <th>CountryCode</th>\n",
       "      <th>VideoCount</th>\n",
       "      <th>ImageCount</th>\n",
       "      <th>TagCode</th>\n",
       "      <th>Goal</th>\n",
       "      <th>Period</th>\n",
       "      <th>SNS</th>\n",
       "      <th>Fiends</th>\n",
       "      <th>#ofCreation</th>\n",
       "      <th>#ofRewards</th>\n",
       "    </tr>\n",
       "  </thead>\n",
       "  <tbody>\n",
       "    <tr>\n",
       "      <th>0</th>\n",
       "      <td>0</td>\n",
       "      <td>1</td>\n",
       "      <td>0</td>\n",
       "      <td>0</td>\n",
       "      <td>13</td>\n",
       "      <td>4800.00</td>\n",
       "      <td>19</td>\n",
       "      <td>1</td>\n",
       "      <td>26</td>\n",
       "      <td>1</td>\n",
       "      <td>1</td>\n",
       "    </tr>\n",
       "    <tr>\n",
       "      <th>1</th>\n",
       "      <td>4</td>\n",
       "      <td>1</td>\n",
       "      <td>0</td>\n",
       "      <td>0</td>\n",
       "      <td>13</td>\n",
       "      <td>10000.00</td>\n",
       "      <td>30</td>\n",
       "      <td>1</td>\n",
       "      <td>2873</td>\n",
       "      <td>11</td>\n",
       "      <td>9</td>\n",
       "    </tr>\n",
       "    <tr>\n",
       "      <th>2</th>\n",
       "      <td>0</td>\n",
       "      <td>6</td>\n",
       "      <td>0</td>\n",
       "      <td>0</td>\n",
       "      <td>1</td>\n",
       "      <td>5361.53</td>\n",
       "      <td>30</td>\n",
       "      <td>1</td>\n",
       "      <td>583</td>\n",
       "      <td>1</td>\n",
       "      <td>2</td>\n",
       "    </tr>\n",
       "    <tr>\n",
       "      <th>3</th>\n",
       "      <td>1</td>\n",
       "      <td>9</td>\n",
       "      <td>0</td>\n",
       "      <td>3</td>\n",
       "      <td>11</td>\n",
       "      <td>34513.70</td>\n",
       "      <td>30</td>\n",
       "      <td>1</td>\n",
       "      <td>4675</td>\n",
       "      <td>1</td>\n",
       "      <td>4</td>\n",
       "    </tr>\n",
       "    <tr>\n",
       "      <th>4</th>\n",
       "      <td>1510</td>\n",
       "      <td>1</td>\n",
       "      <td>0</td>\n",
       "      <td>39</td>\n",
       "      <td>5</td>\n",
       "      <td>5000.00</td>\n",
       "      <td>59</td>\n",
       "      <td>0</td>\n",
       "      <td>0</td>\n",
       "      <td>1</td>\n",
       "      <td>8</td>\n",
       "    </tr>\n",
       "  </tbody>\n",
       "</table>\n",
       "</div>"
      ],
      "text/plain": [
       "   Backers  CountryCode  VideoCount  ImageCount  TagCode      Goal  Period  \\\n",
       "0        0            1           0           0       13   4800.00      19   \n",
       "1        4            1           0           0       13  10000.00      30   \n",
       "2        0            6           0           0        1   5361.53      30   \n",
       "3        1            9           0           3       11  34513.70      30   \n",
       "4     1510            1           0          39        5   5000.00      59   \n",
       "\n",
       "   SNS  Fiends  #ofCreation  #ofRewards  \n",
       "0    1      26            1           1  \n",
       "1    1    2873           11           9  \n",
       "2    1     583            1           2  \n",
       "3    1    4675            1           4  \n",
       "4    0       0            1           8  "
      ]
     },
     "metadata": {},
     "output_type": "display_data"
    }
   ],
   "source": [
    "cf = Crowdfunding()\n",
    "df_X, y = cf.x_df, cf.y\n",
    "display(df_X.head())"
   ]
  },
  {
   "cell_type": "code",
   "execution_count": 3,
   "metadata": {},
   "outputs": [
    {
     "name": "stdout",
     "output_type": "stream",
     "text": [
      "Test Score: 0.76\n"
     ]
    }
   ],
   "source": [
    "X_train, X_test, y_train, y_test = train_test_split(df_X, y, random_state=0, stratify=y)\n",
    "\n",
    "pipe = Pipeline([(\"scaler\", MinMaxScaler()), (\"lr\", LogisticRegression())])\n",
    "pipe.fit(X_train, y_train)\n",
    "print(\"Test Score: {:.2f}\".format(pipe.score(X_test,y_test)))"
   ]
  },
  {
   "cell_type": "markdown",
   "metadata": {},
   "source": [
    "## cross_val_score w/ Pipeline"
   ]
  },
  {
   "cell_type": "code",
   "execution_count": 4,
   "metadata": {},
   "outputs": [
    {
     "name": "stdout",
     "output_type": "stream",
     "text": [
      "Default Cross-validation score: [0.74782609 0.73043478 0.73913043 0.70434783 0.74782609]\n",
      "Accuracy score: [0.74782609 0.73043478 0.73913043 0.70434783 0.74782609]\n",
      "Roc_Auc score: [0.75903614 0.78840361 0.82680723 0.69051205 0.81325301]\n",
      "Precision score: [1.         0.57142857 0.66666667 0.45       0.8       ]\n",
      "Recall score: [0.09375 0.125   0.125   0.28125 0.125  ]\n",
      "f1 score: [0.17142857 0.20512821 0.21052632 0.34615385 0.21621622]\n"
     ]
    }
   ],
   "source": [
    "pipe = Pipeline([(\"scaler\", MinMaxScaler()), (\"lr\", LogisticRegression())])\n",
    "\n",
    "print(\"Default Cross-validation score:\", cross_val_score(pipe, X_train, y_train, cv=5))\n",
    "print(\"Accuracy score:\", cross_val_score(pipe, X_train, y_train, scoring=\"accuracy\", cv=5))\n",
    "print(\"Roc_Auc score:\", cross_val_score(pipe, X_train, y_train, scoring=\"roc_auc\", cv=5))\n",
    "print(\"Precision score:\", cross_val_score(pipe, X_train, y_train, scoring=\"precision\", cv=5))\n",
    "print(\"Recall score:\", cross_val_score(pipe, X_train, y_train, scoring=\"recall\", cv=5))\n",
    "print(\"f1 score:\", cross_val_score(pipe, X_train, y_train, scoring=\"f1\", cv=5))"
   ]
  },
  {
   "cell_type": "markdown",
   "metadata": {},
   "source": [
    "## cross_validate w/ Pipeline"
   ]
  },
  {
   "cell_type": "code",
   "execution_count": 5,
   "metadata": {},
   "outputs": [
    {
     "data": {
      "text/html": [
       "<div>\n",
       "<style scoped>\n",
       "    .dataframe tbody tr th:only-of-type {\n",
       "        vertical-align: middle;\n",
       "    }\n",
       "\n",
       "    .dataframe tbody tr th {\n",
       "        vertical-align: top;\n",
       "    }\n",
       "\n",
       "    .dataframe thead th {\n",
       "        text-align: right;\n",
       "    }\n",
       "</style>\n",
       "<table border=\"1\" class=\"dataframe\">\n",
       "  <thead>\n",
       "    <tr style=\"text-align: right;\">\n",
       "      <th></th>\n",
       "      <th>fit_time</th>\n",
       "      <th>score_time</th>\n",
       "      <th>test_accuracy</th>\n",
       "      <th>test_roc_auc</th>\n",
       "      <th>test_recall_macro</th>\n",
       "      <th>test_recall_weighted</th>\n",
       "      <th>test_precision_macro</th>\n",
       "      <th>test_precision_weighted</th>\n",
       "      <th>test_precision</th>\n",
       "      <th>test_recall</th>\n",
       "      <th>test_f1</th>\n",
       "    </tr>\n",
       "  </thead>\n",
       "  <tbody>\n",
       "    <tr>\n",
       "      <th>0</th>\n",
       "      <td>0.005047</td>\n",
       "      <td>0.011034</td>\n",
       "      <td>0.747826</td>\n",
       "      <td>0.759036</td>\n",
       "      <td>0.546875</td>\n",
       "      <td>0.747826</td>\n",
       "      <td>0.870536</td>\n",
       "      <td>0.813121</td>\n",
       "      <td>1.000000</td>\n",
       "      <td>0.09375</td>\n",
       "      <td>0.171429</td>\n",
       "    </tr>\n",
       "    <tr>\n",
       "      <th>1</th>\n",
       "      <td>0.006238</td>\n",
       "      <td>0.007131</td>\n",
       "      <td>0.730435</td>\n",
       "      <td>0.788404</td>\n",
       "      <td>0.544428</td>\n",
       "      <td>0.730435</td>\n",
       "      <td>0.656085</td>\n",
       "      <td>0.693628</td>\n",
       "      <td>0.571429</td>\n",
       "      <td>0.12500</td>\n",
       "      <td>0.205128</td>\n",
       "    </tr>\n",
       "    <tr>\n",
       "      <th>2</th>\n",
       "      <td>0.005911</td>\n",
       "      <td>0.008020</td>\n",
       "      <td>0.739130</td>\n",
       "      <td>0.826807</td>\n",
       "      <td>0.550452</td>\n",
       "      <td>0.739130</td>\n",
       "      <td>0.704893</td>\n",
       "      <td>0.721845</td>\n",
       "      <td>0.666667</td>\n",
       "      <td>0.12500</td>\n",
       "      <td>0.210526</td>\n",
       "    </tr>\n",
       "    <tr>\n",
       "      <th>3</th>\n",
       "      <td>0.005023</td>\n",
       "      <td>0.008008</td>\n",
       "      <td>0.704348</td>\n",
       "      <td>0.690512</td>\n",
       "      <td>0.574360</td>\n",
       "      <td>0.704348</td>\n",
       "      <td>0.603947</td>\n",
       "      <td>0.672220</td>\n",
       "      <td>0.450000</td>\n",
       "      <td>0.28125</td>\n",
       "      <td>0.346154</td>\n",
       "    </tr>\n",
       "    <tr>\n",
       "      <th>4</th>\n",
       "      <td>0.004983</td>\n",
       "      <td>0.006986</td>\n",
       "      <td>0.747826</td>\n",
       "      <td>0.813253</td>\n",
       "      <td>0.556476</td>\n",
       "      <td>0.747826</td>\n",
       "      <td>0.772727</td>\n",
       "      <td>0.760632</td>\n",
       "      <td>0.800000</td>\n",
       "      <td>0.12500</td>\n",
       "      <td>0.216216</td>\n",
       "    </tr>\n",
       "  </tbody>\n",
       "</table>\n",
       "</div>"
      ],
      "text/plain": [
       "   fit_time  score_time  test_accuracy  test_roc_auc  test_recall_macro  \\\n",
       "0  0.005047    0.011034       0.747826      0.759036           0.546875   \n",
       "1  0.006238    0.007131       0.730435      0.788404           0.544428   \n",
       "2  0.005911    0.008020       0.739130      0.826807           0.550452   \n",
       "3  0.005023    0.008008       0.704348      0.690512           0.574360   \n",
       "4  0.004983    0.006986       0.747826      0.813253           0.556476   \n",
       "\n",
       "   test_recall_weighted  test_precision_macro  test_precision_weighted  \\\n",
       "0              0.747826              0.870536                 0.813121   \n",
       "1              0.730435              0.656085                 0.693628   \n",
       "2              0.739130              0.704893                 0.721845   \n",
       "3              0.704348              0.603947                 0.672220   \n",
       "4              0.747826              0.772727                 0.760632   \n",
       "\n",
       "   test_precision  test_recall   test_f1  \n",
       "0        1.000000      0.09375  0.171429  \n",
       "1        0.571429      0.12500  0.205128  \n",
       "2        0.666667      0.12500  0.210526  \n",
       "3        0.450000      0.28125  0.346154  \n",
       "4        0.800000      0.12500  0.216216  "
      ]
     },
     "execution_count": 5,
     "metadata": {},
     "output_type": "execute_result"
    }
   ],
   "source": [
    "pipe = Pipeline([(\"scaler\", MinMaxScaler()), (\"lr\", LogisticRegression())])\n",
    "res = cross_validate(pipe, X_train, y_train, scoring=['accuracy', 'roc_auc', 'recall_macro', \"recall_weighted\", \n",
    "                                           \"precision_macro\", \"precision_weighted\",\"precision\", \"recall\", \"f1\"])\n",
    "pd.DataFrame(res)"
   ]
  },
  {
   "cell_type": "markdown",
   "metadata": {},
   "source": [
    "## GridSearch w/ Pipeline"
   ]
  },
  {
   "cell_type": "code",
   "execution_count": 6,
   "metadata": {},
   "outputs": [
    {
     "name": "stdout",
     "output_type": "stream",
     "text": [
      "Best parameters: {'lr__C': 100, 'lr__max_iter': 500}\n",
      "Best Score: 0.580\n",
      "Best Test Score: 0.430\n"
     ]
    }
   ],
   "source": [
    "X_train, X_test, y_train, y_test = train_test_split(df_X, y, random_state=0)\n",
    "pipe = Pipeline([(\"scaler\", MinMaxScaler()), (\"lr\", LogisticRegression())])\n",
    "\n",
    "# when using pipeline, model name + two underbars + parameter name should be used instead of just paramter name\n",
    "param_grid = {'lr__C': [0.01, 1, 10, 100],\n",
    "              'lr__max_iter': [500, 1000, 2000]}\n",
    "# param_grid = {'C': [0.01, 1, 10, 100],            << 이러지 말라는 뜻! 오류난다.\n",
    "#               'max_iter': [500, 1000, 2000]}\n",
    "\n",
    "grid_search = GridSearchCV(pipe, param_grid=param_grid, scoring=\"f1\", cv=5, return_train_score=True)\n",
    "grid_search.fit(X_train, y_train)\n",
    "\n",
    "print(\"Best parameters:\", grid_search.best_params_)\n",
    "print(f\"Best Score: {grid_search.best_score_:.3f}\")\n",
    "print(f\"Best Test Score: {grid_search.score(X_test, y_test):.3f}\")"
   ]
  },
  {
   "cell_type": "markdown",
   "metadata": {},
   "source": [
    "## make_pipeline"
   ]
  },
  {
   "cell_type": "code",
   "execution_count": 7,
   "metadata": {},
   "outputs": [
    {
     "name": "stdout",
     "output_type": "stream",
     "text": [
      "Pipeline Steps:\n",
      " [('minmaxscaler', MinMaxScaler()), ('logisticregression', LogisticRegression())]\n"
     ]
    }
   ],
   "source": [
    "pipe_with_name = Pipeline([(\"scaler\", MinMaxScaler()), (\"lr\", LogisticRegression())])\n",
    "pipe_short = make_pipeline(MinMaxScaler(), LogisticRegression())\n",
    "\n",
    "print(\"Pipeline Steps:\\n\", pipe_short.steps)"
   ]
  },
  {
   "cell_type": "markdown",
   "metadata": {},
   "source": [
    "## SMOTE"
   ]
  },
  {
   "cell_type": "code",
   "execution_count": 8,
   "metadata": {},
   "outputs": [
    {
     "data": {
      "text/html": [
       "<div>\n",
       "<style scoped>\n",
       "    .dataframe tbody tr th:only-of-type {\n",
       "        vertical-align: middle;\n",
       "    }\n",
       "\n",
       "    .dataframe tbody tr th {\n",
       "        vertical-align: top;\n",
       "    }\n",
       "\n",
       "    .dataframe thead th {\n",
       "        text-align: right;\n",
       "    }\n",
       "</style>\n",
       "<table border=\"1\" class=\"dataframe\">\n",
       "  <thead>\n",
       "    <tr style=\"text-align: right;\">\n",
       "      <th></th>\n",
       "      <th>type</th>\n",
       "      <th>amount</th>\n",
       "      <th>oldbalanceOrig</th>\n",
       "      <th>oldbalanceDest</th>\n",
       "      <th>newbalanceDest</th>\n",
       "      <th>isFraud</th>\n",
       "    </tr>\n",
       "  </thead>\n",
       "  <tbody>\n",
       "    <tr>\n",
       "      <th>0</th>\n",
       "      <td>2</td>\n",
       "      <td>9839.64</td>\n",
       "      <td>170136.0</td>\n",
       "      <td>0.0</td>\n",
       "      <td>0.0</td>\n",
       "      <td>0</td>\n",
       "    </tr>\n",
       "    <tr>\n",
       "      <th>1</th>\n",
       "      <td>2</td>\n",
       "      <td>1864.28</td>\n",
       "      <td>21249.0</td>\n",
       "      <td>0.0</td>\n",
       "      <td>0.0</td>\n",
       "      <td>0</td>\n",
       "    </tr>\n",
       "    <tr>\n",
       "      <th>2</th>\n",
       "      <td>4</td>\n",
       "      <td>181.00</td>\n",
       "      <td>181.0</td>\n",
       "      <td>0.0</td>\n",
       "      <td>0.0</td>\n",
       "      <td>1</td>\n",
       "    </tr>\n",
       "    <tr>\n",
       "      <th>3</th>\n",
       "      <td>1</td>\n",
       "      <td>181.00</td>\n",
       "      <td>181.0</td>\n",
       "      <td>21182.0</td>\n",
       "      <td>0.0</td>\n",
       "      <td>1</td>\n",
       "    </tr>\n",
       "    <tr>\n",
       "      <th>4</th>\n",
       "      <td>2</td>\n",
       "      <td>11668.14</td>\n",
       "      <td>41554.0</td>\n",
       "      <td>0.0</td>\n",
       "      <td>0.0</td>\n",
       "      <td>0</td>\n",
       "    </tr>\n",
       "  </tbody>\n",
       "</table>\n",
       "</div>"
      ],
      "text/plain": [
       "   type    amount  oldbalanceOrig  oldbalanceDest  newbalanceDest  isFraud\n",
       "0     2   9839.64        170136.0             0.0             0.0        0\n",
       "1     2   1864.28         21249.0             0.0             0.0        0\n",
       "2     4    181.00           181.0             0.0             0.0        1\n",
       "3     1    181.00           181.0         21182.0             0.0        1\n",
       "4     2  11668.14         41554.0             0.0             0.0        0"
      ]
     },
     "metadata": {},
     "output_type": "display_data"
    }
   ],
   "source": [
    "fraud = Fraud()\n",
    "fraud.head()"
   ]
  },
  {
   "cell_type": "code",
   "execution_count": 9,
   "metadata": {},
   "outputs": [],
   "source": [
    "fraud.make_small()\n",
    "fraud.prepare_set()\n",
    "df_X = fraud.df_X\n",
    "df_y = fraud.df_y"
   ]
  },
  {
   "cell_type": "code",
   "execution_count": 10,
   "metadata": {},
   "outputs": [
    {
     "name": "stdout",
     "output_type": "stream",
     "text": [
      "0    476580\n",
      "1       616\n",
      "Name: isFraud, dtype: int64\n",
      "0.001292541344012187\n",
      "0    158861\n",
      "1       205\n",
      "Name: isFraud, dtype: int64\n"
     ]
    }
   ],
   "source": [
    "X_train, X_test, y_train, y_test = train_test_split(df_X, df_y, random_state=0, stratify=df_y)\n",
    "print(y_train.value_counts())\n",
    "print(6160/4765805)\n",
    "print(y_test.value_counts())"
   ]
  },
  {
   "cell_type": "markdown",
   "metadata": {},
   "source": [
    "## SMOTE-NC"
   ]
  },
  {
   "cell_type": "code",
   "execution_count": 11,
   "metadata": {},
   "outputs": [
    {
     "data": {
      "text/plain": [
       "0    476580\n",
       "1    142974\n",
       "Name: isFraud, dtype: int64"
      ]
     },
     "execution_count": 11,
     "metadata": {},
     "output_type": "execute_result"
    }
   ],
   "source": [
    "sm = SMOTENC(categorical_features=[0], random_state = 0, sampling_strategy=0.3, k_neighbors=3)\n",
    "X_sm_train, y_sm_train = sm.fit_resample(X_train, y_train)\n",
    "y_sm_train.value_counts()"
   ]
  },
  {
   "cell_type": "code",
   "execution_count": 12,
   "metadata": {},
   "outputs": [
    {
     "name": "stdout",
     "output_type": "stream",
     "text": [
      "Train Score: 0.8418297678652709\n",
      "Test Score: 0.9543585681415262\n"
     ]
    }
   ],
   "source": [
    "tree = DecisionTreeClassifier(random_state=0, max_depth=1)\n",
    "tree.fit(X_sm_train, y_sm_train)\n",
    "print(\"Train Score:\",tree.score(X_sm_train, y_sm_train))\n",
    "print(\"Test Score:\",tree.score(X_test, y_test))"
   ]
  },
  {
   "cell_type": "markdown",
   "metadata": {},
   "source": [
    "## SMOTENC with Pipeline"
   ]
  },
  {
   "cell_type": "code",
   "execution_count": 13,
   "metadata": {},
   "outputs": [
    {
     "name": "stdout",
     "output_type": "stream",
     "text": [
      "Test Score: 0.65\n"
     ]
    }
   ],
   "source": [
    "X_train, X_test, y_train, y_test = train_test_split(df_X, df_y, random_state=0)\n",
    "\n",
    "pipe = Pipeline([(\"smotenc\", SMOTENC(categorical_features=[0])), (\"tree\", DecisionTreeClassifier(max_depth=1))])\n",
    "pipe.fit(X_train, y_train)\n",
    "\n",
    "print(\"Test Score: {:.2f}\".format(pipe.score(X_test,y_test)))"
   ]
  },
  {
   "cell_type": "markdown",
   "metadata": {},
   "source": [
    "## SMOTENC with Pipeline using imblearn.pipeline"
   ]
  },
  {
   "cell_type": "code",
   "execution_count": 14,
   "metadata": {},
   "outputs": [
    {
     "name": "stdout",
     "output_type": "stream",
     "text": [
      "Test Score: 0.43\n"
     ]
    }
   ],
   "source": [
    "X_train, X_test, y_train, y_test = train_test_split(df_X, df_y, random_state=0)\n",
    "\n",
    "smt = SMOTENC(categorical_features=[0])\n",
    "lr = LogisticRegression(max_iter=1000)\n",
    "\n",
    "pipeline = Pipeline(steps=[('smote', smt), ('lr', lr)])\n",
    "\n",
    "# Preprocessing of training data, fit model \n",
    "pipeline.fit(X_train, y_train)\n",
    "\n",
    "\n",
    "print(\"Test Score: {:.2f}\".format(pipeline.score(X_test,y_test)))"
   ]
  },
  {
   "cell_type": "code",
   "execution_count": 15,
   "metadata": {},
   "outputs": [
    {
     "name": "stdout",
     "output_type": "stream",
     "text": [
      "Test Score: 0.92\n"
     ]
    }
   ],
   "source": [
    "X_train, X_test, y_train, y_test = train_test_split(df_X, df_y, random_state=0)\n",
    "\n",
    "pipeline = Pipeline(steps=[('scaler', MinMaxScaler()), \n",
    "                           ('smotenc', SMOTENC(categorical_features=[0])), \n",
    "                           ('lr', LogisticRegression())])\n",
    "\n",
    "# Preprocessing of training data, fit model \n",
    "pipeline.fit(X_train, y_train)\n",
    "\n",
    "print(\"Test Score: {:.2f}\".format(pipeline.score(X_test,y_test)))"
   ]
  },
  {
   "cell_type": "code",
   "execution_count": 16,
   "metadata": {},
   "outputs": [
    {
     "name": "stdout",
     "output_type": "stream",
     "text": [
      "Test Score: 0.92\n"
     ]
    }
   ],
   "source": [
    "pipeline = Pipeline(steps=[('smotenc', SMOTENC(categorical_features=[0])),\n",
    "                           ('scaler', MinMaxScaler()),\n",
    "                           ('lr', LogisticRegression())])\n",
    "\n",
    "# Preprocessing of training data, fit model \n",
    "pipeline.fit(X_train, y_train)\n",
    "\n",
    "print(\"Test Score: {:.2f}\".format(pipeline.score(X_test,y_test)))"
   ]
  },
  {
   "cell_type": "markdown",
   "metadata": {},
   "source": [
    "### scaling first or oversampling first?\n",
    "\n",
    "## SMOTE with Cross_validate Using imblean.pipeline"
   ]
  },
  {
   "cell_type": "code",
   "execution_count": 17,
   "metadata": {},
   "outputs": [
    {
     "data": {
      "text/html": [
       "<div>\n",
       "<style scoped>\n",
       "    .dataframe tbody tr th:only-of-type {\n",
       "        vertical-align: middle;\n",
       "    }\n",
       "\n",
       "    .dataframe tbody tr th {\n",
       "        vertical-align: top;\n",
       "    }\n",
       "\n",
       "    .dataframe thead th {\n",
       "        text-align: right;\n",
       "    }\n",
       "</style>\n",
       "<table border=\"1\" class=\"dataframe\">\n",
       "  <thead>\n",
       "    <tr style=\"text-align: right;\">\n",
       "      <th></th>\n",
       "      <th>fit_time</th>\n",
       "      <th>score_time</th>\n",
       "      <th>test_accuracy</th>\n",
       "      <th>test_roc_auc</th>\n",
       "      <th>test_recall_macro</th>\n",
       "      <th>test_recall_weighted</th>\n",
       "      <th>test_precision_macro</th>\n",
       "      <th>test_precision_weighted</th>\n",
       "      <th>test_precision</th>\n",
       "      <th>test_recall</th>\n",
       "      <th>test_f1</th>\n",
       "    </tr>\n",
       "  </thead>\n",
       "  <tbody>\n",
       "    <tr>\n",
       "      <th>0</th>\n",
       "      <td>7.784979</td>\n",
       "      <td>0.193427</td>\n",
       "      <td>0.918532</td>\n",
       "      <td>0.817239</td>\n",
       "      <td>0.803926</td>\n",
       "      <td>0.918532</td>\n",
       "      <td>0.505199</td>\n",
       "      <td>0.998289</td>\n",
       "      <td>0.010835</td>\n",
       "      <td>0.689024</td>\n",
       "      <td>0.021335</td>\n",
       "    </tr>\n",
       "    <tr>\n",
       "      <th>1</th>\n",
       "      <td>7.849821</td>\n",
       "      <td>0.206517</td>\n",
       "      <td>0.921023</td>\n",
       "      <td>0.834764</td>\n",
       "      <td>0.830327</td>\n",
       "      <td>0.921023</td>\n",
       "      <td>0.505839</td>\n",
       "      <td>0.998352</td>\n",
       "      <td>0.012045</td>\n",
       "      <td>0.739394</td>\n",
       "      <td>0.023703</td>\n",
       "    </tr>\n",
       "    <tr>\n",
       "      <th>2</th>\n",
       "      <td>7.876716</td>\n",
       "      <td>0.187320</td>\n",
       "      <td>0.920583</td>\n",
       "      <td>0.831739</td>\n",
       "      <td>0.820177</td>\n",
       "      <td>0.920583</td>\n",
       "      <td>0.505600</td>\n",
       "      <td>0.998334</td>\n",
       "      <td>0.011594</td>\n",
       "      <td>0.719512</td>\n",
       "      <td>0.022820</td>\n",
       "    </tr>\n",
       "    <tr>\n",
       "      <th>3</th>\n",
       "      <td>7.435799</td>\n",
       "      <td>0.208269</td>\n",
       "      <td>0.919915</td>\n",
       "      <td>0.769256</td>\n",
       "      <td>0.783305</td>\n",
       "      <td>0.919915</td>\n",
       "      <td>0.504928</td>\n",
       "      <td>0.998230</td>\n",
       "      <td>0.010353</td>\n",
       "      <td>0.646341</td>\n",
       "      <td>0.020379</td>\n",
       "    </tr>\n",
       "    <tr>\n",
       "      <th>4</th>\n",
       "      <td>7.773020</td>\n",
       "      <td>0.190136</td>\n",
       "      <td>0.919404</td>\n",
       "      <td>0.819129</td>\n",
       "      <td>0.804363</td>\n",
       "      <td>0.919404</td>\n",
       "      <td>0.505258</td>\n",
       "      <td>0.998290</td>\n",
       "      <td>0.010952</td>\n",
       "      <td>0.689024</td>\n",
       "      <td>0.021561</td>\n",
       "    </tr>\n",
       "  </tbody>\n",
       "</table>\n",
       "</div>"
      ],
      "text/plain": [
       "   fit_time  score_time  test_accuracy  test_roc_auc  test_recall_macro  \\\n",
       "0  7.784979    0.193427       0.918532      0.817239           0.803926   \n",
       "1  7.849821    0.206517       0.921023      0.834764           0.830327   \n",
       "2  7.876716    0.187320       0.920583      0.831739           0.820177   \n",
       "3  7.435799    0.208269       0.919915      0.769256           0.783305   \n",
       "4  7.773020    0.190136       0.919404      0.819129           0.804363   \n",
       "\n",
       "   test_recall_weighted  test_precision_macro  test_precision_weighted  \\\n",
       "0              0.918532              0.505199                 0.998289   \n",
       "1              0.921023              0.505839                 0.998352   \n",
       "2              0.920583              0.505600                 0.998334   \n",
       "3              0.919915              0.504928                 0.998230   \n",
       "4              0.919404              0.505258                 0.998290   \n",
       "\n",
       "   test_precision  test_recall   test_f1  \n",
       "0        0.010835     0.689024  0.021335  \n",
       "1        0.012045     0.739394  0.023703  \n",
       "2        0.011594     0.719512  0.022820  \n",
       "3        0.010353     0.646341  0.020379  \n",
       "4        0.010952     0.689024  0.021561  "
      ]
     },
     "execution_count": 17,
     "metadata": {},
     "output_type": "execute_result"
    }
   ],
   "source": [
    "pipeline = Pipeline(steps=[('scaler', MinMaxScaler()),\n",
    "                           ('smotenc', SMOTENC(categorical_features=[0])),\n",
    "                           ('lr', LogisticRegression())])\n",
    "\n",
    "res = cross_validate(pipeline, df_X, df_y, scoring=['accuracy', 'roc_auc', 'recall_macro', \"recall_weighted\", \n",
    "                                           \"precision_macro\", \"precision_weighted\",\"precision\", \"recall\", \"f1\"])\n",
    "pd.DataFrame(res)"
   ]
  },
  {
   "cell_type": "markdown",
   "metadata": {},
   "source": [
    "## SMOTE with GridSearch Using imblean.pipeline"
   ]
  },
  {
   "cell_type": "code",
   "execution_count": 18,
   "metadata": {},
   "outputs": [
    {
     "name": "stdout",
     "output_type": "stream",
     "text": [
      "Best parameters: {'lr__C': 10, 'lr__max_iter': 2000}\n",
      "Best Score: 0.023\n",
      "Best Test Score: 0.021\n",
      "Test Set Average Presicision Score: 0.025\n",
      "Test Set Average Score: 0.920\n"
     ]
    }
   ],
   "source": [
    "X_train, X_test, y_train, y_test = train_test_split(df_X, df_y, random_state=0)\n",
    "pipeline = Pipeline(steps=[('smotenc', SMOTENC(categorical_features=[0])),\n",
    "                           ('scaler', MinMaxScaler()),\n",
    "                           ('lr', LogisticRegression())])\n",
    "\n",
    "\n",
    "# when using pipeline, model name + two underbars + parameter name should be used instead of just paramter name\n",
    "param_grid = {'lr__C': [0.01, 1, 10, 100],\n",
    "              'lr__max_iter': [500, 1000, 2000]}\n",
    "\n",
    "grid_search = GridSearchCV(pipeline, param_grid=param_grid, scoring=\"f1\", cv=5, return_train_score=True)\n",
    "grid_search.fit(X_train, y_train)\n",
    "\n",
    "print(\"Best parameters:\", grid_search.best_params_)\n",
    "print(\"Best Score: {:.3f}\".format(grid_search.best_score_))\n",
    "print(\"Best Test Score: {:.3f}\".format(grid_search.score(X_test, y_test)))\n",
    "print(\"Test Set Average Presicision Score: {:.3f}\".format(\n",
    "      average_precision_score(y_test, grid_search.predict_proba(X_test)[:,1])))  \n",
    "print(\"Test Set Average Score: {:.3f}\".format(\n",
    "      accuracy_score(y_test, grid_search.predict(X_test))))"
   ]
  },
  {
   "cell_type": "code",
   "execution_count": 19,
   "metadata": {},
   "outputs": [
    {
     "name": "stdout",
     "output_type": "stream",
     "text": [
      "Best parameters: {'lr__C': 10, 'lr__max_iter': 1000}\n",
      "Best Score: 0.023\n",
      "Best Test Score: 0.021\n",
      "Test Set Average Presicision Score: 0.026\n",
      "Test Set Average Score: 0.921\n"
     ]
    }
   ],
   "source": [
    "X_train, X_test, y_train, y_test = train_test_split(df_X, df_y, random_state=0)\n",
    "pipeline = Pipeline(steps=[('scaler', MinMaxScaler()),\n",
    "                           ('smotenc', SMOTENC(categorical_features=[0])),\n",
    "                           ('lr', LogisticRegression())])\n",
    "\n",
    "\n",
    "# when using pipeline, model name + two underbars + parameter name should be used instead of just paramter name\n",
    "param_grid = {'lr__C': [0.01, 1, 10, 100],\n",
    "              'lr__max_iter': [500, 1000, 2000]}\n",
    "\n",
    "grid_search = GridSearchCV(pipeline, param_grid=param_grid, scoring=\"f1\", cv=5, return_train_score=True)\n",
    "grid_search.fit(X_train, y_train)\n",
    "\n",
    "print(\"Best parameters:\", grid_search.best_params_)\n",
    "print(\"Best Score: {:.3f}\".format(grid_search.best_score_))\n",
    "print(\"Best Test Score: {:.3f}\".format(grid_search.score(X_test, y_test)))\n",
    "print(\"Test Set Average Presicision Score: {:.3f}\".format(\n",
    "      average_precision_score(y_test, grid_search.predict_proba(X_test)[:,1])))  \n",
    "print(\"Test Set Average Score: {:.3f}\".format(\n",
    "      accuracy_score(y_test, grid_search.predict(X_test))))"
   ]
  }
 ],
 "metadata": {
  "kernelspec": {
   "display_name": "base",
   "language": "python",
   "name": "python3"
  },
  "language_info": {
   "codemirror_mode": {
    "name": "ipython",
    "version": 3
   },
   "file_extension": ".py",
   "mimetype": "text/x-python",
   "name": "python",
   "nbconvert_exporter": "python",
   "pygments_lexer": "ipython3",
   "version": "3.10.9"
  }
 },
 "nbformat": 4,
 "nbformat_minor": 2
}
