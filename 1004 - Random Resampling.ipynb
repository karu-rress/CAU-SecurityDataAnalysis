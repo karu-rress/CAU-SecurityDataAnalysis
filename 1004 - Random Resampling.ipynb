{
 "cells": [
  {
   "cell_type": "markdown",
   "metadata": {},
   "source": [
    "## Random Resampling\n",
    "- Oversampling: duplicate examples from the minority class -> CAN BE OVERFITTING!!!\n",
    "- Undersampling: deleting examples from the majority class -> CAN LOSE INFORMATION!!!\n",
    "\n",
    "=> SMOTE: kNN 알고리즘으로 합성 데이터 제작.\n",
    "- 특정 점을 하나 선택하고, 그 주위로 k개의 점을 고름.\n",
    "- 그리고 그 k개의 점이 이루는 도형 안에 있는 점을 무작위로 pick함."
   ]
  },
  {
   "cell_type": "markdown",
   "metadata": {},
   "source": [
    "샘플링 시, 진짜 찾을 데이터를 양성 클래스로 분류해야 함. (ex. fraud 데이터를 1로. non-fraud를 0으로.)"
   ]
  },
  {
   "cell_type": "code",
   "execution_count": 34,
   "metadata": {},
   "outputs": [],
   "source": [
    "import matplotlib.pyplot        as plt\n",
    "import numpy                    as np\n",
    "import pandas                   as pd\n",
    "import seaborn                  as sns\n",
    "from imblearn.over_sampling     import RandomOverSampler\n",
    "from imblearn.over_sampling     import BorderlineSMOTE\n",
    "from imblearn.over_sampling     import SMOTE\n",
    "from imblearn.over_sampling     import SMOTENC\n",
    "from imblearn.under_sampling    import RandomUnderSampler\n",
    "from sklearn.metrics            import ConfusionMatrixDisplay\n",
    "from sklearn.metrics            import confusion_matrix\n",
    "from sklearn.model_selection    import train_test_split\n",
    "from sklearn.neighbors          import KNeighborsClassifier"
   ]
  },
  {
   "cell_type": "code",
   "execution_count": 35,
   "metadata": {},
   "outputs": [],
   "source": [
    "df_read = pd.read_csv('data/2_fraud_ex.csv')"
   ]
  },
  {
   "cell_type": "code",
   "execution_count": 36,
   "metadata": {},
   "outputs": [],
   "source": [
    "df = df_read.copy()\n",
    "df.rename(columns = {'oldbalanceOrg':'oldbalanceOrig'}, inplace=True)\n",
    "df_renamed = df[['type','amount','oldbalanceOrig', 'oldbalanceDest','newbalanceDest','isFraud']]"
   ]
  },
  {
   "cell_type": "code",
   "execution_count": 37,
   "metadata": {},
   "outputs": [
    {
     "name": "stderr",
     "output_type": "stream",
     "text": [
      "C:\\Users\\nsun5\\AppData\\Local\\Temp\\ipykernel_31676\\993953800.py:2: SettingWithCopyWarning: \n",
      "A value is trying to be set on a copy of a slice from a DataFrame.\n",
      "Try using .loc[row_indexer,col_indexer] = value instead\n",
      "\n",
      "See the caveats in the documentation: https://pandas.pydata.org/pandas-docs/stable/user_guide/indexing.html#returning-a-view-versus-a-copy\n",
      "  df_renamed['type'] = df_renamed['type'].apply(lambda x: d.get(x, 4))\n"
     ]
    },
    {
     "data": {
      "text/html": [
       "<div>\n",
       "<style scoped>\n",
       "    .dataframe tbody tr th:only-of-type {\n",
       "        vertical-align: middle;\n",
       "    }\n",
       "\n",
       "    .dataframe tbody tr th {\n",
       "        vertical-align: top;\n",
       "    }\n",
       "\n",
       "    .dataframe thead th {\n",
       "        text-align: right;\n",
       "    }\n",
       "</style>\n",
       "<table border=\"1\" class=\"dataframe\">\n",
       "  <thead>\n",
       "    <tr style=\"text-align: right;\">\n",
       "      <th></th>\n",
       "      <th>type</th>\n",
       "      <th>amount</th>\n",
       "      <th>oldbalanceOrig</th>\n",
       "      <th>oldbalanceDest</th>\n",
       "      <th>newbalanceDest</th>\n",
       "      <th>isFraud</th>\n",
       "    </tr>\n",
       "  </thead>\n",
       "  <tbody>\n",
       "    <tr>\n",
       "      <th>0</th>\n",
       "      <td>2</td>\n",
       "      <td>9839.64</td>\n",
       "      <td>170136.0</td>\n",
       "      <td>0.0</td>\n",
       "      <td>0.0</td>\n",
       "      <td>0</td>\n",
       "    </tr>\n",
       "    <tr>\n",
       "      <th>1</th>\n",
       "      <td>2</td>\n",
       "      <td>1864.28</td>\n",
       "      <td>21249.0</td>\n",
       "      <td>0.0</td>\n",
       "      <td>0.0</td>\n",
       "      <td>0</td>\n",
       "    </tr>\n",
       "    <tr>\n",
       "      <th>2</th>\n",
       "      <td>4</td>\n",
       "      <td>181.00</td>\n",
       "      <td>181.0</td>\n",
       "      <td>0.0</td>\n",
       "      <td>0.0</td>\n",
       "      <td>1</td>\n",
       "    </tr>\n",
       "    <tr>\n",
       "      <th>3</th>\n",
       "      <td>1</td>\n",
       "      <td>181.00</td>\n",
       "      <td>181.0</td>\n",
       "      <td>21182.0</td>\n",
       "      <td>0.0</td>\n",
       "      <td>1</td>\n",
       "    </tr>\n",
       "    <tr>\n",
       "      <th>4</th>\n",
       "      <td>2</td>\n",
       "      <td>11668.14</td>\n",
       "      <td>41554.0</td>\n",
       "      <td>0.0</td>\n",
       "      <td>0.0</td>\n",
       "      <td>0</td>\n",
       "    </tr>\n",
       "  </tbody>\n",
       "</table>\n",
       "</div>"
      ],
      "text/plain": [
       "   type    amount  oldbalanceOrig  oldbalanceDest  newbalanceDest  isFraud\n",
       "0     2   9839.64        170136.0             0.0             0.0        0\n",
       "1     2   1864.28         21249.0             0.0             0.0        0\n",
       "2     4    181.00           181.0             0.0             0.0        1\n",
       "3     1    181.00           181.0         21182.0             0.0        1\n",
       "4     2  11668.14         41554.0             0.0             0.0        0"
      ]
     },
     "execution_count": 37,
     "metadata": {},
     "output_type": "execute_result"
    }
   ],
   "source": [
    "d = { 'CASH_IN': 0, 'CASH_OUT': 1, 'PAYMENT': 2, 'DEBIT': 3 }\n",
    "df_renamed['type'] = df_renamed['type'].apply(lambda x: d.get(x, 4))\n",
    "df_renamed.head()"
   ]
  },
  {
   "cell_type": "code",
   "execution_count": 38,
   "metadata": {},
   "outputs": [],
   "source": [
    "_, df_small, _, _ = train_test_split(df_renamed, df_renamed['isFraud'],\n",
    "    test_size = 0.1, random_state=0, stratify=df_renamed['isFraud'])"
   ]
  },
  {
   "cell_type": "code",
   "execution_count": 39,
   "metadata": {},
   "outputs": [],
   "source": [
    "df_X=df_small.drop(columns=['isFraud'])\n",
    "df_y=df_small['isFraud']\n",
    "X_train, X_test, y_train, y_test = train_test_split(df_X, df_y, random_state=0, stratify=df_y)"
   ]
  },
  {
   "cell_type": "code",
   "execution_count": 40,
   "metadata": {},
   "outputs": [
    {
     "name": "stdout",
     "output_type": "stream",
     "text": [
      "0.9994928708539049\n",
      "0.9992393094690254\n"
     ]
    }
   ],
   "source": [
    "clf = KNeighborsClassifier(n_neighbors=3).fit(X_train, y_train)\n",
    "print(clf.score(X_train, y_train)) # 얜 당연히 잘 나와야 하는 거고\n",
    "print(clf.score(X_test, y_test))   # 나쁘지 않군."
   ]
  },
  {
   "cell_type": "markdown",
   "metadata": {},
   "source": [
    "2사분면과 4사분면의 데이터는 정확함. (모델의 예측이 실제 값과 동일함.)\\\n",
    "그러나 1사분면(1종오류)과 3사분면(2종오류)의 예측이 틀림.\\\n",
    "그런데, Non-Fraud 데이터는 잘 맞추지만 (158825:36) Fraud 데이터는 거의 못 맞춤 (120:85)\\\n",
    "불균형 데이터는 이런 문제가 있음. 스코어가 아무리 잘 나와도 소수 클래스를 잘 맞추지 못함."
   ]
  },
  {
   "cell_type": "code",
   "execution_count": 41,
   "metadata": {},
   "outputs": [
    {
     "data": {
      "text/html": [
       "<div>\n",
       "<style scoped>\n",
       "    .dataframe tbody tr th:only-of-type {\n",
       "        vertical-align: middle;\n",
       "    }\n",
       "\n",
       "    .dataframe tbody tr th {\n",
       "        vertical-align: top;\n",
       "    }\n",
       "\n",
       "    .dataframe thead th {\n",
       "        text-align: right;\n",
       "    }\n",
       "</style>\n",
       "<table border=\"1\" class=\"dataframe\">\n",
       "  <thead>\n",
       "    <tr style=\"text-align: right;\">\n",
       "      <th></th>\n",
       "      <th>isFraud</th>\n",
       "    </tr>\n",
       "  </thead>\n",
       "  <tbody>\n",
       "    <tr>\n",
       "      <th>0</th>\n",
       "      <td>476580</td>\n",
       "    </tr>\n",
       "    <tr>\n",
       "      <th>1</th>\n",
       "      <td>476580</td>\n",
       "    </tr>\n",
       "  </tbody>\n",
       "</table>\n",
       "</div>"
      ],
      "text/plain": [
       "   isFraud\n",
       "0   476580\n",
       "1   476580"
      ]
     },
     "execution_count": 41,
     "metadata": {},
     "output_type": "execute_result"
    }
   ],
   "source": [
    "oversample = RandomOverSampler(sampling_strategy='minority')\n",
    "X_over_train, y_over_train = oversample.fit_resample(X_train, y_train)\n",
    "pd.DataFrame(y_over_train.value_counts())"
   ]
  },
  {
   "cell_type": "code",
   "execution_count": 42,
   "metadata": {},
   "outputs": [
    {
     "data": {
      "image/png": "[encoded data removed]",
      "text/plain": [
       "<Figure size 640x480 with 2 Axes>"
      ]
     },
     "metadata": {},
     "output_type": "display_data"
    }
   ],
   "source": [
    "ConfusionMatrixDisplay.from_estimator(clf, X_test, y_test, display_labels=['Non-Fraud', 'Fraud'])\n",
    "plt.show()"
   ]
  },
  {
   "cell_type": "code",
   "execution_count": 43,
   "metadata": {},
   "outputs": [
    {
     "data": {
      "text/html": [
       "<div>\n",
       "<style scoped>\n",
       "    .dataframe tbody tr th:only-of-type {\n",
       "        vertical-align: middle;\n",
       "    }\n",
       "\n",
       "    .dataframe tbody tr th {\n",
       "        vertical-align: top;\n",
       "    }\n",
       "\n",
       "    .dataframe thead th {\n",
       "        text-align: right;\n",
       "    }\n",
       "</style>\n",
       "<table border=\"1\" class=\"dataframe\">\n",
       "  <thead>\n",
       "    <tr style=\"text-align: right;\">\n",
       "      <th></th>\n",
       "      <th>isFraud</th>\n",
       "    </tr>\n",
       "  </thead>\n",
       "  <tbody>\n",
       "    <tr>\n",
       "      <th>0</th>\n",
       "      <td>476580</td>\n",
       "    </tr>\n",
       "    <tr>\n",
       "      <th>1</th>\n",
       "      <td>238290</td>\n",
       "    </tr>\n",
       "  </tbody>\n",
       "</table>\n",
       "</div>"
      ],
      "text/plain": [
       "   isFraud\n",
       "0   476580\n",
       "1   238290"
      ]
     },
     "execution_count": 43,
     "metadata": {},
     "output_type": "execute_result"
    }
   ],
   "source": [
    "oversample = RandomOverSampler(sampling_strategy=0.5)\n",
    "X_over_train, y_over_train = oversample.fit_resample(X_train, y_train)\n",
    "pd.DataFrame(y_over_train.value_counts())"
   ]
  },
  {
   "cell_type": "markdown",
   "metadata": {},
   "source": [
    "변화가 없음."
   ]
  },
  {
   "cell_type": "markdown",
   "metadata": {},
   "source": [
    "## Undersampling"
   ]
  },
  {
   "cell_type": "markdown",
   "metadata": {},
   "source": [
    "non-fraud의 수가 줄어듦."
   ]
  },
  {
   "cell_type": "code",
   "execution_count": 44,
   "metadata": {},
   "outputs": [
    {
     "data": {
      "text/html": [
       "<div>\n",
       "<style scoped>\n",
       "    .dataframe tbody tr th:only-of-type {\n",
       "        vertical-align: middle;\n",
       "    }\n",
       "\n",
       "    .dataframe tbody tr th {\n",
       "        vertical-align: top;\n",
       "    }\n",
       "\n",
       "    .dataframe thead th {\n",
       "        text-align: right;\n",
       "    }\n",
       "</style>\n",
       "<table border=\"1\" class=\"dataframe\">\n",
       "  <thead>\n",
       "    <tr style=\"text-align: right;\">\n",
       "      <th></th>\n",
       "      <th>isFraud</th>\n",
       "    </tr>\n",
       "  </thead>\n",
       "  <tbody>\n",
       "    <tr>\n",
       "      <th>0</th>\n",
       "      <td>616</td>\n",
       "    </tr>\n",
       "    <tr>\n",
       "      <th>1</th>\n",
       "      <td>616</td>\n",
       "    </tr>\n",
       "  </tbody>\n",
       "</table>\n",
       "</div>"
      ],
      "text/plain": [
       "   isFraud\n",
       "0      616\n",
       "1      616"
      ]
     },
     "execution_count": 44,
     "metadata": {},
     "output_type": "execute_result"
    }
   ],
   "source": [
    "undersample = RandomUnderSampler(sampling_strategy='majority')\n",
    "X_under_train, y_under_train = undersample.fit_resample(X_train, y_train)\n",
    "pd.DataFrame(y_under_train.value_counts())"
   ]
  },
  {
   "cell_type": "code",
   "execution_count": 45,
   "metadata": {},
   "outputs": [
    {
     "name": "stdout",
     "output_type": "stream",
     "text": [
      "Train Score: 0.939935064935065\n",
      "Test Score: 0.8969358631008513\n"
     ]
    }
   ],
   "source": [
    "clf = KNeighborsClassifier(n_neighbors = 3).fit(X_under_train, y_under_train) \n",
    "print(\"Train Score:\",clf.score(X_under_train, y_under_train))\n",
    "print(\"Test Score:\",clf.score(X_test, y_test))"
   ]
  },
  {
   "cell_type": "code",
   "execution_count": 46,
   "metadata": {},
   "outputs": [
    {
     "data": {
      "text/html": [
       "<div>\n",
       "<style scoped>\n",
       "    .dataframe tbody tr th:only-of-type {\n",
       "        vertical-align: middle;\n",
       "    }\n",
       "\n",
       "    .dataframe tbody tr th {\n",
       "        vertical-align: top;\n",
       "    }\n",
       "\n",
       "    .dataframe thead th {\n",
       "        text-align: right;\n",
       "    }\n",
       "</style>\n",
       "<table border=\"1\" class=\"dataframe\">\n",
       "  <thead>\n",
       "    <tr style=\"text-align: right;\">\n",
       "      <th></th>\n",
       "      <th>isFraud</th>\n",
       "    </tr>\n",
       "  </thead>\n",
       "  <tbody>\n",
       "    <tr>\n",
       "      <th>0</th>\n",
       "      <td>616</td>\n",
       "    </tr>\n",
       "    <tr>\n",
       "      <th>1</th>\n",
       "      <td>616</td>\n",
       "    </tr>\n",
       "  </tbody>\n",
       "</table>\n",
       "</div>"
      ],
      "text/plain": [
       "   isFraud\n",
       "0      616\n",
       "1      616"
      ]
     },
     "execution_count": 46,
     "metadata": {},
     "output_type": "execute_result"
    }
   ],
   "source": [
    "undersample = RandomUnderSampler(sampling_strategy='auto')\n",
    "X_under_train, y_under_train = undersample.fit_resample(X_train, y_train)\n",
    "pd.DataFrame(y_under_train.value_counts())"
   ]
  },
  {
   "cell_type": "code",
   "execution_count": 47,
   "metadata": {},
   "outputs": [
    {
     "data": {
      "image/png": "[encoded data removed]",
      "text/plain": [
       "<Figure size 640x480 with 2 Axes>"
      ]
     },
     "metadata": {},
     "output_type": "display_data"
    }
   ],
   "source": [
    "ConfusionMatrixDisplay.from_estimator(clf, X_test, y_test, display_labels=['Non-Fraud', 'Fraud'])\n",
    "plt.show()"
   ]
  },
  {
   "cell_type": "markdown",
   "metadata": {},
   "source": [
    "Fraud 데이터는 잘 맞추게 됐지만 이젠 Non-Fraud를 제대로 못 맞춤..."
   ]
  },
  {
   "cell_type": "code",
   "execution_count": 48,
   "metadata": {},
   "outputs": [
    {
     "name": "stdout",
     "output_type": "stream",
     "text": [
      "Train Score: 0.9561688311688312\n",
      "Test Score: 0.8865439503099343\n"
     ]
    }
   ],
   "source": [
    "clf = KNeighborsClassifier(n_neighbors = 3).fit(X_under_train, y_under_train) \n",
    "print(\"Train Score:\",clf.score(X_under_train, y_under_train))\n",
    "print(\"Test Score:\",clf.score(X_test, y_test))"
   ]
  },
  {
   "cell_type": "code",
   "execution_count": 49,
   "metadata": {},
   "outputs": [
    {
     "data": {
      "image/png": "[encoded data removed]",
      "text/plain": [
       "<Figure size 640x480 with 2 Axes>"
      ]
     },
     "metadata": {},
     "output_type": "display_data"
    }
   ],
   "source": [
    "ConfusionMatrixDisplay.from_estimator(clf, X_test, y_test, display_labels=['Non-Fraud', 'Fraud'])\n",
    "plt.show()"
   ]
  },
  {
   "cell_type": "markdown",
   "metadata": {},
   "source": [
    "## SMOTE (Synthetic Minority Oversampling Technique)"
   ]
  },
  {
   "cell_type": "code",
   "execution_count": 50,
   "metadata": {},
   "outputs": [],
   "source": [
    "df_c = df_small[['amount','oldbalanceOrig', 'oldbalanceDest','newbalanceDest','isFraud']]\n",
    "df_X = df_c.drop(columns=['isFraud'])\n",
    "df_y = df_c['isFraud']"
   ]
  },
  {
   "cell_type": "code",
   "execution_count": null,
   "metadata": {},
   "outputs": [],
   "source": [
    "X_train, X_test, y_train, y_test = train_test_split(df_X, df_y, random_state=0, stratify=df_y)"
   ]
  },
  {
   "cell_type": "markdown",
   "metadata": {},
   "source": [
    "SMOTE도 마찬가지로 train 셋에만 적용함."
   ]
  },
  {
   "cell_type": "code",
   "execution_count": 51,
   "metadata": {},
   "outputs": [
    {
     "data": {
      "text/html": [
       "<div>\n",
       "<style scoped>\n",
       "    .dataframe tbody tr th:only-of-type {\n",
       "        vertical-align: middle;\n",
       "    }\n",
       "\n",
       "    .dataframe tbody tr th {\n",
       "        vertical-align: top;\n",
       "    }\n",
       "\n",
       "    .dataframe thead th {\n",
       "        text-align: right;\n",
       "    }\n",
       "</style>\n",
       "<table border=\"1\" class=\"dataframe\">\n",
       "  <thead>\n",
       "    <tr style=\"text-align: right;\">\n",
       "      <th></th>\n",
       "      <th>isFraud</th>\n",
       "    </tr>\n",
       "  </thead>\n",
       "  <tbody>\n",
       "    <tr>\n",
       "      <th>0</th>\n",
       "      <td>476580</td>\n",
       "    </tr>\n",
       "    <tr>\n",
       "      <th>1</th>\n",
       "      <td>476580</td>\n",
       "    </tr>\n",
       "  </tbody>\n",
       "</table>\n",
       "</div>"
      ],
      "text/plain": [
       "   isFraud\n",
       "0   476580\n",
       "1   476580"
      ]
     },
     "execution_count": 51,
     "metadata": {},
     "output_type": "execute_result"
    }
   ],
   "source": [
    "from imblearn.over_sampling import SMOTE\n",
    "sm = SMOTE(random_state=0)\n",
    "X_sm_train, y_sm_train = sm.fit_resample(X_train, y_train)\n",
    "pd.DataFrame(y_sm_train.value_counts())"
   ]
  },
  {
   "cell_type": "code",
   "execution_count": 52,
   "metadata": {},
   "outputs": [
    {
     "name": "stdout",
     "output_type": "stream",
     "text": [
      "Train Score: 0.9977485416928952\n",
      "Test Score: 0.9931474985226258\n"
     ]
    },
    {
     "data": {
      "image/png": "[encoded data removed]",
      "text/plain": [
       "<Figure size 640x480 with 2 Axes>"
      ]
     },
     "metadata": {},
     "output_type": "display_data"
    }
   ],
   "source": [
    "clf = KNeighborsClassifier(n_neighbors = 3).fit(X_sm_train, y_sm_train)\n",
    "print(\"Train Score:\",clf.score(X_sm_train, y_sm_train))\n",
    "print(\"Test Score:\",clf.score(X_test, y_test))\n",
    "ConfusionMatrixDisplay.from_estimator(clf, X_test, y_test, display_labels=['Non-Fraud', 'Fraud'])\n",
    "plt.show()"
   ]
  },
  {
   "cell_type": "code",
   "execution_count": 53,
   "metadata": {},
   "outputs": [
    {
     "data": {
      "text/html": [
       "<div>\n",
       "<style scoped>\n",
       "    .dataframe tbody tr th:only-of-type {\n",
       "        vertical-align: middle;\n",
       "    }\n",
       "\n",
       "    .dataframe tbody tr th {\n",
       "        vertical-align: top;\n",
       "    }\n",
       "\n",
       "    .dataframe thead th {\n",
       "        text-align: right;\n",
       "    }\n",
       "</style>\n",
       "<table border=\"1\" class=\"dataframe\">\n",
       "  <thead>\n",
       "    <tr style=\"text-align: right;\">\n",
       "      <th></th>\n",
       "      <th>isFraud</th>\n",
       "    </tr>\n",
       "  </thead>\n",
       "  <tbody>\n",
       "    <tr>\n",
       "      <th>0</th>\n",
       "      <td>476580</td>\n",
       "    </tr>\n",
       "    <tr>\n",
       "      <th>1</th>\n",
       "      <td>238290</td>\n",
       "    </tr>\n",
       "  </tbody>\n",
       "</table>\n",
       "</div>"
      ],
      "text/plain": [
       "   isFraud\n",
       "0   476580\n",
       "1   238290"
      ]
     },
     "execution_count": 53,
     "metadata": {},
     "output_type": "execute_result"
    }
   ],
   "source": [
    "sm = SMOTE(random_state = 0, sampling_strategy=0.5)\n",
    "X_sm_train, y_sm_train = sm.fit_resample(X_train, y_train)\n",
    "pd.DataFrame(y_sm_train.value_counts())"
   ]
  },
  {
   "cell_type": "code",
   "execution_count": 54,
   "metadata": {},
   "outputs": [
    {
     "name": "stdout",
     "output_type": "stream",
     "text": [
      "Train Score: 0.9971323457411837\n",
      "Test Score: 0.9934555467541775\n"
     ]
    },
    {
     "data": {
      "image/png": "[encoded data removed]",
      "text/plain": [
       "<Figure size 640x480 with 2 Axes>"
      ]
     },
     "metadata": {},
     "output_type": "display_data"
    }
   ],
   "source": [
    "clf = KNeighborsClassifier(n_neighbors = 3).fit(X_sm_train, y_sm_train)\n",
    "print(\"Train Score:\",clf.score(X_sm_train, y_sm_train))\n",
    "print(\"Test Score:\",clf.score(X_test, y_test))                                                                                                                   \n",
    "ConfusionMatrixDisplay.from_estimator(clf, X_test, y_test, display_labels=['Non-Fraud', 'Fraud'])\n",
    "plt.show()"
   ]
  },
  {
   "cell_type": "markdown",
   "metadata": {},
   "source": [
    "## SMOTE-NC"
   ]
  },
  {
   "cell_type": "markdown",
   "metadata": {},
   "source": [
    "- SMOTE-NC: 범주형 & 연속형 자료 (어느 것이 범주형인지 명시해야 함)\n",
    "- SMOTEN: 범주형 자료만\n",
    "- Borderline-SMOTE: 두 자료의 경계선 근처에 샘플을 생성하려 분류 능력을 향상시킴\n",
    "  - Borderline-SMOTE1\n",
    "  - Borderline-SMOTE2"
   ]
  },
  {
   "cell_type": "code",
   "execution_count": 55,
   "metadata": {},
   "outputs": [
    {
     "data": {
      "text/html": [
       "<div>\n",
       "<style scoped>\n",
       "    .dataframe tbody tr th:only-of-type {\n",
       "        vertical-align: middle;\n",
       "    }\n",
       "\n",
       "    .dataframe tbody tr th {\n",
       "        vertical-align: top;\n",
       "    }\n",
       "\n",
       "    .dataframe thead th {\n",
       "        text-align: right;\n",
       "    }\n",
       "</style>\n",
       "<table border=\"1\" class=\"dataframe\">\n",
       "  <thead>\n",
       "    <tr style=\"text-align: right;\">\n",
       "      <th></th>\n",
       "      <th>type</th>\n",
       "      <th>amount</th>\n",
       "      <th>oldbalanceOrig</th>\n",
       "      <th>oldbalanceDest</th>\n",
       "      <th>newbalanceDest</th>\n",
       "      <th>isFraud</th>\n",
       "    </tr>\n",
       "  </thead>\n",
       "  <tbody>\n",
       "    <tr>\n",
       "      <th>3719254</th>\n",
       "      <td>2</td>\n",
       "      <td>6160.39</td>\n",
       "      <td>0.00</td>\n",
       "      <td>0.00</td>\n",
       "      <td>0.00</td>\n",
       "      <td>0</td>\n",
       "    </tr>\n",
       "    <tr>\n",
       "      <th>3279306</th>\n",
       "      <td>0</td>\n",
       "      <td>316320.65</td>\n",
       "      <td>3890701.15</td>\n",
       "      <td>618799.45</td>\n",
       "      <td>302478.79</td>\n",
       "      <td>0</td>\n",
       "    </tr>\n",
       "    <tr>\n",
       "      <th>1641602</th>\n",
       "      <td>1</td>\n",
       "      <td>166964.42</td>\n",
       "      <td>0.00</td>\n",
       "      <td>243536.23</td>\n",
       "      <td>410500.65</td>\n",
       "      <td>0</td>\n",
       "    </tr>\n",
       "    <tr>\n",
       "      <th>1845883</th>\n",
       "      <td>2</td>\n",
       "      <td>6043.35</td>\n",
       "      <td>125894.50</td>\n",
       "      <td>0.00</td>\n",
       "      <td>0.00</td>\n",
       "      <td>0</td>\n",
       "    </tr>\n",
       "    <tr>\n",
       "      <th>3125087</th>\n",
       "      <td>2</td>\n",
       "      <td>11022.05</td>\n",
       "      <td>42039.00</td>\n",
       "      <td>0.00</td>\n",
       "      <td>0.00</td>\n",
       "      <td>0</td>\n",
       "    </tr>\n",
       "    <tr>\n",
       "      <th>...</th>\n",
       "      <td>...</td>\n",
       "      <td>...</td>\n",
       "      <td>...</td>\n",
       "      <td>...</td>\n",
       "      <td>...</td>\n",
       "      <td>...</td>\n",
       "    </tr>\n",
       "    <tr>\n",
       "      <th>6301803</th>\n",
       "      <td>4</td>\n",
       "      <td>117050.17</td>\n",
       "      <td>0.00</td>\n",
       "      <td>1166125.57</td>\n",
       "      <td>1283175.74</td>\n",
       "      <td>0</td>\n",
       "    </tr>\n",
       "    <tr>\n",
       "      <th>2591148</th>\n",
       "      <td>1</td>\n",
       "      <td>127019.75</td>\n",
       "      <td>432455.34</td>\n",
       "      <td>774931.13</td>\n",
       "      <td>901950.88</td>\n",
       "      <td>0</td>\n",
       "    </tr>\n",
       "    <tr>\n",
       "      <th>2137751</th>\n",
       "      <td>1</td>\n",
       "      <td>81754.37</td>\n",
       "      <td>0.00</td>\n",
       "      <td>1033822.94</td>\n",
       "      <td>1115577.31</td>\n",
       "      <td>0</td>\n",
       "    </tr>\n",
       "    <tr>\n",
       "      <th>5203113</th>\n",
       "      <td>1</td>\n",
       "      <td>31114.67</td>\n",
       "      <td>0.00</td>\n",
       "      <td>14410672.37</td>\n",
       "      <td>14441787.04</td>\n",
       "      <td>0</td>\n",
       "    </tr>\n",
       "    <tr>\n",
       "      <th>2273746</th>\n",
       "      <td>2</td>\n",
       "      <td>8734.05</td>\n",
       "      <td>290534.22</td>\n",
       "      <td>0.00</td>\n",
       "      <td>0.00</td>\n",
       "      <td>0</td>\n",
       "    </tr>\n",
       "  </tbody>\n",
       "</table>\n",
       "<p>636262 rows × 6 columns</p>\n",
       "</div>"
      ],
      "text/plain": [
       "         type     amount  oldbalanceOrig  oldbalanceDest  newbalanceDest  \\\n",
       "3719254     2    6160.39            0.00            0.00            0.00   \n",
       "3279306     0  316320.65      3890701.15       618799.45       302478.79   \n",
       "1641602     1  166964.42            0.00       243536.23       410500.65   \n",
       "1845883     2    6043.35       125894.50            0.00            0.00   \n",
       "3125087     2   11022.05        42039.00            0.00            0.00   \n",
       "...       ...        ...             ...             ...             ...   \n",
       "6301803     4  117050.17            0.00      1166125.57      1283175.74   \n",
       "2591148     1  127019.75       432455.34       774931.13       901950.88   \n",
       "2137751     1   81754.37            0.00      1033822.94      1115577.31   \n",
       "5203113     1   31114.67            0.00     14410672.37     14441787.04   \n",
       "2273746     2    8734.05       290534.22            0.00            0.00   \n",
       "\n",
       "         isFraud  \n",
       "3719254        0  \n",
       "3279306        0  \n",
       "1641602        0  \n",
       "1845883        0  \n",
       "3125087        0  \n",
       "...          ...  \n",
       "6301803        0  \n",
       "2591148        0  \n",
       "2137751        0  \n",
       "5203113        0  \n",
       "2273746        0  \n",
       "\n",
       "[636262 rows x 6 columns]"
      ]
     },
     "execution_count": 55,
     "metadata": {},
     "output_type": "execute_result"
    }
   ],
   "source": [
    "df_X = df_small.drop(columns=['isFraud'])\n",
    "df_y = df_small['isFraud']\n",
    "df_small"
   ]
  },
  {
   "cell_type": "code",
   "execution_count": 56,
   "metadata": {},
   "outputs": [],
   "source": [
    "X_train, X_test, y_train, y_test = train_test_split(df_X, df_y, random_state=0, stratify=df_y)\n",
    "sm = SMOTENC(categorical_features=[0], random_state = 0, sampling_strategy=0.3, k_neighbors=8)\n",
    "X_sm_train, y_sm_train = sm.fit_resample(X_train, y_train)"
   ]
  },
  {
   "cell_type": "code",
   "execution_count": 57,
   "metadata": {},
   "outputs": [
    {
     "name": "stdout",
     "output_type": "stream",
     "text": [
      "Train Score: 0.9959729095446079\n",
      "Test Score: 0.9922044937321615\n"
     ]
    },
    {
     "data": {
      "image/png": "[encoded data removed]",
      "text/plain": [
       "<Figure size 640x480 with 2 Axes>"
      ]
     },
     "metadata": {},
     "output_type": "display_data"
    }
   ],
   "source": [
    "clf = KNeighborsClassifier(n_neighbors = 3).fit(X_sm_train, y_sm_train) \n",
    "print(\"Train Score:\",clf.score(X_sm_train, y_sm_train))\n",
    "print(\"Test Score:\",clf.score(X_test, y_test))\n",
    "\n",
    "ConfusionMatrixDisplay.from_estimator(clf, X_test, y_test, display_labels=['Non-Fraud', 'Fraud'])\n",
    "plt.show()"
   ]
  },
  {
   "cell_type": "code",
   "execution_count": 58,
   "metadata": {},
   "outputs": [],
   "source": [
    "df_X = df_c.drop(columns=['isFraud'])\n",
    "df_y = df_c['isFraud']\n",
    "X_train, X_test, y_train, y_test = train_test_split(df_X, df_y, random_state=0, stratify=df_y)"
   ]
  },
  {
   "cell_type": "code",
   "execution_count": 59,
   "metadata": {},
   "outputs": [
    {
     "data": {
      "text/html": [
       "<div>\n",
       "<style scoped>\n",
       "    .dataframe tbody tr th:only-of-type {\n",
       "        vertical-align: middle;\n",
       "    }\n",
       "\n",
       "    .dataframe tbody tr th {\n",
       "        vertical-align: top;\n",
       "    }\n",
       "\n",
       "    .dataframe thead th {\n",
       "        text-align: right;\n",
       "    }\n",
       "</style>\n",
       "<table border=\"1\" class=\"dataframe\">\n",
       "  <thead>\n",
       "    <tr style=\"text-align: right;\">\n",
       "      <th></th>\n",
       "      <th>isFraud</th>\n",
       "    </tr>\n",
       "  </thead>\n",
       "  <tbody>\n",
       "    <tr>\n",
       "      <th>0</th>\n",
       "      <td>476580</td>\n",
       "    </tr>\n",
       "    <tr>\n",
       "      <th>1</th>\n",
       "      <td>142974</td>\n",
       "    </tr>\n",
       "  </tbody>\n",
       "</table>\n",
       "</div>"
      ],
      "text/plain": [
       "   isFraud\n",
       "0   476580\n",
       "1   142974"
      ]
     },
     "execution_count": 59,
     "metadata": {},
     "output_type": "execute_result"
    }
   ],
   "source": [
    "bsmote = BorderlineSMOTE(random_state = 0, kind = 'borderline-1')\n",
    "sm = BorderlineSMOTE(random_state = 0, kind = 'borderline-1', sampling_strategy=0.3)\n",
    "X_sm_train, y_sm_train = sm.fit_resample(X_train, y_train)\n",
    "pd.DataFrame(y_sm_train.value_counts())"
   ]
  },
  {
   "cell_type": "markdown",
   "metadata": {},
   "source": [
    "과제 설명\n",
    "- 여러 알고리즘을 활용하여 가장 성능이 좋은 모델을 만들어라.\n",
    "- kNN, SMOTE 하이퍼파라미터 튜닝 같은 것도 잘 해보고. SMOTE 같은 거 적극적으로 사용하고.\n",
    "- score만 보지 말고 confusion matrix도 같이 봐야 함."
   ]
  }
 ],
 "metadata": {
  "kernelspec": {
   "display_name": "base",
   "language": "python",
   "name": "python3"
  },
  "language_info": {
   "codemirror_mode": {
    "name": "ipython",
    "version": 3
   },
   "file_extension": ".py",
   "mimetype": "text/x-python",
   "name": "python",
   "nbconvert_exporter": "python",
   "pygments_lexer": "ipython3",
   "version": "0.0.0"
  },
  "orig_nbformat": 4
 },
 "nbformat": 4,
 "nbformat_minor": 2
}
