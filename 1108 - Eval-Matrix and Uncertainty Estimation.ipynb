{
 "cells": [
  {
   "cell_type": "markdown",
   "metadata": {},
   "source": [
    "# Model Evaluation and Improvement"
   ]
  },
  {
   "cell_type": "code",
   "execution_count": 1,
   "metadata": {},
   "outputs": [],
   "source": [
    "from sklearn.model_selection import train_test_split\n",
    "import pandas as pd\n",
    "from sklearn.tree import DecisionTreeClassifier\n",
    "from sklearn.linear_model import LogisticRegression\n",
    "\n",
    "from sklearn.metrics import accuracy_score\n",
    "from sklearn.metrics import average_precision_score\n",
    "from sklearn.metrics import confusion_matrix\n",
    "from sklearn.metrics import ConfusionMatrixDisplay\n",
    "from sklearn.metrics import classification_report\n",
    "from sklearn.metrics import precision_recall_curve\n",
    "from sklearn.metrics import PrecisionRecallDisplay\n",
    "from sklearn.metrics import roc_auc_score\n",
    "from sklearn.metrics import roc_curve\n",
    "\n",
    "from sklearn.ensemble import RandomForestClassifier\n",
    "import matplotlib.pyplot as plt\n",
    "import numpy as np\n",
    "import mglearn\n",
    "from sklearn.datasets import load_iris\n",
    "\n",
    "from sklearn.ensemble import GradientBoostingClassifier\n",
    "from sklearn.datasets import make_circles\n"
   ]
  },
  {
   "cell_type": "code",
   "execution_count": 2,
   "metadata": {},
   "outputs": [],
   "source": [
    "cf_df = pd.read_excel('data/crowdfunding_ex.xlsx')"
   ]
  },
  {
   "cell_type": "code",
   "execution_count": 3,
   "metadata": {},
   "outputs": [],
   "source": [
    "cf_df.rename(columns={'보상수': '#ofRewards'}, inplace=True)\n",
    "cf_df['Success'] = cf_df['Goal'] <= cf_df['Funded']"
   ]
  },
  {
   "cell_type": "code",
   "execution_count": 4,
   "metadata": {},
   "outputs": [],
   "source": [
    "x_df =  cf_df[[\"Backers\", \"CountryCode\", \"VideoCount\", \"ImageCount\", \"TagCode\", \"Goal\", \"Period\", \"SNS\", \n",
    "               \"Fiends\" , \"#ofCreation\", \"#ofRewards\"]]\n",
    "y = cf_df['Success']"
   ]
  },
  {
   "cell_type": "code",
   "execution_count": 5,
   "metadata": {},
   "outputs": [
    {
     "data": {
      "text/plain": [
       "False    549\n",
       "True     218\n",
       "Name: Success, dtype: int64"
      ]
     },
     "execution_count": 5,
     "metadata": {},
     "output_type": "execute_result"
    }
   ],
   "source": [
    "y.value_counts()"
   ]
  },
  {
   "cell_type": "code",
   "execution_count": 6,
   "metadata": {},
   "outputs": [],
   "source": [
    "X_train, X_test, y_train, y_test = train_test_split(x_df, y, random_state=0)"
   ]
  },
  {
   "cell_type": "code",
   "execution_count": 7,
   "metadata": {},
   "outputs": [
    {
     "name": "stdout",
     "output_type": "stream",
     "text": [
      "Test set score: 0.81\n"
     ]
    }
   ],
   "source": [
    "tree = DecisionTreeClassifier(max_depth=2).fit(X_train, y_train)\n",
    "pred_tree = tree.predict(X_test)\n",
    "print(\"Test set score: {:.2f}\".format(tree.score(X_test, y_test)))"
   ]
  },
  {
   "cell_type": "code",
   "execution_count": 8,
   "metadata": {},
   "outputs": [
    {
     "name": "stdout",
     "output_type": "stream",
     "text": [
      "logreg score: 0.83\n"
     ]
    }
   ],
   "source": [
    "logreg = LogisticRegression(C=0.1, max_iter=1000).fit(X_train, y_train)\n",
    "pred_logreg = logreg.predict(X_test)\n",
    "print(\"logreg score: {:.2f}\".format(logreg.score(X_test, y_test)))"
   ]
  },
  {
   "cell_type": "markdown",
   "metadata": {},
   "source": [
    "# Confusion Matrix"
   ]
  },
  {
   "cell_type": "code",
   "execution_count": 9,
   "metadata": {},
   "outputs": [
    {
     "name": "stdout",
     "output_type": "stream",
     "text": [
      "counfusion matrix:\n",
      " [[126  12]\n",
      " [ 25  29]]\n"
     ]
    }
   ],
   "source": [
    "confusion = confusion_matrix(y_test, pred_tree)\n",
    "print(\"counfusion matrix:\\n\", confusion)"
   ]
  },
  {
   "cell_type": "code",
   "execution_count": 10,
   "metadata": {},
   "outputs": [
    {
     "name": "stdout",
     "output_type": "stream",
     "text": [
      "counfusion matrix:\n",
      " [[129   9]\n",
      " [ 23  31]]\n"
     ]
    }
   ],
   "source": [
    "confusion = confusion_matrix(y_test, pred_logreg)\n",
    "print(\"counfusion matrix:\\n\", confusion)"
   ]
  },
  {
   "cell_type": "code",
   "execution_count": 11,
   "metadata": {},
   "outputs": [
    {
     "data": {
      "text/plain": [
       "False    138\n",
       "True      54\n",
       "Name: Success, dtype: int64"
      ]
     },
     "execution_count": 11,
     "metadata": {},
     "output_type": "execute_result"
    }
   ],
   "source": [
    "y_test.value_counts() # 1 is \"success\" and 2 is \"fail\""
   ]
  },
  {
   "cell_type": "code",
   "execution_count": 12,
   "metadata": {},
   "outputs": [],
   "source": [
    "def target_class_change(value: bool):\n",
    "    return int(value)"
   ]
  },
  {
   "cell_type": "code",
   "execution_count": 13,
   "metadata": {},
   "outputs": [],
   "source": [
    "cf_df['Success_target'] = cf_df['Success'].apply(target_class_change)\n",
    "y = cf_df['Success_target']"
   ]
  },
  {
   "cell_type": "code",
   "execution_count": 14,
   "metadata": {},
   "outputs": [
    {
     "data": {
      "text/plain": [
       "0    138\n",
       "1     54\n",
       "Name: Success_target, dtype: int64"
      ]
     },
     "execution_count": 14,
     "metadata": {},
     "output_type": "execute_result"
    }
   ],
   "source": [
    "X_train, X_test, y_train, y_test = train_test_split(x_df, y, random_state=0)\n",
    "y_test.value_counts()"
   ]
  },
  {
   "cell_type": "code",
   "execution_count": 15,
   "metadata": {},
   "outputs": [
    {
     "name": "stdout",
     "output_type": "stream",
     "text": [
      "Test set score: 0.86\n",
      "counfusion matrix:\n",
      " [[120  18]\n",
      " [  9  45]]\n"
     ]
    }
   ],
   "source": [
    "tree = DecisionTreeClassifier(max_depth=3).fit(X_train, y_train)\n",
    "pred_tree = tree.predict(X_test)\n",
    "print(\"Test set score: {:.2f}\".format(tree.score(X_test, y_test)))\n",
    "\n",
    "confusion = confusion_matrix(y_test, pred_tree)\n",
    "print(\"counfusion matrix:\\n\", confusion)"
   ]
  },
  {
   "cell_type": "code",
   "execution_count": 16,
   "metadata": {},
   "outputs": [
    {
     "name": "stdout",
     "output_type": "stream",
     "text": [
      "logreg score: 0.83\n",
      "counfusion matrix:\n",
      " [[129   9]\n",
      " [ 23  31]]\n"
     ]
    }
   ],
   "source": [
    "logreg = LogisticRegression(C=0.1, max_iter=1000).fit(X_train, y_train)\n",
    "\n",
    "pred_logreg = logreg.predict(X_test)\n",
    "print(\"logreg score: {:.2f}\".format(logreg.score(X_test, y_test)))\n",
    "\n",
    "confusion = confusion_matrix(y_test, pred_logreg)\n",
    "print(\"counfusion matrix:\\n\", confusion)"
   ]
  },
  {
   "cell_type": "markdown",
   "metadata": {},
   "source": [
    "## plot_confusioin_matrix"
   ]
  },
  {
   "cell_type": "code",
   "execution_count": 17,
   "metadata": {},
   "outputs": [
    {
     "data": {
      "text/plain": [
       "<function matplotlib.pyplot.show(close=None, block=None)>"
      ]
     },
     "execution_count": 17,
     "metadata": {},
     "output_type": "execute_result"
    },
    {
     "data": {
      "image/png": "[encoded data removed]",
      "text/plain": [
       "<Figure size 640x480 with 2 Axes>"
      ]
     },
     "metadata": {},
     "output_type": "display_data"
    }
   ],
   "source": [
    "ConfusionMatrixDisplay.from_estimator(tree, X_test, y_test, display_labels=['Fail', 'Success'])\n",
    "plt.show()"
   ]
  },
  {
   "cell_type": "code",
   "execution_count": 18,
   "metadata": {},
   "outputs": [
    {
     "data": {
      "text/plain": [
       "<function matplotlib.pyplot.show(close=None, block=None)>"
      ]
     },
     "execution_count": 18,
     "metadata": {},
     "output_type": "execute_result"
    },
    {
     "data": {
      "image/png": "[encoded data removed]",
      "text/plain": [
       "<Figure size 640x480 with 2 Axes>"
      ]
     },
     "metadata": {},
     "output_type": "display_data"
    }
   ],
   "source": [
    "ConfusionMatrixDisplay.from_estimator(logreg, X_test, y_test, display_labels=['Fail', 'Success'])\n",
    "plt.show"
   ]
  },
  {
   "cell_type": "markdown",
   "metadata": {},
   "source": [
    "# Classification Report"
   ]
  },
  {
   "cell_type": "code",
   "execution_count": 19,
   "metadata": {},
   "outputs": [
    {
     "name": "stdout",
     "output_type": "stream",
     "text": [
      "              precision    recall  f1-score   support\n",
      "\n",
      "           0       0.93      0.87      0.90       138\n",
      "           1       0.71      0.83      0.77        54\n",
      "\n",
      "    accuracy                           0.86       192\n",
      "   macro avg       0.82      0.85      0.83       192\n",
      "weighted avg       0.87      0.86      0.86       192\n",
      "\n",
      "\n",
      "              precision    recall  f1-score   support\n",
      "\n",
      "        Fail       0.85      0.93      0.89       138\n",
      "     Success       0.78      0.57      0.66        54\n",
      "\n",
      "    accuracy                           0.83       192\n",
      "   macro avg       0.81      0.75      0.77       192\n",
      "weighted avg       0.83      0.83      0.82       192\n",
      "\n"
     ]
    }
   ],
   "source": [
    "print(classification_report(y_test, pred_tree))\n",
    "print()\n",
    "print(classification_report(y_test, pred_logreg, target_names=[\"Fail\", \"Success\"]))"
   ]
  },
  {
   "cell_type": "markdown",
   "metadata": {},
   "source": [
    "# Precision-recall Curve and ROC Curves"
   ]
  },
  {
   "cell_type": "code",
   "execution_count": 20,
   "metadata": {},
   "outputs": [
    {
     "data": {
      "text/plain": [
       "array([[0.88135593, 0.11864407],\n",
       "       [0.93877551, 0.06122449],\n",
       "       [0.08888889, 0.91111111],\n",
       "       [0.7       , 0.3       ],\n",
       "       [1.        , 0.        ],\n",
       "       [1.        , 0.        ],\n",
       "       [0.93877551, 0.06122449],\n",
       "       [0.32142857, 0.67857143],\n",
       "       [0.47368421, 0.52631579],\n",
       "       [1.        , 0.        ],\n",
       "       [1.        , 0.        ],\n",
       "       [0.88135593, 0.11864407],\n",
       "       [0.7       , 0.3       ],\n",
       "       [1.        , 0.        ],\n",
       "       [0.88135593, 0.11864407],\n",
       "       [0.88135593, 0.11864407],\n",
       "       [0.7       , 0.3       ],\n",
       "       [0.08888889, 0.91111111],\n",
       "       [1.        , 0.        ],\n",
       "       [0.93877551, 0.06122449],\n",
       "       [0.93877551, 0.06122449],\n",
       "       [0.08888889, 0.91111111],\n",
       "       [0.93877551, 0.06122449],\n",
       "       [0.13793103, 0.86206897],\n",
       "       [0.93877551, 0.06122449],\n",
       "       [0.08888889, 0.91111111],\n",
       "       [1.        , 0.        ],\n",
       "       [1.        , 0.        ],\n",
       "       [1.        , 0.        ],\n",
       "       [0.93877551, 0.06122449],\n",
       "       [1.        , 0.        ],\n",
       "       [0.93877551, 0.06122449],\n",
       "       [0.93877551, 0.06122449],\n",
       "       [0.88135593, 0.11864407],\n",
       "       [0.08888889, 0.91111111],\n",
       "       [0.7       , 0.3       ],\n",
       "       [0.32142857, 0.67857143],\n",
       "       [1.        , 0.        ],\n",
       "       [1.        , 0.        ],\n",
       "       [0.88135593, 0.11864407],\n",
       "       [0.93877551, 0.06122449],\n",
       "       [0.13793103, 0.86206897],\n",
       "       [1.        , 0.        ],\n",
       "       [0.08888889, 0.91111111],\n",
       "       [0.7       , 0.3       ],\n",
       "       [1.        , 0.        ],\n",
       "       [0.08888889, 0.91111111],\n",
       "       [1.        , 0.        ],\n",
       "       [0.88135593, 0.11864407],\n",
       "       [1.        , 0.        ],\n",
       "       [0.08888889, 0.91111111],\n",
       "       [0.08888889, 0.91111111],\n",
       "       [0.32142857, 0.67857143],\n",
       "       [0.88135593, 0.11864407],\n",
       "       [0.93877551, 0.06122449],\n",
       "       [0.13793103, 0.86206897],\n",
       "       [1.        , 0.        ],\n",
       "       [0.08888889, 0.91111111],\n",
       "       [1.        , 0.        ],\n",
       "       [0.7       , 0.3       ],\n",
       "       [1.        , 0.        ],\n",
       "       [0.13793103, 0.86206897],\n",
       "       [0.08888889, 0.91111111],\n",
       "       [0.88135593, 0.11864407],\n",
       "       [0.08888889, 0.91111111],\n",
       "       [0.93877551, 0.06122449],\n",
       "       [0.32142857, 0.67857143],\n",
       "       [0.88135593, 0.11864407],\n",
       "       [1.        , 0.        ],\n",
       "       [0.93877551, 0.06122449],\n",
       "       [0.13793103, 0.86206897],\n",
       "       [1.        , 0.        ],\n",
       "       [1.        , 0.        ],\n",
       "       [0.08888889, 0.91111111],\n",
       "       [0.08888889, 0.91111111],\n",
       "       [0.08888889, 0.91111111],\n",
       "       [0.08888889, 0.91111111],\n",
       "       [1.        , 0.        ],\n",
       "       [1.        , 0.        ],\n",
       "       [1.        , 0.        ],\n",
       "       [0.08888889, 0.91111111],\n",
       "       [1.        , 0.        ],\n",
       "       [0.88135593, 0.11864407],\n",
       "       [1.        , 0.        ],\n",
       "       [0.32142857, 0.67857143],\n",
       "       [0.88135593, 0.11864407],\n",
       "       [1.        , 0.        ],\n",
       "       [0.08888889, 0.91111111],\n",
       "       [1.        , 0.        ],\n",
       "       [0.93877551, 0.06122449],\n",
       "       [0.08888889, 0.91111111],\n",
       "       [0.08888889, 0.91111111],\n",
       "       [0.13793103, 0.86206897],\n",
       "       [0.08888889, 0.91111111],\n",
       "       [0.08888889, 0.91111111],\n",
       "       [0.88135593, 0.11864407],\n",
       "       [0.47368421, 0.52631579],\n",
       "       [0.32142857, 0.67857143],\n",
       "       [0.32142857, 0.67857143],\n",
       "       [0.47368421, 0.52631579],\n",
       "       [1.        , 0.        ],\n",
       "       [1.        , 0.        ],\n",
       "       [0.93877551, 0.06122449],\n",
       "       [0.88135593, 0.11864407],\n",
       "       [1.        , 0.        ],\n",
       "       [1.        , 0.        ],\n",
       "       [1.        , 0.        ],\n",
       "       [0.13793103, 0.86206897],\n",
       "       [1.        , 0.        ],\n",
       "       [1.        , 0.        ],\n",
       "       [1.        , 0.        ],\n",
       "       [1.        , 0.        ],\n",
       "       [0.88135593, 0.11864407],\n",
       "       [1.        , 0.        ],\n",
       "       [0.7       , 0.3       ],\n",
       "       [1.        , 0.        ],\n",
       "       [0.08888889, 0.91111111],\n",
       "       [0.13793103, 0.86206897],\n",
       "       [1.        , 0.        ],\n",
       "       [1.        , 0.        ],\n",
       "       [1.        , 0.        ],\n",
       "       [1.        , 0.        ],\n",
       "       [0.93877551, 0.06122449],\n",
       "       [0.08888889, 0.91111111],\n",
       "       [0.13793103, 0.86206897],\n",
       "       [0.08888889, 0.91111111],\n",
       "       [1.        , 0.        ],\n",
       "       [1.        , 0.        ],\n",
       "       [0.47368421, 0.52631579],\n",
       "       [0.32142857, 0.67857143],\n",
       "       [0.88135593, 0.11864407],\n",
       "       [0.32142857, 0.67857143],\n",
       "       [0.7       , 0.3       ],\n",
       "       [1.        , 0.        ],\n",
       "       [0.7       , 0.3       ],\n",
       "       [1.        , 0.        ],\n",
       "       [0.93877551, 0.06122449],\n",
       "       [0.93877551, 0.06122449],\n",
       "       [0.08888889, 0.91111111],\n",
       "       [1.        , 0.        ],\n",
       "       [1.        , 0.        ],\n",
       "       [0.93877551, 0.06122449],\n",
       "       [0.88135593, 0.11864407],\n",
       "       [0.7       , 0.3       ],\n",
       "       [0.08888889, 0.91111111],\n",
       "       [0.08888889, 0.91111111],\n",
       "       [0.88135593, 0.11864407],\n",
       "       [1.        , 0.        ],\n",
       "       [1.        , 0.        ],\n",
       "       [0.93877551, 0.06122449],\n",
       "       [0.88135593, 0.11864407],\n",
       "       [1.        , 0.        ],\n",
       "       [0.13793103, 0.86206897],\n",
       "       [1.        , 0.        ],\n",
       "       [0.7       , 0.3       ],\n",
       "       [1.        , 0.        ],\n",
       "       [1.        , 0.        ],\n",
       "       [1.        , 0.        ],\n",
       "       [1.        , 0.        ],\n",
       "       [1.        , 0.        ],\n",
       "       [0.08888889, 0.91111111],\n",
       "       [1.        , 0.        ],\n",
       "       [1.        , 0.        ],\n",
       "       [0.08888889, 0.91111111],\n",
       "       [0.93877551, 0.06122449],\n",
       "       [0.08888889, 0.91111111],\n",
       "       [1.        , 0.        ],\n",
       "       [1.        , 0.        ],\n",
       "       [0.47368421, 0.52631579],\n",
       "       [1.        , 0.        ],\n",
       "       [0.08888889, 0.91111111],\n",
       "       [0.32142857, 0.67857143],\n",
       "       [0.47368421, 0.52631579],\n",
       "       [1.        , 0.        ],\n",
       "       [0.7       , 0.3       ],\n",
       "       [0.88135593, 0.11864407],\n",
       "       [0.93877551, 0.06122449],\n",
       "       [0.32142857, 0.67857143],\n",
       "       [0.47368421, 0.52631579],\n",
       "       [0.88135593, 0.11864407],\n",
       "       [0.7       , 0.3       ],\n",
       "       [0.7       , 0.3       ],\n",
       "       [0.32142857, 0.67857143],\n",
       "       [0.08888889, 0.91111111],\n",
       "       [1.        , 0.        ],\n",
       "       [1.        , 0.        ],\n",
       "       [1.        , 0.        ],\n",
       "       [0.08888889, 0.91111111],\n",
       "       [1.        , 0.        ],\n",
       "       [1.        , 0.        ],\n",
       "       [1.        , 0.        ],\n",
       "       [0.93877551, 0.06122449]])"
      ]
     },
     "execution_count": 20,
     "metadata": {},
     "output_type": "execute_result"
    }
   ],
   "source": [
    "tree.predict_proba(X_test)"
   ]
  },
  {
   "cell_type": "code",
   "execution_count": 21,
   "metadata": {
    "scrolled": false
   },
   "outputs": [
    {
     "name": "stdout",
     "output_type": "stream",
     "text": [
      "Average Precision Score: 0.742\n"
     ]
    },
    {
     "data": {
      "image/png": "[encoded data removed]",
      "text/plain": [
       "<Figure size 640x480 with 1 Axes>"
      ]
     },
     "metadata": {},
     "output_type": "display_data"
    }
   ],
   "source": [
    "precision_tree, recall_tree, thresholds_tree = precision_recall_curve(y_test, tree.predict_proba(X_test)[:,1])\n",
    "close_default_tree = np.argmin(np.abs(thresholds_tree-0.5))\n",
    "plt.plot(precision_tree[close_default_tree], recall_tree[close_default_tree], 'o', \n",
    "         markersize=10, label='threshold 0.5', fillstyle='none', c='k', mew=2)\n",
    "\n",
    "plt.plot(precision_tree, recall_tree, label=\"precision-recall curve\")\n",
    "plt.xlabel(\"precision\")\n",
    "plt.ylabel(\"recall\")\n",
    "plt.legend(loc='best')\n",
    "\n",
    "ap_tree = average_precision_score(y_test, tree.predict_proba(X_test)[:, 1])\n",
    "print(\"Average Precision Score: {:.3f}\".format(ap_tree))"
   ]
  },
  {
   "cell_type": "markdown",
   "metadata": {},
   "source": [
    "### precision_recall_curve?\n",
    "\n",
    "Compute precision-recall pairs for different probability thresholds.\n",
    "\n",
    "##### Returns\n",
    "-------\n",
    "precision : ndarray of shape (n_thresholds + 1,)\n",
    "    Precision values such that element i is the precision of\n",
    "    predictions with score >= thresholds[i] and the last element is 1.\n",
    "\n",
    "recall : ndarray of shape (n_thresholds + 1,)\n",
    "    Decreasing recall values such that element i is the recall of\n",
    "    predictions with score >= thresholds[i] and the last element is 0.\n",
    "\n",
    "thresholds : ndarray of shape (n_thresholds,)\n",
    "    Increasing thresholds on the decision function used to compute\n",
    "    precision and recall where `n_thresholds = len(np.unique(probas_pred))`"
   ]
  },
  {
   "cell_type": "code",
   "execution_count": 22,
   "metadata": {},
   "outputs": [
    {
     "data": {
      "text/plain": [
       "array([0.        , 0.06122449, 0.11864407, 0.3       , 0.52631579,\n",
       "       0.67857143, 0.86206897, 0.91111111])"
      ]
     },
     "execution_count": 22,
     "metadata": {},
     "output_type": "execute_result"
    }
   ],
   "source": [
    "np.unique(tree.predict_proba(X_test)[:,1])"
   ]
  },
  {
   "cell_type": "code",
   "execution_count": 23,
   "metadata": {},
   "outputs": [
    {
     "data": {
      "text/plain": [
       "array([0.        , 0.06122449, 0.11864407, 0.3       , 0.52631579,\n",
       "       0.67857143, 0.86206897, 0.91111111])"
      ]
     },
     "execution_count": 23,
     "metadata": {},
     "output_type": "execute_result"
    }
   ],
   "source": [
    "thresholds_tree"
   ]
  },
  {
   "cell_type": "code",
   "execution_count": 24,
   "metadata": {},
   "outputs": [
    {
     "data": {
      "text/plain": [
       "array([0.5       , 0.43877551, 0.38135593, 0.2       , 0.02631579,\n",
       "       0.17857143, 0.36206897, 0.41111111])"
      ]
     },
     "execution_count": 24,
     "metadata": {},
     "output_type": "execute_result"
    }
   ],
   "source": [
    "np.abs(thresholds_tree-0.5)"
   ]
  },
  {
   "cell_type": "code",
   "execution_count": 25,
   "metadata": {},
   "outputs": [
    {
     "data": {
      "text/plain": [
       "4"
      ]
     },
     "execution_count": 25,
     "metadata": {},
     "output_type": "execute_result"
    }
   ],
   "source": [
    "np.argmin(np.abs(thresholds_tree-0.5))"
   ]
  },
  {
   "cell_type": "code",
   "execution_count": 26,
   "metadata": {
    "scrolled": true
   },
   "outputs": [
    {
     "data": {
      "text/plain": [
       "array([0.28125   , 0.42975207, 0.53061224, 0.64935065, 0.71428571,\n",
       "       0.76785714, 0.77272727, 0.79411765, 1.        ])"
      ]
     },
     "execution_count": 26,
     "metadata": {},
     "output_type": "execute_result"
    }
   ],
   "source": [
    "precision_tree"
   ]
  },
  {
   "cell_type": "code",
   "execution_count": 27,
   "metadata": {},
   "outputs": [
    {
     "data": {
      "text/plain": [
       "array([1.        , 0.96296296, 0.96296296, 0.92592593, 0.83333333,\n",
       "       0.7962963 , 0.62962963, 0.5       , 0.        ])"
      ]
     },
     "execution_count": 27,
     "metadata": {},
     "output_type": "execute_result"
    }
   ],
   "source": [
    "recall_tree"
   ]
  },
  {
   "cell_type": "markdown",
   "metadata": {},
   "source": [
    "### average_precision_score?\n",
    "\n",
    "Compute average precision (AP) from prediction scores.\n",
    "\n",
    "AP summarizes a precision-recall curve as the weighted mean of precisions\n",
    "achieved at each threshold, with the increase in recall from the previous\n",
    "threshold used as the weight:"
   ]
  },
  {
   "cell_type": "code",
   "execution_count": 28,
   "metadata": {},
   "outputs": [
    {
     "name": "stdout",
     "output_type": "stream",
     "text": [
      "Average Precision Score: 0.742\n"
     ]
    },
    {
     "data": {
      "image/png": "[encoded data removed]",
      "text/plain": [
       "<Figure size 640x480 with 1 Axes>"
      ]
     },
     "metadata": {},
     "output_type": "display_data"
    }
   ],
   "source": [
    "precision_tree, recall_tree, thresholds_tree = precision_recall_curve(y_test, tree.predict_proba(X_test)[:,1])\n",
    "close_default_tree = np.argmin(np.abs(thresholds_tree-0.2))\n",
    "plt.plot(precision_tree[close_default_tree], recall_tree[close_default_tree], 'o', \n",
    "         markersize=10, label='threshold 0.2', fillstyle='none', c='k', mew=2)\n",
    "\n",
    "plt.plot(precision_tree, recall_tree, label=\"precision-recall curve\")\n",
    "plt.xlabel(\"precision\")\n",
    "plt.ylabel(\"recall\")\n",
    "plt.legend(loc='best')\n",
    "\n",
    "ap_tree = average_precision_score(y_test, tree.predict_proba(X_test)[:, 1])\n",
    "print(\"Average Precision Score: {:.3f}\".format(ap_tree))"
   ]
  },
  {
   "cell_type": "code",
   "execution_count": 29,
   "metadata": {},
   "outputs": [
    {
     "name": "stdout",
     "output_type": "stream",
     "text": [
      "Average Precision Score: 0.742\n"
     ]
    },
    {
     "data": {
      "image/png": "[encoded data removed]",
      "text/plain": [
       "<Figure size 640x480 with 1 Axes>"
      ]
     },
     "metadata": {},
     "output_type": "display_data"
    }
   ],
   "source": [
    "precision_tree, recall_tree, thresholds_tree = precision_recall_curve(y_test, tree.predict_proba(X_test)[:,1])\n",
    "close_default_tree = np.argmin(np.abs(thresholds_tree-0.8))\n",
    "plt.plot(precision_tree[close_default_tree], recall_tree[close_default_tree], 'o', \n",
    "         markersize=10, label='threshold 0.8', fillstyle='none', c='k', mew=2)\n",
    "\n",
    "plt.plot(precision_tree, recall_tree, label=\"precision-recall curve\")\n",
    "plt.xlabel(\"precision\")\n",
    "plt.ylabel(\"recall\")\n",
    "plt.legend(loc='best')\n",
    "\n",
    "ap_tree = average_precision_score(y_test, tree.predict_proba(X_test)[:, 1])\n",
    "print(\"Average Precision Score: {:.3f}\".format(ap_tree))"
   ]
  },
  {
   "cell_type": "code",
   "execution_count": 30,
   "metadata": {},
   "outputs": [
    {
     "name": "stdout",
     "output_type": "stream",
     "text": [
      "Average Precision Score: 0.800\n"
     ]
    },
    {
     "data": {
      "image/png": "[encoded data removed]",
      "text/plain": [
       "<Figure size 640x480 with 1 Axes>"
      ]
     },
     "metadata": {},
     "output_type": "display_data"
    }
   ],
   "source": [
    "precision_logreg, recall_logreg, thresholds_logreg = precision_recall_curve(y_test, logreg.predict_proba(X_test)[:,1])\n",
    "close_default_logreg = np.argmin(np.abs(thresholds_logreg-0.5))\n",
    "plt.plot(precision_logreg[close_default_logreg], recall_logreg[close_default_logreg], 'o', \n",
    "         markersize=10, label='threshold 0.5', fillstyle='none', c='k', mew=2)\n",
    "\n",
    "plt.plot(precision_logreg, recall_logreg, label=\"precision-recall curve\")\n",
    "plt.xlabel(\"precision\")\n",
    "plt.ylabel(\"recall\")\n",
    "plt.legend(loc='best')\n",
    "\n",
    "log_reg = average_precision_score(y_test, logreg.predict_proba(X_test)[:, 1])\n",
    "print(\"Average Precision Score: {:.3f}\".format(log_reg))"
   ]
  },
  {
   "cell_type": "code",
   "execution_count": 31,
   "metadata": {},
   "outputs": [
    {
     "data": {
      "image/png": "[encoded data removed]",
      "text/plain": [
       "<Figure size 640x480 with 1 Axes>"
      ]
     },
     "metadata": {},
     "output_type": "display_data"
    }
   ],
   "source": [
    "fig, ax = plt.subplots()\n",
    "PrecisionRecallDisplay.from_estimator(tree, X_test, y_test, ax=ax)\n",
    "PrecisionRecallDisplay.from_estimator(logreg, X_test, y_test, ax=ax)\n",
    "plt.show()"
   ]
  },
  {
   "cell_type": "code",
   "execution_count": 32,
   "metadata": {},
   "outputs": [
    {
     "name": "stdout",
     "output_type": "stream",
     "text": [
      "\u001b[1;31mInit signature:\u001b[0m\n",
      "\u001b[0mPrecisionRecallDisplay\u001b[0m\u001b[1;33m(\u001b[0m\u001b[1;33m\n",
      "\u001b[0m    \u001b[0mprecision\u001b[0m\u001b[1;33m,\u001b[0m\u001b[1;33m\n",
      "\u001b[0m    \u001b[0mrecall\u001b[0m\u001b[1;33m,\u001b[0m\u001b[1;33m\n",
      "\u001b[0m    \u001b[1;33m*\u001b[0m\u001b[1;33m,\u001b[0m\u001b[1;33m\n",
      "\u001b[0m    \u001b[0maverage_precision\u001b[0m\u001b[1;33m=\u001b[0m\u001b[1;32mNone\u001b[0m\u001b[1;33m,\u001b[0m\u001b[1;33m\n",
      "\u001b[0m    \u001b[0mestimator_name\u001b[0m\u001b[1;33m=\u001b[0m\u001b[1;32mNone\u001b[0m\u001b[1;33m,\u001b[0m\u001b[1;33m\n",
      "\u001b[0m    \u001b[0mpos_label\u001b[0m\u001b[1;33m=\u001b[0m\u001b[1;32mNone\u001b[0m\u001b[1;33m,\u001b[0m\u001b[1;33m\n",
      "\u001b[0m\u001b[1;33m)\u001b[0m\u001b[1;33m\u001b[0m\u001b[1;33m\u001b[0m\u001b[0m\n",
      "\u001b[1;31mDocstring:\u001b[0m     \n",
      "Precision Recall visualization.\n",
      "\n",
      "It is recommend to use\n",
      ":func:`~sklearn.metrics.PrecisionRecallDisplay.from_estimator` or\n",
      ":func:`~sklearn.metrics.PrecisionRecallDisplay.from_predictions` to create\n",
      "a :class:`~sklearn.metrics.PredictionRecallDisplay`. All parameters are\n",
      "stored as attributes.\n",
      "\n",
      "Read more in the :ref:`User Guide <visualizations>`.\n",
      "\n",
      "Parameters\n",
      "----------\n",
      "precision : ndarray\n",
      "    Precision values.\n",
      "\n",
      "recall : ndarray\n",
      "    Recall values.\n",
      "\n",
      "average_precision : float, default=None\n",
      "    Average precision. If None, the average precision is not shown.\n",
      "\n",
      "estimator_name : str, default=None\n",
      "    Name of estimator. If None, then the estimator name is not shown.\n",
      "\n",
      "pos_label : str or int, default=None\n",
      "    The class considered as the positive class. If None, the class will not\n",
      "    be shown in the legend.\n",
      "\n",
      "    .. versionadded:: 0.24\n",
      "\n",
      "Attributes\n",
      "----------\n",
      "line_ : matplotlib Artist\n",
      "    Precision recall curve.\n",
      "\n",
      "ax_ : matplotlib Axes\n",
      "    Axes with precision recall curve.\n",
      "\n",
      "figure_ : matplotlib Figure\n",
      "    Figure containing the curve.\n",
      "\n",
      "See Also\n",
      "--------\n",
      "precision_recall_curve : Compute precision-recall pairs for different\n",
      "    probability thresholds.\n",
      "PrecisionRecallDisplay.from_estimator : Plot Precision Recall Curve given\n",
      "    a binary classifier.\n",
      "PrecisionRecallDisplay.from_predictions : Plot Precision Recall Curve\n",
      "    using predictions from a binary classifier.\n",
      "\n",
      "Notes\n",
      "-----\n",
      "The average precision (cf. :func:`~sklearn.metrics.average_precision`) in\n",
      "scikit-learn is computed without any interpolation. To be consistent with\n",
      "this metric, the precision-recall curve is plotted without any\n",
      "interpolation as well (step-wise style).\n",
      "\n",
      "You can change this style by passing the keyword argument\n",
      "`drawstyle=\"default\"` in :meth:`plot`, :meth:`from_estimator`, or\n",
      ":meth:`from_predictions`. However, the curve will not be strictly\n",
      "consistent with the reported average precision.\n",
      "\n",
      "Examples\n",
      "--------\n",
      ">>> import matplotlib.pyplot as plt\n",
      ">>> from sklearn.datasets import make_classification\n",
      ">>> from sklearn.metrics import (precision_recall_curve,\n",
      "...                              PrecisionRecallDisplay)\n",
      ">>> from sklearn.model_selection import train_test_split\n",
      ">>> from sklearn.svm import SVC\n",
      ">>> X, y = make_classification(random_state=0)\n",
      ">>> X_train, X_test, y_train, y_test = train_test_split(X, y,\n",
      "...                                                     random_state=0)\n",
      ">>> clf = SVC(random_state=0)\n",
      ">>> clf.fit(X_train, y_train)\n",
      "SVC(random_state=0)\n",
      ">>> predictions = clf.predict(X_test)\n",
      ">>> precision, recall, _ = precision_recall_curve(y_test, predictions)\n",
      ">>> disp = PrecisionRecallDisplay(precision=precision, recall=recall)\n",
      ">>> disp.plot()\n",
      "<...>\n",
      ">>> plt.show()\n",
      "\u001b[1;31mFile:\u001b[0m           c:\\programdata\\anaconda3\\lib\\site-packages\\sklearn\\metrics\\_plot\\precision_recall_curve.py\n",
      "\u001b[1;31mType:\u001b[0m           type\n",
      "\u001b[1;31mSubclasses:\u001b[0m     "
     ]
    }
   ],
   "source": [
    "PrecisionRecallDisplay?"
   ]
  },
  {
   "cell_type": "markdown",
   "metadata": {},
   "source": [
    "# ROC and AUC"
   ]
  },
  {
   "cell_type": "code",
   "execution_count": 33,
   "metadata": {},
   "outputs": [
    {
     "data": {
      "text/html": [
       "<style>#sk-container-id-1 {color: black;background-color: white;}#sk-container-id-1 pre{padding: 0;}#sk-container-id-1 div.sk-toggleable {background-color: white;}#sk-container-id-1 label.sk-toggleable__label {cursor: pointer;display: block;width: 100%;margin-bottom: 0;padding: 0.3em;box-sizing: border-box;text-align: center;}#sk-container-id-1 label.sk-toggleable__label-arrow:before {content: \"▸\";float: left;margin-right: 0.25em;color: #696969;}#sk-container-id-1 label.sk-toggleable__label-arrow:hover:before {color: black;}#sk-container-id-1 div.sk-estimator:hover label.sk-toggleable__label-arrow:before {color: black;}#sk-container-id-1 div.sk-toggleable__content {max-height: 0;max-width: 0;overflow: hidden;text-align: left;background-color: #f0f8ff;}#sk-container-id-1 div.sk-toggleable__content pre {margin: 0.2em;color: black;border-radius: 0.25em;background-color: #f0f8ff;}#sk-container-id-1 input.sk-toggleable__control:checked~div.sk-toggleable__content {max-height: 200px;max-width: 100%;overflow: auto;}#sk-container-id-1 input.sk-toggleable__control:checked~label.sk-toggleable__label-arrow:before {content: \"▾\";}#sk-container-id-1 div.sk-estimator input.sk-toggleable__control:checked~label.sk-toggleable__label {background-color: #d4ebff;}#sk-container-id-1 div.sk-label input.sk-toggleable__control:checked~label.sk-toggleable__label {background-color: #d4ebff;}#sk-container-id-1 input.sk-hidden--visually {border: 0;clip: rect(1px 1px 1px 1px);clip: rect(1px, 1px, 1px, 1px);height: 1px;margin: -1px;overflow: hidden;padding: 0;position: absolute;width: 1px;}#sk-container-id-1 div.sk-estimator {font-family: monospace;background-color: #f0f8ff;border: 1px dotted black;border-radius: 0.25em;box-sizing: border-box;margin-bottom: 0.5em;}#sk-container-id-1 div.sk-estimator:hover {background-color: #d4ebff;}#sk-container-id-1 div.sk-parallel-item::after {content: \"\";width: 100%;border-bottom: 1px solid gray;flex-grow: 1;}#sk-container-id-1 div.sk-label:hover label.sk-toggleable__label {background-color: #d4ebff;}#sk-container-id-1 div.sk-serial::before {content: \"\";position: absolute;border-left: 1px solid gray;box-sizing: border-box;top: 0;bottom: 0;left: 50%;z-index: 0;}#sk-container-id-1 div.sk-serial {display: flex;flex-direction: column;align-items: center;background-color: white;padding-right: 0.2em;padding-left: 0.2em;position: relative;}#sk-container-id-1 div.sk-item {position: relative;z-index: 1;}#sk-container-id-1 div.sk-parallel {display: flex;align-items: stretch;justify-content: center;background-color: white;position: relative;}#sk-container-id-1 div.sk-item::before, #sk-container-id-1 div.sk-parallel-item::before {content: \"\";position: absolute;border-left: 1px solid gray;box-sizing: border-box;top: 0;bottom: 0;left: 50%;z-index: -1;}#sk-container-id-1 div.sk-parallel-item {display: flex;flex-direction: column;z-index: 1;position: relative;background-color: white;}#sk-container-id-1 div.sk-parallel-item:first-child::after {align-self: flex-end;width: 50%;}#sk-container-id-1 div.sk-parallel-item:last-child::after {align-self: flex-start;width: 50%;}#sk-container-id-1 div.sk-parallel-item:only-child::after {width: 0;}#sk-container-id-1 div.sk-dashed-wrapped {border: 1px dashed gray;margin: 0 0.4em 0.5em 0.4em;box-sizing: border-box;padding-bottom: 0.4em;background-color: white;}#sk-container-id-1 div.sk-label label {font-family: monospace;font-weight: bold;display: inline-block;line-height: 1.2em;}#sk-container-id-1 div.sk-label-container {text-align: center;}#sk-container-id-1 div.sk-container {/* jupyter's `normalize.less` sets `[hidden] { display: none; }` but bootstrap.min.css set `[hidden] { display: none !important; }` so we also need the `!important` here to be able to override the default hidden behavior on the sphinx rendered scikit-learn.org. See: https://github.com/scikit-learn/scikit-learn/issues/21755 */display: inline-block !important;position: relative;}#sk-container-id-1 div.sk-text-repr-fallback {display: none;}</style><div id=\"sk-container-id-1\" class=\"sk-top-container\"><div class=\"sk-text-repr-fallback\"><pre>RandomForestClassifier(max_features=2, random_state=0)</pre><b>In a Jupyter environment, please rerun this cell to show the HTML representation or trust the notebook. <br />On GitHub, the HTML representation is unable to render, please try loading this page with nbviewer.org.</b></div><div class=\"sk-container\" hidden><div class=\"sk-item\"><div class=\"sk-estimator sk-toggleable\"><input class=\"sk-toggleable__control sk-hidden--visually\" id=\"sk-estimator-id-1\" type=\"checkbox\" checked><label for=\"sk-estimator-id-1\" class=\"sk-toggleable__label sk-toggleable__label-arrow\">RandomForestClassifier</label><div class=\"sk-toggleable__content\"><pre>RandomForestClassifier(max_features=2, random_state=0)</pre></div></div></div></div></div>"
      ],
      "text/plain": [
       "RandomForestClassifier(max_features=2, random_state=0)"
      ]
     },
     "execution_count": 33,
     "metadata": {},
     "output_type": "execute_result"
    }
   ],
   "source": [
    "rf = RandomForestClassifier(n_estimators=100, random_state=0, max_features=2)\n",
    "rf.fit(X_train, y_train)"
   ]
  },
  {
   "cell_type": "code",
   "execution_count": 34,
   "metadata": {},
   "outputs": [
    {
     "name": "stdout",
     "output_type": "stream",
     "text": [
      "AUC of RandomForest: 0.928\n"
     ]
    },
    {
     "data": {
      "image/png": "[encoded data removed]",
      "text/plain": [
       "<Figure size 640x480 with 1 Axes>"
      ]
     },
     "metadata": {},
     "output_type": "display_data"
    }
   ],
   "source": [
    "fpr_rf, tpr_rf, thresholds_rf = roc_curve(y_test, rf.predict_proba(X_test)[:, 1])\n",
    "\n",
    "plt.plot(fpr_rf, tpr_rf, label=\"ROC Curve\")\n",
    "\n",
    "plt.xlabel(\"FPR\")\n",
    "plt.ylabel(\"TPR\")\n",
    "close_default_rf = np.argmin(np.abs(thresholds_rf-0.5))\n",
    "plt.plot(fpr_rf[close_default_rf], tpr_rf[close_default_rf], '^', markersize=10,\n",
    "         label=\"RF threshold 0.5\", fillstyle=\"none\", c='k', mew=2)\n",
    "\n",
    "plt.legend(loc=4)\n",
    "\n",
    "rf_auc = roc_auc_score(y_test, rf.predict_proba(X_test)[:, 1])\n",
    "print(\"AUC of RandomForest: {:.3f}\".format(rf_auc))"
   ]
  },
  {
   "cell_type": "markdown",
   "metadata": {},
   "source": [
    "# Metrics for Multiclass Classification"
   ]
  },
  {
   "cell_type": "code",
   "execution_count": 35,
   "metadata": {},
   "outputs": [],
   "source": [
    "iris_dataset = load_iris()\n",
    "\n",
    "X_train, X_test, y_train, y_test = train_test_split(iris_dataset['data'], iris_dataset['target'], \n",
    "                                                    random_state = 0)"
   ]
  },
  {
   "cell_type": "code",
   "execution_count": 36,
   "metadata": {},
   "outputs": [
    {
     "name": "stdout",
     "output_type": "stream",
     "text": [
      "Acciracy: 0.868\n",
      "Confusion Matrix:\n",
      " [[13  0  0]\n",
      " [ 0 11  5]\n",
      " [ 0  0  9]]\n"
     ]
    }
   ],
   "source": [
    "lr = LogisticRegression(solver='liblinear', multi_class='ovr').fit(X_train, y_train)\n",
    "pred = lr.predict(X_test)\n",
    "print(\"Acciracy: {:.3f}\".format(accuracy_score(y_test, pred)))\n",
    "print(\"Confusion Matrix:\\n\", confusion_matrix(y_test, pred))"
   ]
  },
  {
   "cell_type": "markdown",
   "metadata": {},
   "source": [
    "In the multiclass case, the training algorithm uses the one-vs-rest (OvR)\n",
    "scheme if the 'multi_class' option is set to 'ovr', and uses the\n",
    "cross-entropy loss if the 'multi_class' option is set to 'multinomial'.\n",
    "(Currently the 'multinomial' option is supported only by the 'lbfgs',\n",
    "'sag', 'saga' and 'newton-cg' solvers.)"
   ]
  },
  {
   "cell_type": "code",
   "execution_count": 37,
   "metadata": {},
   "outputs": [
    {
     "data": {
      "image/png": "[encoded data removed]",
      "text/plain": [
       "<Figure size 640x480 with 1 Axes>"
      ]
     },
     "metadata": {},
     "output_type": "display_data"
    }
   ],
   "source": [
    "scores_image = mglearn.tools.heatmap(\n",
    "    confusion_matrix(y_test, pred), xlabel='Predicted label',\n",
    "    ylabel='True Label', xticklabels=iris_dataset.target_names,\n",
    "    yticklabels=iris_dataset.target_names, cmap=plt.cm.gray_r, fmt=\"%d\")    \n",
    "\n",
    "plt.title(\"Confusion Matrix\")\n",
    "plt.gca().invert_yaxis()"
   ]
  },
  {
   "cell_type": "code",
   "execution_count": 38,
   "metadata": {},
   "outputs": [
    {
     "name": "stdout",
     "output_type": "stream",
     "text": [
      "              precision    recall  f1-score   support\n",
      "\n",
      "           0       1.00      1.00      1.00        13\n",
      "           1       1.00      0.69      0.81        16\n",
      "           2       0.64      1.00      0.78         9\n",
      "\n",
      "    accuracy                           0.87        38\n",
      "   macro avg       0.88      0.90      0.87        38\n",
      "weighted avg       0.92      0.87      0.87        38\n",
      "\n"
     ]
    }
   ],
   "source": [
    "print(classification_report(y_test, pred))"
   ]
  },
  {
   "cell_type": "code",
   "execution_count": 39,
   "metadata": {},
   "outputs": [
    {
     "name": "stdout",
     "output_type": "stream",
     "text": [
      "\u001b[1;31mInit signature:\u001b[0m\n",
      "\u001b[0mRandomForestClassifier\u001b[0m\u001b[1;33m(\u001b[0m\u001b[1;33m\n",
      "\u001b[0m    \u001b[0mn_estimators\u001b[0m\u001b[1;33m=\u001b[0m\u001b[1;36m100\u001b[0m\u001b[1;33m,\u001b[0m\u001b[1;33m\n",
      "\u001b[0m    \u001b[1;33m*\u001b[0m\u001b[1;33m,\u001b[0m\u001b[1;33m\n",
      "\u001b[0m    \u001b[0mcriterion\u001b[0m\u001b[1;33m=\u001b[0m\u001b[1;34m'gini'\u001b[0m\u001b[1;33m,\u001b[0m\u001b[1;33m\n",
      "\u001b[0m    \u001b[0mmax_depth\u001b[0m\u001b[1;33m=\u001b[0m\u001b[1;32mNone\u001b[0m\u001b[1;33m,\u001b[0m\u001b[1;33m\n",
      "\u001b[0m    \u001b[0mmin_samples_split\u001b[0m\u001b[1;33m=\u001b[0m\u001b[1;36m2\u001b[0m\u001b[1;33m,\u001b[0m\u001b[1;33m\n",
      "\u001b[0m    \u001b[0mmin_samples_leaf\u001b[0m\u001b[1;33m=\u001b[0m\u001b[1;36m1\u001b[0m\u001b[1;33m,\u001b[0m\u001b[1;33m\n",
      "\u001b[0m    \u001b[0mmin_weight_fraction_leaf\u001b[0m\u001b[1;33m=\u001b[0m\u001b[1;36m0.0\u001b[0m\u001b[1;33m,\u001b[0m\u001b[1;33m\n",
      "\u001b[0m    \u001b[0mmax_features\u001b[0m\u001b[1;33m=\u001b[0m\u001b[1;34m'sqrt'\u001b[0m\u001b[1;33m,\u001b[0m\u001b[1;33m\n",
      "\u001b[0m    \u001b[0mmax_leaf_nodes\u001b[0m\u001b[1;33m=\u001b[0m\u001b[1;32mNone\u001b[0m\u001b[1;33m,\u001b[0m\u001b[1;33m\n",
      "\u001b[0m    \u001b[0mmin_impurity_decrease\u001b[0m\u001b[1;33m=\u001b[0m\u001b[1;36m0.0\u001b[0m\u001b[1;33m,\u001b[0m\u001b[1;33m\n",
      "\u001b[0m    \u001b[0mbootstrap\u001b[0m\u001b[1;33m=\u001b[0m\u001b[1;32mTrue\u001b[0m\u001b[1;33m,\u001b[0m\u001b[1;33m\n",
      "\u001b[0m    \u001b[0moob_score\u001b[0m\u001b[1;33m=\u001b[0m\u001b[1;32mFalse\u001b[0m\u001b[1;33m,\u001b[0m\u001b[1;33m\n",
      "\u001b[0m    \u001b[0mn_jobs\u001b[0m\u001b[1;33m=\u001b[0m\u001b[1;32mNone\u001b[0m\u001b[1;33m,\u001b[0m\u001b[1;33m\n",
      "\u001b[0m    \u001b[0mrandom_state\u001b[0m\u001b[1;33m=\u001b[0m\u001b[1;32mNone\u001b[0m\u001b[1;33m,\u001b[0m\u001b[1;33m\n",
      "\u001b[0m    \u001b[0mverbose\u001b[0m\u001b[1;33m=\u001b[0m\u001b[1;36m0\u001b[0m\u001b[1;33m,\u001b[0m\u001b[1;33m\n",
      "\u001b[0m    \u001b[0mwarm_start\u001b[0m\u001b[1;33m=\u001b[0m\u001b[1;32mFalse\u001b[0m\u001b[1;33m,\u001b[0m\u001b[1;33m\n",
      "\u001b[0m    \u001b[0mclass_weight\u001b[0m\u001b[1;33m=\u001b[0m\u001b[1;32mNone\u001b[0m\u001b[1;33m,\u001b[0m\u001b[1;33m\n",
      "\u001b[0m    \u001b[0mccp_alpha\u001b[0m\u001b[1;33m=\u001b[0m\u001b[1;36m0.0\u001b[0m\u001b[1;33m,\u001b[0m\u001b[1;33m\n",
      "\u001b[0m    \u001b[0mmax_samples\u001b[0m\u001b[1;33m=\u001b[0m\u001b[1;32mNone\u001b[0m\u001b[1;33m,\u001b[0m\u001b[1;33m\n",
      "\u001b[0m\u001b[1;33m)\u001b[0m\u001b[1;33m\u001b[0m\u001b[1;33m\u001b[0m\u001b[0m\n",
      "\u001b[1;31mDocstring:\u001b[0m     \n",
      "A random forest classifier.\n",
      "\n",
      "A random forest is a meta estimator that fits a number of decision tree\n",
      "classifiers on various sub-samples of the dataset and uses averaging to\n",
      "improve the predictive accuracy and control over-fitting.\n",
      "The sub-sample size is controlled with the `max_samples` parameter if\n",
      "`bootstrap=True` (default), otherwise the whole dataset is used to build\n",
      "each tree.\n",
      "\n",
      "Read more in the :ref:`User Guide <forest>`.\n",
      "\n",
      "Parameters\n",
      "----------\n",
      "n_estimators : int, default=100\n",
      "    The number of trees in the forest.\n",
      "\n",
      "    .. versionchanged:: 0.22\n",
      "       The default value of ``n_estimators`` changed from 10 to 100\n",
      "       in 0.22.\n",
      "\n",
      "criterion : {\"gini\", \"entropy\", \"log_loss\"}, default=\"gini\"\n",
      "    The function to measure the quality of a split. Supported criteria are\n",
      "    \"gini\" for the Gini impurity and \"log_loss\" and \"entropy\" both for the\n",
      "    Shannon information gain, see :ref:`tree_mathematical_formulation`.\n",
      "    Note: This parameter is tree-specific.\n",
      "\n",
      "max_depth : int, default=None\n",
      "    The maximum depth of the tree. If None, then nodes are expanded until\n",
      "    all leaves are pure or until all leaves contain less than\n",
      "    min_samples_split samples.\n",
      "\n",
      "min_samples_split : int or float, default=2\n",
      "    The minimum number of samples required to split an internal node:\n",
      "\n",
      "    - If int, then consider `min_samples_split` as the minimum number.\n",
      "    - If float, then `min_samples_split` is a fraction and\n",
      "      `ceil(min_samples_split * n_samples)` are the minimum\n",
      "      number of samples for each split.\n",
      "\n",
      "    .. versionchanged:: 0.18\n",
      "       Added float values for fractions.\n",
      "\n",
      "min_samples_leaf : int or float, default=1\n",
      "    The minimum number of samples required to be at a leaf node.\n",
      "    A split point at any depth will only be considered if it leaves at\n",
      "    least ``min_samples_leaf`` training samples in each of the left and\n",
      "    right branches.  This may have the effect of smoothing the model,\n",
      "    especially in regression.\n",
      "\n",
      "    - If int, then consider `min_samples_leaf` as the minimum number.\n",
      "    - If float, then `min_samples_leaf` is a fraction and\n",
      "      `ceil(min_samples_leaf * n_samples)` are the minimum\n",
      "      number of samples for each node.\n",
      "\n",
      "    .. versionchanged:: 0.18\n",
      "       Added float values for fractions.\n",
      "\n",
      "min_weight_fraction_leaf : float, default=0.0\n",
      "    The minimum weighted fraction of the sum total of weights (of all\n",
      "    the input samples) required to be at a leaf node. Samples have\n",
      "    equal weight when sample_weight is not provided.\n",
      "\n",
      "max_features : {\"sqrt\", \"log2\", None}, int or float, default=\"sqrt\"\n",
      "    The number of features to consider when looking for the best split:\n",
      "\n",
      "    - If int, then consider `max_features` features at each split.\n",
      "    - If float, then `max_features` is a fraction and\n",
      "      `max(1, int(max_features * n_features_in_))` features are considered at each\n",
      "      split.\n",
      "    - If \"auto\", then `max_features=sqrt(n_features)`.\n",
      "    - If \"sqrt\", then `max_features=sqrt(n_features)`.\n",
      "    - If \"log2\", then `max_features=log2(n_features)`.\n",
      "    - If None, then `max_features=n_features`.\n",
      "\n",
      "    .. versionchanged:: 1.1\n",
      "        The default of `max_features` changed from `\"auto\"` to `\"sqrt\"`.\n",
      "\n",
      "    .. deprecated:: 1.1\n",
      "        The `\"auto\"` option was deprecated in 1.1 and will be removed\n",
      "        in 1.3.\n",
      "\n",
      "    Note: the search for a split does not stop until at least one\n",
      "    valid partition of the node samples is found, even if it requires to\n",
      "    effectively inspect more than ``max_features`` features.\n",
      "\n",
      "max_leaf_nodes : int, default=None\n",
      "    Grow trees with ``max_leaf_nodes`` in best-first fashion.\n",
      "    Best nodes are defined as relative reduction in impurity.\n",
      "    If None then unlimited number of leaf nodes.\n",
      "\n",
      "min_impurity_decrease : float, default=0.0\n",
      "    A node will be split if this split induces a decrease of the impurity\n",
      "    greater than or equal to this value.\n",
      "\n",
      "    The weighted impurity decrease equation is the following::\n",
      "\n",
      "        N_t / N * (impurity - N_t_R / N_t * right_impurity\n",
      "                            - N_t_L / N_t * left_impurity)\n",
      "\n",
      "    where ``N`` is the total number of samples, ``N_t`` is the number of\n",
      "    samples at the current node, ``N_t_L`` is the number of samples in the\n",
      "    left child, and ``N_t_R`` is the number of samples in the right child.\n",
      "\n",
      "    ``N``, ``N_t``, ``N_t_R`` and ``N_t_L`` all refer to the weighted sum,\n",
      "    if ``sample_weight`` is passed.\n",
      "\n",
      "    .. versionadded:: 0.19\n",
      "\n",
      "bootstrap : bool, default=True\n",
      "    Whether bootstrap samples are used when building trees. If False, the\n",
      "    whole dataset is used to build each tree.\n",
      "\n",
      "oob_score : bool, default=False\n",
      "    Whether to use out-of-bag samples to estimate the generalization score.\n",
      "    Only available if bootstrap=True.\n",
      "\n",
      "n_jobs : int, default=None\n",
      "    The number of jobs to run in parallel. :meth:`fit`, :meth:`predict`,\n",
      "    :meth:`decision_path` and :meth:`apply` are all parallelized over the\n",
      "    trees. ``None`` means 1 unless in a :obj:`joblib.parallel_backend`\n",
      "    context. ``-1`` means using all processors. See :term:`Glossary\n",
      "    <n_jobs>` for more details.\n",
      "\n",
      "random_state : int, RandomState instance or None, default=None\n",
      "    Controls both the randomness of the bootstrapping of the samples used\n",
      "    when building trees (if ``bootstrap=True``) and the sampling of the\n",
      "    features to consider when looking for the best split at each node\n",
      "    (if ``max_features < n_features``).\n",
      "    See :term:`Glossary <random_state>` for details.\n",
      "\n",
      "verbose : int, default=0\n",
      "    Controls the verbosity when fitting and predicting.\n",
      "\n",
      "warm_start : bool, default=False\n",
      "    When set to ``True``, reuse the solution of the previous call to fit\n",
      "    and add more estimators to the ensemble, otherwise, just fit a whole\n",
      "    new forest. See :term:`Glossary <warm_start>` and\n",
      "    :ref:`gradient_boosting_warm_start` for details.\n",
      "\n",
      "class_weight : {\"balanced\", \"balanced_subsample\"}, dict or list of dicts,             default=None\n",
      "    Weights associated with classes in the form ``{class_label: weight}``.\n",
      "    If not given, all classes are supposed to have weight one. For\n",
      "    multi-output problems, a list of dicts can be provided in the same\n",
      "    order as the columns of y.\n",
      "\n",
      "    Note that for multioutput (including multilabel) weights should be\n",
      "    defined for each class of every column in its own dict. For example,\n",
      "    for four-class multilabel classification weights should be\n",
      "    [{0: 1, 1: 1}, {0: 1, 1: 5}, {0: 1, 1: 1}, {0: 1, 1: 1}] instead of\n",
      "    [{1:1}, {2:5}, {3:1}, {4:1}].\n",
      "\n",
      "    The \"balanced\" mode uses the values of y to automatically adjust\n",
      "    weights inversely proportional to class frequencies in the input data\n",
      "    as ``n_samples / (n_classes * np.bincount(y))``\n",
      "\n",
      "    The \"balanced_subsample\" mode is the same as \"balanced\" except that\n",
      "    weights are computed based on the bootstrap sample for every tree\n",
      "    grown.\n",
      "\n",
      "    For multi-output, the weights of each column of y will be multiplied.\n",
      "\n",
      "    Note that these weights will be multiplied with sample_weight (passed\n",
      "    through the fit method) if sample_weight is specified.\n",
      "\n",
      "ccp_alpha : non-negative float, default=0.0\n",
      "    Complexity parameter used for Minimal Cost-Complexity Pruning. The\n",
      "    subtree with the largest cost complexity that is smaller than\n",
      "    ``ccp_alpha`` will be chosen. By default, no pruning is performed. See\n",
      "    :ref:`minimal_cost_complexity_pruning` for details.\n",
      "\n",
      "    .. versionadded:: 0.22\n",
      "\n",
      "max_samples : int or float, default=None\n",
      "    If bootstrap is True, the number of samples to draw from X\n",
      "    to train each base estimator.\n",
      "\n",
      "    - If None (default), then draw `X.shape[0]` samples.\n",
      "    - If int, then draw `max_samples` samples.\n",
      "    - If float, then draw `max_samples * X.shape[0]` samples. Thus,\n",
      "      `max_samples` should be in the interval `(0.0, 1.0]`.\n",
      "\n",
      "    .. versionadded:: 0.22\n",
      "\n",
      "Attributes\n",
      "----------\n",
      "estimator_ : :class:`~sklearn.tree.DecisionTreeClassifier`\n",
      "    The child estimator template used to create the collection of fitted\n",
      "    sub-estimators.\n",
      "\n",
      "    .. versionadded:: 1.2\n",
      "       `base_estimator_` was renamed to `estimator_`.\n",
      "\n",
      "base_estimator_ : DecisionTreeClassifier\n",
      "    The child estimator template used to create the collection of fitted\n",
      "    sub-estimators.\n",
      "\n",
      "    .. deprecated:: 1.2\n",
      "        `base_estimator_` is deprecated and will be removed in 1.4.\n",
      "        Use `estimator_` instead.\n",
      "\n",
      "estimators_ : list of DecisionTreeClassifier\n",
      "    The collection of fitted sub-estimators.\n",
      "\n",
      "classes_ : ndarray of shape (n_classes,) or a list of such arrays\n",
      "    The classes labels (single output problem), or a list of arrays of\n",
      "    class labels (multi-output problem).\n",
      "\n",
      "n_classes_ : int or list\n",
      "    The number of classes (single output problem), or a list containing the\n",
      "    number of classes for each output (multi-output problem).\n",
      "\n",
      "n_features_in_ : int\n",
      "    Number of features seen during :term:`fit`.\n",
      "\n",
      "    .. versionadded:: 0.24\n",
      "\n",
      "feature_names_in_ : ndarray of shape (`n_features_in_`,)\n",
      "    Names of features seen during :term:`fit`. Defined only when `X`\n",
      "    has feature names that are all strings.\n",
      "\n",
      "    .. versionadded:: 1.0\n",
      "\n",
      "n_outputs_ : int\n",
      "    The number of outputs when ``fit`` is performed.\n",
      "\n",
      "feature_importances_ : ndarray of shape (n_features,)\n",
      "    The impurity-based feature importances.\n",
      "    The higher, the more important the feature.\n",
      "    The importance of a feature is computed as the (normalized)\n",
      "    total reduction of the criterion brought by that feature.  It is also\n",
      "    known as the Gini importance.\n",
      "\n",
      "    Warning: impurity-based feature importances can be misleading for\n",
      "    high cardinality features (many unique values). See\n",
      "    :func:`sklearn.inspection.permutation_importance` as an alternative.\n",
      "\n",
      "oob_score_ : float\n",
      "    Score of the training dataset obtained using an out-of-bag estimate.\n",
      "    This attribute exists only when ``oob_score`` is True.\n",
      "\n",
      "oob_decision_function_ : ndarray of shape (n_samples, n_classes) or             (n_samples, n_classes, n_outputs)\n",
      "    Decision function computed with out-of-bag estimate on the training\n",
      "    set. If n_estimators is small it might be possible that a data point\n",
      "    was never left out during the bootstrap. In this case,\n",
      "    `oob_decision_function_` might contain NaN. This attribute exists\n",
      "    only when ``oob_score`` is True.\n",
      "\n",
      "See Also\n",
      "--------\n",
      "sklearn.tree.DecisionTreeClassifier : A decision tree classifier.\n",
      "sklearn.ensemble.ExtraTreesClassifier : Ensemble of extremely randomized\n",
      "    tree classifiers.\n",
      "\n",
      "Notes\n",
      "-----\n",
      "The default values for the parameters controlling the size of the trees\n",
      "(e.g. ``max_depth``, ``min_samples_leaf``, etc.) lead to fully grown and\n",
      "unpruned trees which can potentially be very large on some data sets. To\n",
      "reduce memory consumption, the complexity and size of the trees should be\n",
      "controlled by setting those parameter values.\n",
      "\n",
      "The features are always randomly permuted at each split. Therefore,\n",
      "the best found split may vary, even with the same training data,\n",
      "``max_features=n_features`` and ``bootstrap=False``, if the improvement\n",
      "of the criterion is identical for several splits enumerated during the\n",
      "search of the best split. To obtain a deterministic behaviour during\n",
      "fitting, ``random_state`` has to be fixed.\n",
      "\n",
      "References\n",
      "----------\n",
      ".. [1] L. Breiman, \"Random Forests\", Machine Learning, 45(1), 5-32, 2001.\n",
      "\n",
      "Examples\n",
      "--------\n",
      ">>> from sklearn.ensemble import RandomForestClassifier\n",
      ">>> from sklearn.datasets import make_classification\n",
      ">>> X, y = make_classification(n_samples=1000, n_features=4,\n",
      "...                            n_informative=2, n_redundant=0,\n",
      "...                            random_state=0, shuffle=False)\n",
      ">>> clf = RandomForestClassifier(max_depth=2, random_state=0)\n",
      ">>> clf.fit(X, y)\n",
      "RandomForestClassifier(...)\n",
      ">>> print(clf.predict([[0, 0, 0, 0]]))\n",
      "[1]\n",
      "\u001b[1;31mFile:\u001b[0m           c:\\programdata\\anaconda3\\lib\\site-packages\\sklearn\\ensemble\\_forest.py\n",
      "\u001b[1;31mType:\u001b[0m           ABCMeta\n",
      "\u001b[1;31mSubclasses:\u001b[0m     "
     ]
    }
   ],
   "source": [
    "RandomForestClassifier?"
   ]
  },
  {
   "cell_type": "markdown",
   "metadata": {},
   "source": [
    "## \\[11/20\\] Uncertainty Estimation"
   ]
  },
  {
   "cell_type": "code",
   "execution_count": 42,
   "metadata": {},
   "outputs": [
    {
     "name": "stdout",
     "output_type": "stream",
     "text": [
      "(100, 2)\n",
      "[[-0.37748684 -0.0400769 ]\n",
      " [ 0.02701955 -0.48423931]\n",
      " [-0.36118825 -1.4007017 ]\n",
      " [-0.68154165  0.00577195]\n",
      " [ 0.79966997 -0.1374838 ]\n",
      " [-0.44067409  0.65738634]\n",
      " [-0.51680069 -0.64905973]\n",
      " [-0.48984706 -0.07126104]\n",
      " [-0.24030273  0.4245925 ]\n",
      " [-0.15480597  0.3987051 ]\n",
      " [ 0.22202915 -0.56040775]\n",
      " [ 0.14845311 -0.83918918]\n",
      " [ 0.55447318  0.52619405]\n",
      " [ 0.73776469 -0.06026285]\n",
      " [ 0.56048402 -0.22169632]\n",
      " [-0.24288865 -0.81429088]\n",
      " [-1.16124083 -0.74556572]\n",
      " [ 0.77723853 -0.37259801]\n",
      " [-0.47721837 -0.37664926]\n",
      " [ 0.11550395  1.10356127]\n",
      " [ 0.58181291  0.19749795]\n",
      " [-0.85136464  0.13473314]\n",
      " [ 0.47159612 -0.34434378]\n",
      " [-0.0609338   0.20718973]\n",
      " [-0.72283227  0.43895304]\n",
      " [-0.38474582 -1.09366122]\n",
      " [ 0.13179551 -0.53591877]\n",
      " [-0.93195251 -0.462223  ]\n",
      " [ 0.41735023 -0.76677992]\n",
      " [-0.08532078 -0.77752591]\n",
      " [-0.07320389  0.79692206]\n",
      " [ 0.88178468 -0.17459954]\n",
      " [-0.00626974 -0.20708197]\n",
      " [ 0.15324214 -0.39398671]\n",
      " [ 0.16545985 -0.17406719]\n",
      " [ 0.33256209 -1.02184884]\n",
      " [ 0.86965498 -0.42679788]\n",
      " [-0.12619675  0.2429846 ]\n",
      " [-1.09206083  0.21332828]\n",
      " [-0.64444698 -0.6431081 ]\n",
      " [-0.02623139 -0.38891479]\n",
      " [ 0.380554    0.21174896]\n",
      " [-0.34069153  0.04731261]\n",
      " [ 0.12192553  0.34556373]\n",
      " [-0.64320914 -0.41056425]\n",
      " [ 0.40664642 -0.69430408]\n",
      " [ 0.90086708 -0.71560874]\n",
      " [ 0.02902536 -0.51762655]\n",
      " [-0.69868661 -0.05917019]\n",
      " [ 0.10788918  0.14011132]\n",
      " [ 0.68124793 -0.33103   ]\n",
      " [ 0.22260691  0.42263491]\n",
      " [-1.1660942   0.56999344]\n",
      " [ 1.10502884  0.68569017]\n",
      " [ 0.44576743  0.37933649]\n",
      " [ 0.94124669 -0.01979147]\n",
      " [-0.53708568  0.42894791]\n",
      " [ 0.29928333 -0.89756805]\n",
      " [ 0.90589752  0.2917448 ]\n",
      " [-0.43881656 -0.06221795]\n",
      " [-0.81519726 -0.66222818]\n",
      " [-0.23666932  0.51857152]\n",
      " [-0.64588516  0.27681644]\n",
      " [ 0.79054537 -0.84229653]\n",
      " [ 0.48373912 -0.29795546]\n",
      " [ 0.28684149 -0.56202046]\n",
      " [ 0.51764083  0.96526809]\n",
      " [ 0.38603786  0.01374267]\n",
      " [ 1.06673795 -0.02746991]\n",
      " [-0.0220338  -0.67336171]\n",
      " [ 0.22314563  0.51658664]\n",
      " [-0.88338853  0.70110336]\n",
      " [ 0.18564809  0.17156986]\n",
      " [-0.06229749  0.3606729 ]\n",
      " [ 0.89933758  0.82531933]\n",
      " [ 0.26516411 -0.03906867]\n",
      " [-0.15989763  0.65656872]\n",
      " [ 0.0111527   0.13390245]\n",
      " [-0.26942143 -0.42215965]\n",
      " [-0.24641274  0.55560843]\n",
      " [-1.19573449 -0.65412336]\n",
      " [-0.92272864 -0.47424498]\n",
      " [ 0.2313728   0.71758564]\n",
      " [-0.70881607  0.47004853]\n",
      " [-1.09305938  0.81980325]\n",
      " [ 0.52350731  0.3769029 ]\n",
      " [-0.71786926  0.03192209]\n",
      " [ 0.71111192  0.53972591]\n",
      " [-0.31390259  0.52510658]\n",
      " [-0.31035122  0.18368437]\n",
      " [ 1.16423128  0.02219089]\n",
      " [-0.37241742  0.76275339]\n",
      " [-0.06939159  0.15029222]\n",
      " [-0.4522767  -0.01130911]\n",
      " [ 0.87003685  0.65028978]\n",
      " [-0.46857754 -0.2812264 ]\n",
      " [ 0.05139572  0.86102339]\n",
      " [-0.69298366 -0.50029604]\n",
      " [ 0.5773081   1.01426313]\n",
      " [-0.46637452 -0.76338311]]\n"
     ]
    }
   ],
   "source": [
    "X, y = make_circles(noise=0.25, factor=0.5, random_state=1)\n",
    "\n",
    "# we rename the classes \"blue\" and \"red\" for illustration purposes:\n",
    "y_named = np.array([\"blue\", \"red\"])[y]\n",
    "\n",
    "# we can call train_test_split with arbitrarily many arrays;\n",
    "# all will be split in a consistent manner\n",
    "X_train, X_test, y_train_named, y_test_named, y_train, y_test = train_test_split(X, y_named, y, random_state=0)\n",
    "# usual train_test_split: X_train, X_test, y_train, y_test = train_test_split(X, y, random_state=0)\n",
    "\n",
    "# build the gradient boosting model\n",
    "gbrt = GradientBoostingClassifier(random_state=0)\n",
    "gbrt.fit(X_train, y_train_named)\n",
    "\n",
    "print(X.shape)\n",
    "print(X)"
   ]
  },
  {
   "cell_type": "code",
   "execution_count": 43,
   "metadata": {},
   "outputs": [
    {
     "name": "stdout",
     "output_type": "stream",
     "text": [
      "[1 1 0 1 1 0 0 1 1 1 1 0 1 1 1 0 0 0 1 0 0 1 1 1 0 0 1 0 0 0 1 1 1 1 1 0 0\n",
      " 1 0 0 1 1 1 0 1 0 0 1 0 1 0 1 0 0 1 0 0 1 0 1 0 1 1 0 0 1 0 1 0 1 1 0 1 1\n",
      " 0 1 0 1 1 0 0 0 0 0 0 1 0 0 1 1 0 0 1 1 0 1 0 1 0 0]\n",
      "['red' 'red' 'blue' 'red' 'red' 'blue' 'blue' 'red' 'red' 'red' 'red'\n",
      " 'blue' 'red' 'red' 'red' 'blue' 'blue' 'blue' 'red' 'blue' 'blue' 'red'\n",
      " 'red' 'red' 'blue' 'blue' 'red' 'blue' 'blue' 'blue' 'red' 'red' 'red'\n",
      " 'red' 'red' 'blue' 'blue' 'red' 'blue' 'blue' 'red' 'red' 'red' 'blue'\n",
      " 'red' 'blue' 'blue' 'red' 'blue' 'red' 'blue' 'red' 'blue' 'blue' 'red'\n",
      " 'blue' 'blue' 'red' 'blue' 'red' 'blue' 'red' 'red' 'blue' 'blue' 'red'\n",
      " 'blue' 'red' 'blue' 'red' 'red' 'blue' 'red' 'red' 'blue' 'red' 'blue'\n",
      " 'red' 'red' 'blue' 'blue' 'blue' 'blue' 'blue' 'blue' 'red' 'blue' 'blue'\n",
      " 'red' 'red' 'blue' 'blue' 'red' 'red' 'blue' 'red' 'blue' 'red' 'blue'\n",
      " 'blue']\n"
     ]
    }
   ],
   "source": [
    "print(y)\n",
    "print(y_named)"
   ]
  },
  {
   "cell_type": "markdown",
   "metadata": {},
   "source": [
    "## Decision Function"
   ]
  },
  {
   "cell_type": "code",
   "execution_count": 44,
   "metadata": {},
   "outputs": [
    {
     "name": "stdout",
     "output_type": "stream",
     "text": [
      "X_test.shape: (25, 2)\n",
      "Decision function shape: (25,)\n",
      "Decision function: [ 4.13592603 -1.70169917 -3.95106099 -3.62609552  4.28986642  3.66166081\n",
      " -7.69097179  4.11001686  1.10753937  3.40782222 -6.46255955  4.28986642\n",
      "  3.90156346 -1.20031247  3.66166081 -4.17231157 -1.23010079 -3.91576223\n",
      "  4.03602783  4.11001686  4.11001686  0.65709014  2.69826265 -2.65673274\n",
      " -1.86776596]\n",
      "\n",
      "Thresholded decision function:\n",
      " [ True False False False  True  True False  True  True  True False  True\n",
      "  True False  True False False False  True  True  True  True  True False\n",
      " False]\n",
      "Predictions:\n",
      " ['red' 'blue' 'blue' 'blue' 'red' 'red' 'blue' 'red' 'red' 'red' 'blue'\n",
      " 'red' 'red' 'blue' 'red' 'blue' 'blue' 'blue' 'red' 'red' 'red' 'red'\n",
      " 'red' 'blue' 'blue']\n"
     ]
    }
   ],
   "source": [
    "print(\"X_test.shape:\", X_test.shape)\n",
    "print(\"Decision function shape:\", gbrt.decision_function(X_test).shape)\n",
    "\n",
    "# show the first few entries of decision_function\n",
    "print(\"Decision function:\", gbrt.decision_function(X_test))\n",
    "\n",
    "print()\n",
    "\n",
    "print(\"Thresholded decision function:\\n\",gbrt.decision_function(X_test) > 0)\n",
    "print(\"Predictions:\\n\", gbrt.predict(X_test))"
   ]
  },
  {
   "cell_type": "markdown",
   "metadata": {},
   "source": [
    "양수: 양성 클래스일 경향성\\\n",
    "음수: 음성 클래스일 경향성"
   ]
  },
  {
   "cell_type": "code",
   "execution_count": 46,
   "metadata": {},
   "outputs": [
    {
     "name": "stdout",
     "output_type": "stream",
     "text": [
      "Decision function minimum: -7.69 maximum: 4.29\n"
     ]
    },
    {
     "name": "stderr",
     "output_type": "stream",
     "text": [
      "C:\\Users\\nsun5\\AppData\\Local\\Temp\\ipykernel_6620\\1412437467.py:18: MatplotlibDeprecationWarning: The draw_all function was deprecated in Matplotlib 3.6 and will be removed two minor releases later. Use fig.draw_without_rendering() instead.\n",
      "  cbar.draw_all()\n"
     ]
    },
    {
     "data": {
      "image/png": "[encoded data removed]",
      "text/plain": [
       "<Figure size 1300x500 with 3 Axes>"
      ]
     },
     "metadata": {},
     "output_type": "display_data"
    }
   ],
   "source": [
    "decision_function = gbrt.decision_function(X_test)\n",
    "\n",
    "print(f\"Decision function minimum: {np.min(decision_function):.2f} maximum: {np.max(decision_function):.2f}\")\n",
    "\n",
    "fig, axes = plt.subplots(1, 2, figsize=(13, 5))\n",
    "mglearn.tools.plot_2d_separator(gbrt, X, ax=axes[0], alpha=.4, fill=True, cm=mglearn.cm2)\n",
    "scores_image = mglearn.tools.plot_2d_scores(gbrt, X, ax=axes[1], alpha=.4, cm=mglearn.ReBl)\n",
    "\n",
    "for ax in axes:\n",
    "    # plot training and test points\n",
    "    mglearn.discrete_scatter(X_test[:, 0], X_test[:, 1], y_test, markers='^', ax=ax)\n",
    "    mglearn.discrete_scatter(X_train[:, 0], X_train[:, 1], y_train, markers='o', ax=ax)\n",
    "    ax.set_xlabel(\"Feature 0\")\n",
    "    ax.set_ylabel(\"Feature 1\")\n",
    "    \n",
    "cbar = plt.colorbar(scores_image, ax=axes.tolist())\n",
    "cbar.set_alpha(1)\n",
    "cbar.draw_all()\n",
    "axes[0].legend([\"Test class 0\", \"Test class 1\", \"Train class 0\",\n",
    "                \"Train class 1\"], ncol=4, loc=(.1, 1.1))\n",
    "plt.show()"
   ]
  },
  {
   "cell_type": "markdown",
   "metadata": {},
   "source": [
    "자, 데이터가 이렇게 원형이다."
   ]
  },
  {
   "cell_type": "markdown",
   "metadata": {},
   "source": [
    "### k-Nearest Neighbors"
   ]
  },
  {
   "cell_type": "code",
   "execution_count": 47,
   "metadata": {},
   "outputs": [
    {
     "ename": "AttributeError",
     "evalue": "'KNeighborsClassifier' object has no attribute 'decision_function'",
     "output_type": "error",
     "traceback": [
      "\u001b[1;31m---------------------------------------------------------------------------\u001b[0m",
      "\u001b[1;31mAttributeError\u001b[0m                            Traceback (most recent call last)",
      "\u001b[1;32md:\\OneDrive - 중앙대학교\\CAU\\Grade 1 Semester 2\\[전선] 보안데이터 분석\\Workspace\\1108 - Model Evaluation.ipynb Cell 59\u001b[0m line \u001b[0;36m5\n\u001b[0;32m      <a href='vscode-notebook-cell:/d%3A/OneDrive%20-%20%EC%A4%91%EC%95%99%EB%8C%80%ED%95%99%EA%B5%90/CAU/Grade%201%20Semester%202/%5B%EC%A0%84%EC%84%A0%5D%20%EB%B3%B4%EC%95%88%EB%8D%B0%EC%9D%B4%ED%84%B0%20%EB%B6%84%EC%84%9D/Workspace/1108%20-%20Model%20Evaluation.ipynb#Y115sZmlsZQ%3D%3D?line=2'>3</a>\u001b[0m clf \u001b[39m=\u001b[39m KNeighborsClassifier(n_neighbors\u001b[39m=\u001b[39m\u001b[39m4\u001b[39m)\n\u001b[0;32m      <a href='vscode-notebook-cell:/d%3A/OneDrive%20-%20%EC%A4%91%EC%95%99%EB%8C%80%ED%95%99%EA%B5%90/CAU/Grade%201%20Semester%202/%5B%EC%A0%84%EC%84%A0%5D%20%EB%B3%B4%EC%95%88%EB%8D%B0%EC%9D%B4%ED%84%B0%20%EB%B6%84%EC%84%9D/Workspace/1108%20-%20Model%20Evaluation.ipynb#Y115sZmlsZQ%3D%3D?line=3'>4</a>\u001b[0m clf\u001b[39m.\u001b[39mfit(X_train, y_train)\n\u001b[1;32m----> <a href='vscode-notebook-cell:/d%3A/OneDrive%20-%20%EC%A4%91%EC%95%99%EB%8C%80%ED%95%99%EA%B5%90/CAU/Grade%201%20Semester%202/%5B%EC%A0%84%EC%84%A0%5D%20%EB%B3%B4%EC%95%88%EB%8D%B0%EC%9D%B4%ED%84%B0%20%EB%B6%84%EC%84%9D/Workspace/1108%20-%20Model%20Evaluation.ipynb#Y115sZmlsZQ%3D%3D?line=4'>5</a>\u001b[0m clf\u001b[39m.\u001b[39;49mdecision_function(X_test)\n",
      "\u001b[1;31mAttributeError\u001b[0m: 'KNeighborsClassifier' object has no attribute 'decision_function'"
     ]
    }
   ],
   "source": [
    "from sklearn.neighbors import KNeighborsClassifier\n",
    "\n",
    "clf = KNeighborsClassifier(n_neighbors=4)\n",
    "clf.fit(X_train, y_train)\n",
    "clf.decision_function(X_test)"
   ]
  },
  {
   "cell_type": "markdown",
   "metadata": {},
   "source": [
    "kNN은 **그런 거 없다**."
   ]
  },
  {
   "cell_type": "markdown",
   "metadata": {},
   "source": [
    "### Logistic Regression"
   ]
  },
  {
   "cell_type": "code",
   "execution_count": 51,
   "metadata": {},
   "outputs": [
    {
     "name": "stdout",
     "output_type": "stream",
     "text": [
      "[-0.12828781 -0.22283766 -0.05542228 -0.15126832 -0.17611708 -0.2076426\n",
      " -0.15733355 -0.23190331 -0.21367661 -0.17942394 -0.22020005 -0.2096856\n",
      " -0.15642411 -0.15503923 -0.20272621 -0.278994   -0.13525138 -0.26656691\n",
      " -0.1426137  -0.2458247  -0.22295468 -0.24616374 -0.21859495 -0.30099443\n",
      " -0.10040857]\n",
      "[0 0 0 0 0 0 0 0 0 0 0 0 0 0 0 0 0 0 0 0 0 0 0 0 0]\n",
      "Score: 0.36\n"
     ]
    }
   ],
   "source": [
    "from sklearn.linear_model import LogisticRegression\n",
    "\n",
    "lr = LogisticRegression().fit(X_train, y_train)\n",
    "print(lr.decision_function(X_test))\n",
    "print(lr.predict(X_test))\n",
    "print('Score:', lr.score(X_test, y_test)) # 선형으로는 당연히 점수가 안 나오는 게 정상..."
   ]
  },
  {
   "cell_type": "markdown",
   "metadata": {},
   "source": [
    "### Decision Tree"
   ]
  },
  {
   "cell_type": "code",
   "execution_count": 52,
   "metadata": {},
   "outputs": [
    {
     "ename": "AttributeError",
     "evalue": "'DecisionTreeClassifier' object has no attribute 'decision_function'",
     "output_type": "error",
     "traceback": [
      "\u001b[1;31m---------------------------------------------------------------------------\u001b[0m",
      "\u001b[1;31mAttributeError\u001b[0m                            Traceback (most recent call last)",
      "\u001b[1;32md:\\OneDrive - 중앙대학교\\CAU\\Grade 1 Semester 2\\[전선] 보안데이터 분석\\Workspace\\1108 - Model Evaluation.ipynb Cell 64\u001b[0m line \u001b[0;36m4\n\u001b[0;32m      <a href='vscode-notebook-cell:/d%3A/OneDrive%20-%20%EC%A4%91%EC%95%99%EB%8C%80%ED%95%99%EA%B5%90/CAU/Grade%201%20Semester%202/%5B%EC%A0%84%EC%84%A0%5D%20%EB%B3%B4%EC%95%88%EB%8D%B0%EC%9D%B4%ED%84%B0%20%EB%B6%84%EC%84%9D/Workspace/1108%20-%20Model%20Evaluation.ipynb#Y121sZmlsZQ%3D%3D?line=0'>1</a>\u001b[0m \u001b[39mfrom\u001b[39;00m \u001b[39msklearn\u001b[39;00m\u001b[39m.\u001b[39;00m\u001b[39mtree\u001b[39;00m \u001b[39mimport\u001b[39;00m DecisionTreeClassifier\n\u001b[0;32m      <a href='vscode-notebook-cell:/d%3A/OneDrive%20-%20%EC%A4%91%EC%95%99%EB%8C%80%ED%95%99%EA%B5%90/CAU/Grade%201%20Semester%202/%5B%EC%A0%84%EC%84%A0%5D%20%EB%B3%B4%EC%95%88%EB%8D%B0%EC%9D%B4%ED%84%B0%20%EB%B6%84%EC%84%9D/Workspace/1108%20-%20Model%20Evaluation.ipynb#Y121sZmlsZQ%3D%3D?line=2'>3</a>\u001b[0m tree \u001b[39m=\u001b[39m DecisionTreeClassifier()\u001b[39m.\u001b[39mfit(X_train, y_train)\n\u001b[1;32m----> <a href='vscode-notebook-cell:/d%3A/OneDrive%20-%20%EC%A4%91%EC%95%99%EB%8C%80%ED%95%99%EA%B5%90/CAU/Grade%201%20Semester%202/%5B%EC%A0%84%EC%84%A0%5D%20%EB%B3%B4%EC%95%88%EB%8D%B0%EC%9D%B4%ED%84%B0%20%EB%B6%84%EC%84%9D/Workspace/1108%20-%20Model%20Evaluation.ipynb#Y121sZmlsZQ%3D%3D?line=3'>4</a>\u001b[0m tree\u001b[39m.\u001b[39;49mdecision_function(X_test)\n",
      "\u001b[1;31mAttributeError\u001b[0m: 'DecisionTreeClassifier' object has no attribute 'decision_function'"
     ]
    }
   ],
   "source": [
    "from sklearn.tree import DecisionTreeClassifier\n",
    "\n",
    "tree = DecisionTreeClassifier().fit(X_train, y_train)\n",
    "tree.decision_function(X_test)"
   ]
  },
  {
   "cell_type": "markdown",
   "metadata": {},
   "source": [
    "### Random Forest"
   ]
  },
  {
   "cell_type": "code",
   "execution_count": 53,
   "metadata": {},
   "outputs": [
    {
     "ename": "AttributeError",
     "evalue": "'RandomForestClassifier' object has no attribute 'decision_function'",
     "output_type": "error",
     "traceback": [
      "\u001b[1;31m---------------------------------------------------------------------------\u001b[0m",
      "\u001b[1;31mAttributeError\u001b[0m                            Traceback (most recent call last)",
      "\u001b[1;32md:\\OneDrive - 중앙대학교\\CAU\\Grade 1 Semester 2\\[전선] 보안데이터 분석\\Workspace\\1108 - Model Evaluation.ipynb Cell 66\u001b[0m line \u001b[0;36m4\n\u001b[0;32m      <a href='vscode-notebook-cell:/d%3A/OneDrive%20-%20%EC%A4%91%EC%95%99%EB%8C%80%ED%95%99%EA%B5%90/CAU/Grade%201%20Semester%202/%5B%EC%A0%84%EC%84%A0%5D%20%EB%B3%B4%EC%95%88%EB%8D%B0%EC%9D%B4%ED%84%B0%20%EB%B6%84%EC%84%9D/Workspace/1108%20-%20Model%20Evaluation.ipynb#Y124sZmlsZQ%3D%3D?line=0'>1</a>\u001b[0m \u001b[39mfrom\u001b[39;00m \u001b[39msklearn\u001b[39;00m\u001b[39m.\u001b[39;00m\u001b[39mensemble\u001b[39;00m \u001b[39mimport\u001b[39;00m RandomForestClassifier\n\u001b[0;32m      <a href='vscode-notebook-cell:/d%3A/OneDrive%20-%20%EC%A4%91%EC%95%99%EB%8C%80%ED%95%99%EA%B5%90/CAU/Grade%201%20Semester%202/%5B%EC%A0%84%EC%84%A0%5D%20%EB%B3%B4%EC%95%88%EB%8D%B0%EC%9D%B4%ED%84%B0%20%EB%B6%84%EC%84%9D/Workspace/1108%20-%20Model%20Evaluation.ipynb#Y124sZmlsZQ%3D%3D?line=2'>3</a>\u001b[0m rf \u001b[39m=\u001b[39m RandomForestClassifier()\u001b[39m.\u001b[39mfit(X_train, y_train)\n\u001b[1;32m----> <a href='vscode-notebook-cell:/d%3A/OneDrive%20-%20%EC%A4%91%EC%95%99%EB%8C%80%ED%95%99%EA%B5%90/CAU/Grade%201%20Semester%202/%5B%EC%A0%84%EC%84%A0%5D%20%EB%B3%B4%EC%95%88%EB%8D%B0%EC%9D%B4%ED%84%B0%20%EB%B6%84%EC%84%9D/Workspace/1108%20-%20Model%20Evaluation.ipynb#Y124sZmlsZQ%3D%3D?line=3'>4</a>\u001b[0m rf\u001b[39m.\u001b[39;49mdecision_function(X_test)\n",
      "\u001b[1;31mAttributeError\u001b[0m: 'RandomForestClassifier' object has no attribute 'decision_function'"
     ]
    }
   ],
   "source": [
    "from sklearn.ensemble import RandomForestClassifier\n",
    "\n",
    "rf = RandomForestClassifier().fit(X_train, y_train)\n",
    "rf.decision_function(X_test)"
   ]
  },
  {
   "cell_type": "markdown",
   "metadata": {},
   "source": [
    "## Predicting Probabilities"
   ]
  },
  {
   "cell_type": "code",
   "execution_count": 54,
   "metadata": {},
   "outputs": [
    {
     "name": "stdout",
     "output_type": "stream",
     "text": [
      "Shape of probabilities: (25, 2)\n",
      "Predicted probabilities:\n",
      "[[1.57362639e-02 9.84263736e-01]\n",
      " [8.45756526e-01 1.54243474e-01]\n",
      " [9.81128693e-01 1.88713075e-02]\n",
      " [9.74070327e-01 2.59296728e-02]\n",
      " [1.35214212e-02 9.86478579e-01]\n",
      " [2.50463747e-02 9.74953625e-01]\n",
      " [9.99543275e-01 4.56725221e-04]\n",
      " [1.61426376e-02 9.83857362e-01]\n",
      " [2.48329911e-01 7.51670089e-01]\n",
      " [3.20518935e-02 9.67948107e-01]\n",
      " [9.98441637e-01 1.55836338e-03]\n",
      " [1.35214212e-02 9.86478579e-01]\n",
      " [1.98099245e-02 9.80190075e-01]\n",
      " [7.68580365e-01 2.31419635e-01]\n",
      " [2.50463747e-02 9.74953625e-01]\n",
      " [9.84817480e-01 1.51825198e-02]\n",
      " [7.73836215e-01 2.26163785e-01]\n",
      " [9.80463909e-01 1.95360915e-02]\n",
      " [1.73607896e-02 9.82639210e-01]\n",
      " [1.61426376e-02 9.83857362e-01]\n",
      " [1.61426376e-02 9.83857362e-01]\n",
      " [3.41393574e-01 6.58606426e-01]\n",
      " [6.30759509e-02 9.36924049e-01]\n",
      " [9.34424749e-01 6.55752512e-02]\n",
      " [8.66199569e-01 1.33800431e-01]]\n"
     ]
    }
   ],
   "source": [
    "print(\"Shape of probabilities:\", gbrt.predict_proba(X_test).shape)\n",
    "\n",
    "# show the first few entries of predict_proba\n",
    "print(\"Predicted probabilities:\")\n",
    "print(gbrt.predict_proba(X_test))"
   ]
  },
  {
   "cell_type": "markdown",
   "metadata": {},
   "source": [
    "### k-Nearest Neighbors"
   ]
  },
  {
   "cell_type": "code",
   "execution_count": 56,
   "metadata": {},
   "outputs": [
    {
     "name": "stdout",
     "output_type": "stream",
     "text": [
      "[[0.   1.  ]\n",
      " [0.25 0.75]\n",
      " [1.   0.  ]\n",
      " [0.5  0.5 ]\n",
      " [0.   1.  ]\n",
      " [0.   1.  ]\n",
      " [1.   0.  ]\n",
      " [0.   1.  ]\n",
      " [0.25 0.75]\n",
      " [0.   1.  ]\n",
      " [1.   0.  ]\n",
      " [0.   1.  ]\n",
      " [0.   1.  ]\n",
      " [0.25 0.75]\n",
      " [0.25 0.75]\n",
      " [1.   0.  ]\n",
      " [0.5  0.5 ]\n",
      " [0.75 0.25]\n",
      " [0.   1.  ]\n",
      " [0.25 0.75]\n",
      " [0.   1.  ]\n",
      " [0.75 0.25]\n",
      " [0.25 0.75]\n",
      " [1.   0.  ]\n",
      " [0.25 0.75]]\n",
      "Train score: 0.8666666666666667\n",
      "Test score: 0.76\n"
     ]
    }
   ],
   "source": [
    "print(clf.predict_proba(X_test))\n",
    "print('Train score:', clf.score(X_train, y_train))\n",
    "print('Test score:', clf.score(X_test, y_test))"
   ]
  },
  {
   "cell_type": "markdown",
   "metadata": {},
   "source": [
    "이 점수 차이는 오버피팅 문제가 아니라 그냥 알고리즘 자체 한계일수도..."
   ]
  },
  {
   "cell_type": "markdown",
   "metadata": {},
   "source": [
    "### Random Forest"
   ]
  },
  {
   "cell_type": "code",
   "execution_count": 57,
   "metadata": {},
   "outputs": [
    {
     "name": "stdout",
     "output_type": "stream",
     "text": [
      "[[0.07 0.93]\n",
      " [0.76 0.24]\n",
      " [0.83 0.17]\n",
      " [0.8  0.2 ]\n",
      " [0.01 0.99]\n",
      " [0.14 0.86]\n",
      " [1.   0.  ]\n",
      " [0.03 0.97]\n",
      " [0.16 0.84]\n",
      " [0.24 0.76]\n",
      " [1.   0.  ]\n",
      " [0.02 0.98]\n",
      " [0.17 0.83]\n",
      " [0.55 0.45]\n",
      " [0.1  0.9 ]\n",
      " [0.94 0.06]\n",
      " [0.72 0.28]\n",
      " [0.89 0.11]\n",
      " [0.08 0.92]\n",
      " [0.12 0.88]\n",
      " [0.02 0.98]\n",
      " [0.49 0.51]\n",
      " [0.42 0.58]\n",
      " [0.88 0.12]\n",
      " [0.64 0.36]]\n",
      "Train score: 1.0\n",
      "Test score: 0.84\n"
     ]
    }
   ],
   "source": [
    "rf = RandomForestClassifier().fit(X_train, y_train)\n",
    "print(rf.predict_proba(X_test))\n",
    "print('Train score:', rf.score(X_train, y_train))\n",
    "print('Test score:', rf.score(X_test, y_test))"
   ]
  },
  {
   "cell_type": "markdown",
   "metadata": {},
   "source": [
    "### Logistic Regression"
   ]
  },
  {
   "cell_type": "code",
   "execution_count": 58,
   "metadata": {},
   "outputs": [
    {
     "name": "stdout",
     "output_type": "stream",
     "text": [
      "[[0.53202804 0.46797196]\n",
      " [0.55548003 0.44451997]\n",
      " [0.51385202 0.48614798]\n",
      " [0.53774513 0.46225487]\n",
      " [0.54391582 0.45608418]\n",
      " [0.55172494 0.44827506]\n",
      " [0.53925245 0.46074755]\n",
      " [0.55771739 0.44228261]\n",
      " [0.55321683 0.44678317]\n",
      " [0.54473603 0.45526397]\n",
      " [0.55482865 0.44517135]\n",
      " [0.55223017 0.44776983]\n",
      " [0.53902648 0.46097352]\n",
      " [0.53868235 0.46131765]\n",
      " [0.55050869 0.44949131]\n",
      " [0.56929957 0.43070043]\n",
      " [0.5337614  0.4662386 ]\n",
      " [0.56624989 0.43375011]\n",
      " [0.53559312 0.46440688]\n",
      " [0.56114855 0.43885145]\n",
      " [0.55550892 0.44449108]\n",
      " [0.56123204 0.43876796]\n",
      " [0.55443216 0.44556784]\n",
      " [0.5746856  0.4253144 ]\n",
      " [0.52508107 0.47491893]]\n",
      "Train score: 0.5466666666666666\n",
      "Test score: 0.36\n"
     ]
    }
   ],
   "source": [
    "print(lr.predict_proba(X_test))\n",
    "print('Train score:', lr.score(X_train, y_train))\n",
    "print('Test score:', lr.score(X_test, y_test))"
   ]
  },
  {
   "cell_type": "markdown",
   "metadata": {},
   "source": [
    "### Decision Tree"
   ]
  },
  {
   "cell_type": "code",
   "execution_count": 61,
   "metadata": {},
   "outputs": [
    {
     "name": "stdout",
     "output_type": "stream",
     "text": [
      "[[0. 1.]\n",
      " [1. 0.]\n",
      " [1. 0.]\n",
      " [1. 0.]\n",
      " [0. 1.]\n",
      " [0. 1.]\n",
      " [1. 0.]\n",
      " [0. 1.]\n",
      " [0. 1.]\n",
      " [0. 1.]\n",
      " [1. 0.]\n",
      " [0. 1.]\n",
      " [0. 1.]\n",
      " [1. 0.]\n",
      " [0. 1.]\n",
      " [1. 0.]\n",
      " [1. 0.]\n",
      " [1. 0.]\n",
      " [0. 1.]\n",
      " [0. 1.]\n",
      " [0. 1.]\n",
      " [0. 1.]\n",
      " [0. 1.]\n",
      " [1. 0.]\n",
      " [1. 0.]]\n",
      "train score: 1.0\n",
      "test score: 0.84\n"
     ]
    }
   ],
   "source": [
    "tree = DecisionTreeClassifier().fit(X_train, y_train)\n",
    "\n",
    "print(tree.predict_proba(X_test))\n",
    "print('train score:',tree.score(X_train, y_train))\n",
    "print('test score:',tree.score(X_test, y_test))"
   ]
  },
  {
   "cell_type": "code",
   "execution_count": 62,
   "metadata": {},
   "outputs": [
    {
     "name": "stdout",
     "output_type": "stream",
     "text": [
      "[[0.44262295 0.55737705]\n",
      " [0.44262295 0.55737705]\n",
      " [0.44262295 0.55737705]\n",
      " [0.44262295 0.55737705]\n",
      " [0.44262295 0.55737705]\n",
      " [0.44262295 0.55737705]\n",
      " [0.44262295 0.55737705]\n",
      " [0.44262295 0.55737705]\n",
      " [0.44262295 0.55737705]\n",
      " [0.44262295 0.55737705]\n",
      " [1.         0.        ]\n",
      " [0.44262295 0.55737705]\n",
      " [0.44262295 0.55737705]\n",
      " [0.44262295 0.55737705]\n",
      " [0.44262295 0.55737705]\n",
      " [1.         0.        ]\n",
      " [0.44262295 0.55737705]\n",
      " [0.44262295 0.55737705]\n",
      " [0.44262295 0.55737705]\n",
      " [0.44262295 0.55737705]\n",
      " [0.44262295 0.55737705]\n",
      " [0.44262295 0.55737705]\n",
      " [0.44262295 0.55737705]\n",
      " [1.         0.        ]\n",
      " [0.44262295 0.55737705]]\n",
      "train score: 0.64\n",
      "test score: 0.68\n"
     ]
    }
   ],
   "source": [
    "tree = DecisionTreeClassifier(max_depth=1).fit(X_train, y_train)\n",
    "\n",
    "print(tree.predict_proba(X_test))\n",
    "print('train score:',tree.score(X_train, y_train))\n",
    "print('test score:',tree.score(X_test, y_test))"
   ]
  },
  {
   "cell_type": "markdown",
   "metadata": {},
   "source": [
    "## Classification threshold settings with ```predict_proba```"
   ]
  },
  {
   "cell_type": "code",
   "execution_count": 63,
   "metadata": {},
   "outputs": [
    {
     "data": {
      "text/plain": [
       "array([[0.07, 0.93],\n",
       "       [0.76, 0.24],\n",
       "       [0.83, 0.17],\n",
       "       [0.8 , 0.2 ],\n",
       "       [0.01, 0.99],\n",
       "       [0.14, 0.86],\n",
       "       [1.  , 0.  ],\n",
       "       [0.03, 0.97],\n",
       "       [0.16, 0.84],\n",
       "       [0.24, 0.76],\n",
       "       [1.  , 0.  ],\n",
       "       [0.02, 0.98],\n",
       "       [0.17, 0.83],\n",
       "       [0.55, 0.45],\n",
       "       [0.1 , 0.9 ],\n",
       "       [0.94, 0.06],\n",
       "       [0.72, 0.28],\n",
       "       [0.89, 0.11],\n",
       "       [0.08, 0.92],\n",
       "       [0.12, 0.88],\n",
       "       [0.02, 0.98],\n",
       "       [0.49, 0.51],\n",
       "       [0.42, 0.58],\n",
       "       [0.88, 0.12],\n",
       "       [0.64, 0.36]])"
      ]
     },
     "execution_count": 63,
     "metadata": {},
     "output_type": "execute_result"
    }
   ],
   "source": [
    "rf.predict_proba(X_test)"
   ]
  },
  {
   "cell_type": "code",
   "execution_count": 64,
   "metadata": {},
   "outputs": [
    {
     "name": "stdout",
     "output_type": "stream",
     "text": [
      "Average Precision Score: 0.860\n"
     ]
    },
    {
     "data": {
      "image/png": "[encoded data removed]",
      "text/plain": [
       "<Figure size 640x480 with 1 Axes>"
      ]
     },
     "metadata": {},
     "output_type": "display_data"
    }
   ],
   "source": [
    "from sklearn.metrics import precision_recall_curve\n",
    "from sklearn.metrics import average_precision_score\n",
    "\n",
    "precision, recall, thresholds = precision_recall_curve(y_test, rf.predict_proba(X_test)[:,1])\n",
    "close_default = np.argmin(np.abs(thresholds-0.5))\n",
    "plt.plot(precision[close_default], recall[close_default], 'o', \n",
    "         markersize=10, label='threshold 0.5', fillstyle='none', c='k', mew=2)\n",
    "close_default = np.argmin(np.abs(thresholds-0.3))\n",
    "plt.plot(precision[close_default], recall[close_default], '^', \n",
    "         markersize=10, label='threshold 0.3', fillstyle='none', c='k', mew=2)\n",
    "\n",
    "plt.plot(precision, recall, label=\"precision-recall curve\")\n",
    "plt.xlabel(\"precision\")\n",
    "plt.ylabel(\"recall\")\n",
    "plt.legend(loc='best')\n",
    "\n",
    "ap_rf = average_precision_score(y_test, rf.predict_proba(X_test)[:, 1])\n",
    "print(f\"Average Precision Score: {ap_rf:.3f}\")"
   ]
  },
  {
   "cell_type": "markdown",
   "metadata": {},
   "source": [
    "**실제로 threshold를 바꾸는 부분**"
   ]
  },
  {
   "cell_type": "code",
   "execution_count": 65,
   "metadata": {},
   "outputs": [
    {
     "name": "stdout",
     "output_type": "stream",
     "text": [
      "threshold 0.5 accuracy: 0.84\n",
      "threshold 0.3 accuracy: 0.84\n",
      "threshold 0.5 precision: 0.9285714285714286\n",
      "threshold 0.3 precision: 0.84\n",
      "threshold 0.5 recall: 0.8125\n",
      "threshold 0.3 recall: 0.84\n"
     ]
    }
   ],
   "source": [
    "from sklearn.metrics import accuracy_score, precision_score, recall_score\n",
    "\n",
    "threshold = 0.3\n",
    "\n",
    "predicted_proba = rf.predict_proba(X_test)\n",
    "predicted = (predicted_proba [:,1] >= threshold).astype('int')\n",
    "\n",
    "print('threshold 0.5 accuracy:',accuracy_score(y_test, rf.predict(X_test)))\n",
    "print('threshold 0.3 accuracy:',accuracy_score(y_test, predicted))\n",
    "print('threshold 0.5 precision:',precision_score(y_test, rf.predict(X_test)))\n",
    "print('threshold 0.3 precision:',accuracy_score(y_test, predicted))\n",
    "print('threshold 0.5 recall:', recall_score(y_test, rf.predict(X_test)))\n",
    "print('threshold 0.3 recall:',accuracy_score(y_test, predicted))"
   ]
  },
  {
   "cell_type": "code",
   "execution_count": 66,
   "metadata": {},
   "outputs": [
    {
     "name": "stdout",
     "output_type": "stream",
     "text": [
      "[0.93 0.24 0.17 0.2  0.99 0.86 0.   0.97 0.84 0.76 0.   0.98 0.83 0.45\n",
      " 0.9  0.06 0.28 0.11 0.92 0.88 0.98 0.51 0.58 0.12 0.36]\n",
      "[1 0 0 0 1 1 0 1 1 1 0 1 1 1 1 0 0 0 1 1 1 1 1 0 1]\n"
     ]
    }
   ],
   "source": [
    "print(predicted_proba[:, 1])\n",
    "print(predicted)"
   ]
  },
  {
   "cell_type": "markdown",
   "metadata": {},
   "source": [
    "## Uncertainty in multiclass classification"
   ]
  },
  {
   "cell_type": "code",
   "execution_count": 67,
   "metadata": {},
   "outputs": [
    {
     "data": {
      "text/html": [
       "<style>#sk-container-id-3 {color: black;background-color: white;}#sk-container-id-3 pre{padding: 0;}#sk-container-id-3 div.sk-toggleable {background-color: white;}#sk-container-id-3 label.sk-toggleable__label {cursor: pointer;display: block;width: 100%;margin-bottom: 0;padding: 0.3em;box-sizing: border-box;text-align: center;}#sk-container-id-3 label.sk-toggleable__label-arrow:before {content: \"▸\";float: left;margin-right: 0.25em;color: #696969;}#sk-container-id-3 label.sk-toggleable__label-arrow:hover:before {color: black;}#sk-container-id-3 div.sk-estimator:hover label.sk-toggleable__label-arrow:before {color: black;}#sk-container-id-3 div.sk-toggleable__content {max-height: 0;max-width: 0;overflow: hidden;text-align: left;background-color: #f0f8ff;}#sk-container-id-3 div.sk-toggleable__content pre {margin: 0.2em;color: black;border-radius: 0.25em;background-color: #f0f8ff;}#sk-container-id-3 input.sk-toggleable__control:checked~div.sk-toggleable__content {max-height: 200px;max-width: 100%;overflow: auto;}#sk-container-id-3 input.sk-toggleable__control:checked~label.sk-toggleable__label-arrow:before {content: \"▾\";}#sk-container-id-3 div.sk-estimator input.sk-toggleable__control:checked~label.sk-toggleable__label {background-color: #d4ebff;}#sk-container-id-3 div.sk-label input.sk-toggleable__control:checked~label.sk-toggleable__label {background-color: #d4ebff;}#sk-container-id-3 input.sk-hidden--visually {border: 0;clip: rect(1px 1px 1px 1px);clip: rect(1px, 1px, 1px, 1px);height: 1px;margin: -1px;overflow: hidden;padding: 0;position: absolute;width: 1px;}#sk-container-id-3 div.sk-estimator {font-family: monospace;background-color: #f0f8ff;border: 1px dotted black;border-radius: 0.25em;box-sizing: border-box;margin-bottom: 0.5em;}#sk-container-id-3 div.sk-estimator:hover {background-color: #d4ebff;}#sk-container-id-3 div.sk-parallel-item::after {content: \"\";width: 100%;border-bottom: 1px solid gray;flex-grow: 1;}#sk-container-id-3 div.sk-label:hover label.sk-toggleable__label {background-color: #d4ebff;}#sk-container-id-3 div.sk-serial::before {content: \"\";position: absolute;border-left: 1px solid gray;box-sizing: border-box;top: 0;bottom: 0;left: 50%;z-index: 0;}#sk-container-id-3 div.sk-serial {display: flex;flex-direction: column;align-items: center;background-color: white;padding-right: 0.2em;padding-left: 0.2em;position: relative;}#sk-container-id-3 div.sk-item {position: relative;z-index: 1;}#sk-container-id-3 div.sk-parallel {display: flex;align-items: stretch;justify-content: center;background-color: white;position: relative;}#sk-container-id-3 div.sk-item::before, #sk-container-id-3 div.sk-parallel-item::before {content: \"\";position: absolute;border-left: 1px solid gray;box-sizing: border-box;top: 0;bottom: 0;left: 50%;z-index: -1;}#sk-container-id-3 div.sk-parallel-item {display: flex;flex-direction: column;z-index: 1;position: relative;background-color: white;}#sk-container-id-3 div.sk-parallel-item:first-child::after {align-self: flex-end;width: 50%;}#sk-container-id-3 div.sk-parallel-item:last-child::after {align-self: flex-start;width: 50%;}#sk-container-id-3 div.sk-parallel-item:only-child::after {width: 0;}#sk-container-id-3 div.sk-dashed-wrapped {border: 1px dashed gray;margin: 0 0.4em 0.5em 0.4em;box-sizing: border-box;padding-bottom: 0.4em;background-color: white;}#sk-container-id-3 div.sk-label label {font-family: monospace;font-weight: bold;display: inline-block;line-height: 1.2em;}#sk-container-id-3 div.sk-label-container {text-align: center;}#sk-container-id-3 div.sk-container {/* jupyter's `normalize.less` sets `[hidden] { display: none; }` but bootstrap.min.css set `[hidden] { display: none !important; }` so we also need the `!important` here to be able to override the default hidden behavior on the sphinx rendered scikit-learn.org. See: https://github.com/scikit-learn/scikit-learn/issues/21755 */display: inline-block !important;position: relative;}#sk-container-id-3 div.sk-text-repr-fallback {display: none;}</style><div id=\"sk-container-id-3\" class=\"sk-top-container\"><div class=\"sk-text-repr-fallback\"><pre>GradientBoostingClassifier(learning_rate=0.01, random_state=0)</pre><b>In a Jupyter environment, please rerun this cell to show the HTML representation or trust the notebook. <br />On GitHub, the HTML representation is unable to render, please try loading this page with nbviewer.org.</b></div><div class=\"sk-container\" hidden><div class=\"sk-item\"><div class=\"sk-estimator sk-toggleable\"><input class=\"sk-toggleable__control sk-hidden--visually\" id=\"sk-estimator-id-3\" type=\"checkbox\" checked><label for=\"sk-estimator-id-3\" class=\"sk-toggleable__label sk-toggleable__label-arrow\">GradientBoostingClassifier</label><div class=\"sk-toggleable__content\"><pre>GradientBoostingClassifier(learning_rate=0.01, random_state=0)</pre></div></div></div></div></div>"
      ],
      "text/plain": [
       "GradientBoostingClassifier(learning_rate=0.01, random_state=0)"
      ]
     },
     "execution_count": 67,
     "metadata": {},
     "output_type": "execute_result"
    }
   ],
   "source": [
    "from sklearn.datasets import load_iris\n",
    "\n",
    "iris = load_iris()\n",
    "X_train, X_test, y_train, y_test = train_test_split(iris.data, iris.target, random_state=42)\n",
    "\n",
    "gbrt = GradientBoostingClassifier(learning_rate=0.01, random_state=0)\n",
    "gbrt.fit(X_train, y_train)"
   ]
  },
  {
   "cell_type": "code",
   "execution_count": 68,
   "metadata": {},
   "outputs": [
    {
     "name": "stdout",
     "output_type": "stream",
     "text": [
      "Decision function shape: (38, 3)\n",
      "Decision function:\n",
      "[[-1.995715    0.04758267 -1.92720695]\n",
      " [ 0.06146394 -1.90755736 -1.92793758]\n",
      " [-1.99058203 -1.87637861  0.09686725]\n",
      " [-1.995715    0.04758267 -1.92720695]\n",
      " [-1.99730159 -0.13469108 -1.20341483]\n",
      " [ 0.06146394 -1.90755736 -1.92793758]\n",
      " [-1.995715    0.04758267 -1.92720695]\n",
      " [-1.99677434 -1.87637861  0.09686725]\n",
      " [-1.995715    0.04758267 -1.92720695]\n",
      " [-1.995715    0.04758267 -1.92720695]\n",
      " [-1.99677434 -1.87637861  0.07863156]\n",
      " [ 0.06146394 -1.90755736 -1.92793758]\n",
      " [ 0.06146394 -1.90755736 -1.92793758]\n",
      " [ 0.06146394 -1.90755736 -1.92793758]\n",
      " [ 0.06146394 -1.90755736 -1.92793758]\n",
      " [-1.995715    0.04758267 -1.92720695]\n",
      " [-1.99087515 -1.87637861  0.09686725]\n",
      " [-1.995715    0.04758267 -1.92720695]\n",
      " [-1.995715    0.04758267 -1.92720695]\n",
      " [-1.99087515 -1.87637861  0.09686725]\n",
      " [ 0.06146394 -1.90755736 -1.92793758]\n",
      " [-1.99730159 -1.86429671  0.04166049]\n",
      " [ 0.06146394 -1.90755736 -1.92793758]\n",
      " [-1.99087515 -1.87637861  0.09686725]\n",
      " [-1.99087515 -1.87637861  0.07863156]\n",
      " [-1.99087515 -1.87637861  0.09686725]\n",
      " [-1.99058203 -1.87637861  0.09686725]\n",
      " [-1.99087515 -1.87637861  0.07863156]\n",
      " [ 0.06146394 -1.90755736 -1.92793758]\n",
      " [ 0.06146394 -1.90755736 -1.92793758]\n",
      " [ 0.06146394 -1.90755736 -1.92793758]\n",
      " [ 0.06146394 -1.90755736 -1.92793758]\n",
      " [-1.995715    0.04758267 -1.92720695]\n",
      " [ 0.06146394 -1.90755736 -1.92793758]\n",
      " [ 0.06146394 -1.90755736 -1.92793758]\n",
      " [-1.99712219 -1.87637861  0.04166049]\n",
      " [-1.995715    0.04758267 -1.92720695]\n",
      " [ 0.06146394 -1.90755736 -1.92793758]]\n"
     ]
    }
   ],
   "source": [
    "print(\"Decision function shape:\", gbrt.decision_function(X_test).shape)\n",
    "print(\"Decision function:\")\n",
    "print(gbrt.decision_function(X_test))"
   ]
  },
  {
   "cell_type": "code",
   "execution_count": 69,
   "metadata": {},
   "outputs": [
    {
     "name": "stdout",
     "output_type": "stream",
     "text": [
      "Argmax of decision function:\n",
      "[1 0 2 1 1 0 1 2 1 1 2 0 0 0 0 1 2 1 1 2 0 2 0 2 2 2 2 2 0 0 0 0 1 0 0 2 1\n",
      " 0]\n",
      "Predictions:\n",
      "[1 0 2 1 1 0 1 2 1 1 2 0 0 0 0 1 2 1 1 2 0 2 0 2 2 2 2 2 0 0 0 0 1 0 0 2 1\n",
      " 0]\n"
     ]
    }
   ],
   "source": [
    "print(\"Argmax of decision function:\")\n",
    "print(np.argmax(gbrt.decision_function(X_test), axis=1))\n",
    "print(\"Predictions:\")\n",
    "print(gbrt.predict(X_test))"
   ]
  },
  {
   "cell_type": "code",
   "execution_count": 70,
   "metadata": {},
   "outputs": [
    {
     "name": "stdout",
     "output_type": "stream",
     "text": [
      "Predicted probabilities:\n",
      "[[0.10217718 0.78840034 0.10942248]\n",
      " [0.78347147 0.10936745 0.10716108]\n",
      " [0.09818072 0.11005864 0.79176065]\n",
      " [0.10217718 0.78840034 0.10942248]\n",
      " [0.10360005 0.66723901 0.22916094]\n",
      " [0.78347147 0.10936745 0.10716108]\n",
      " [0.10217718 0.78840034 0.10942248]\n",
      " [0.09763381 0.11012538 0.79224081]\n",
      " [0.10217718 0.78840034 0.10942248]\n",
      " [0.10217718 0.78840034 0.10942248]\n",
      " [0.09905185 0.11172485 0.78922331]\n",
      " [0.78347147 0.10936745 0.10716108]\n",
      " [0.78347147 0.10936745 0.10716108]\n",
      " [0.78347147 0.10936745 0.10716108]\n",
      " [0.78347147 0.10936745 0.10716108]\n",
      " [0.10217718 0.78840034 0.10942248]\n",
      " [0.09815477 0.1100618  0.79178343]\n",
      " [0.10217718 0.78840034 0.10942248]\n",
      " [0.10217718 0.78840034 0.10942248]\n",
      " [0.09815477 0.1100618  0.79178343]\n",
      " [0.78347147 0.10936745 0.10716108]\n",
      " [0.10178234 0.11626145 0.78195621]\n",
      " [0.78347147 0.10936745 0.10716108]\n",
      " [0.09815477 0.1100618  0.79178343]\n",
      " [0.09957954 0.11165941 0.78876105]\n",
      " [0.09815477 0.1100618  0.79178343]\n",
      " [0.09818072 0.11005864 0.79176065]\n",
      " [0.09957954 0.11165941 0.78876105]\n",
      " [0.78347147 0.10936745 0.10716108]\n",
      " [0.78347147 0.10936745 0.10716108]\n",
      " [0.78347147 0.10936745 0.10716108]\n",
      " [0.78347147 0.10936745 0.10716108]\n",
      " [0.10217718 0.78840034 0.10942248]\n",
      " [0.78347147 0.10936745 0.10716108]\n",
      " [0.78347147 0.10936745 0.10716108]\n",
      " [0.10194108 0.11502374 0.78303519]\n",
      " [0.10217718 0.78840034 0.10942248]\n",
      " [0.78347147 0.10936745 0.10716108]]\n",
      "Sums: [1. 1. 1. 1. 1. 1. 1. 1. 1. 1. 1. 1. 1. 1. 1. 1. 1. 1. 1. 1. 1. 1. 1. 1.\n",
      " 1. 1. 1. 1. 1. 1. 1. 1. 1. 1. 1. 1. 1. 1.]\n"
     ]
    }
   ],
   "source": [
    "print(\"Predicted probabilities:\")\n",
    "print(gbrt.predict_proba(X_test))\n",
    "# show that sums across rows are one\n",
    "print(\"Sums:\", gbrt.predict_proba(X_test).sum(axis=1))"
   ]
  },
  {
   "cell_type": "code",
   "execution_count": 71,
   "metadata": {},
   "outputs": [
    {
     "name": "stdout",
     "output_type": "stream",
     "text": [
      "Argmax of predicted probabilities:\n",
      "[1 0 2 1 1 0 1 2 1 1 2 0 0 0 0 1 2 1 1 2 0 2 0 2 2 2 2 2 0 0 0 0 1 0 0 2 1\n",
      " 0]\n",
      "Predictions:\n",
      "[1 0 2 1 1 0 1 2 1 1 2 0 0 0 0 1 2 1 1 2 0 2 0 2 2 2 2 2 0 0 0 0 1 0 0 2 1\n",
      " 0]\n"
     ]
    }
   ],
   "source": [
    "print(\"Argmax of predicted probabilities:\")\n",
    "print(np.argmax(gbrt.predict_proba(X_test), axis=1))\n",
    "print(\"Predictions:\")\n",
    "print(gbrt.predict(X_test))"
   ]
  }
 ],
 "metadata": {
  "kernelspec": {
   "display_name": "Python 3 (ipykernel)",
   "language": "python",
   "name": "python3"
  },
  "language_info": {
   "codemirror_mode": {
    "name": "ipython",
    "version": 3
   },
   "file_extension": ".py",
   "mimetype": "text/x-python",
   "name": "python",
   "nbconvert_exporter": "python",
   "pygments_lexer": "ipython3",
   "version": "3.10.9"
  }
 },
 "nbformat": 4,
 "nbformat_minor": 4
}
