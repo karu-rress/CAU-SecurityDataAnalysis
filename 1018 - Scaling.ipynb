{
 "cells": [
  {
   "cell_type": "markdown",
   "metadata": {},
   "source": [
    "# Scaling"
   ]
  },
  {
   "cell_type": "markdown",
   "metadata": {},
   "source": [
    "여러 feature의 상대적 영향력을 비교하려면 feature의 값을 scaling 해야 함.\\\n",
    "(회귀분석에서 B->β 같은 느낌. 특성 간 상대적 영향력)\n",
    "\n",
    "- StandardScaler: 평균과 표준편차 사용 = mean(Rx), mean(Ry) = 0 (최소, 최대는 정해지지 않음)\n",
    "  - **정규분포를 따르는 경우** 적합합 (정규분포를 따른다 = 이상치가 (거의) 없다)\n",
    "  - 이상치의 영향이 남아있음. (많이 쏠린 쪽이 영향을 더 크게 가짐)\n",
    "  - 이상치 문제가 없다면 상관 X\n",
    "- MinMaxScaler: 최소 최대 사용 = Rx, Ry -> [0, 1] $min(X) = 0, max(X) = 1$\n",
    "  - 최소와 최대값이 흔히 **아는 값**일 때 (픽셀의 $[0, 255]$)\n",
    "  - **이상치 영향력이 감소** (나머지 집합과 이상치 집합의 거리가 가까워짐)\n",
    "  - 너무 일률적으로 줄여버림. 아무리 범위가 커도 그냥 [0, 1]...\n",
    "- RobustScaler: 중앙값과 사분위수(quartile) 사용. BoxPlot처럼 이상치를 제거하기에 좋음.\n",
    "  - $(value - median) / (p_{75} - p_{25})$\n",
    "  - 이상치의 영향을 제거하면서 다른 값들과의 관계도 비교 가능\n",
    "  - (range를 계산할 때는 outlier가 포함되지 않지만, 이상치 집단과 나머지 집단의 **거리는 보존됨**.)"
   ]
  },
  {
   "cell_type": "code",
   "execution_count": 23,
   "metadata": {},
   "outputs": [],
   "source": [
    "from sklearn.datasets           import fetch_california_housing\n",
    "from sklearn.datasets           import load_breast_cancer\n",
    "from sklearn.datasets           import make_blobs\n",
    "from sklearn.linear_model       import LinearRegression\n",
    "from sklearn.model_selection    import train_test_split\n",
    "from sklearn.preprocessing      import MinMaxScaler\n",
    "from sklearn.preprocessing      import StandardScaler\n",
    "from sklearn.preprocessing      import RobustScaler\n",
    "import matplotlib.pyplot        as plt\n",
    "import mglearn"
   ]
  },
  {
   "cell_type": "code",
   "execution_count": 3,
   "metadata": {},
   "outputs": [
    {
     "name": "stdout",
     "output_type": "stream",
     "text": [
      "(426, 30)\n",
      "(143, 30)\n"
     ]
    }
   ],
   "source": [
    "cancer = load_breast_cancer()\n",
    "X_train, X_test, y_train, y_test = train_test_split(cancer.data, cancer.target, random_state=1)\n",
    "print(X_train.shape)\n",
    "print(X_test.shape)"
   ]
  },
  {
   "cell_type": "code",
   "execution_count": 25,
   "metadata": {},
   "outputs": [
    {
     "name": "stdout",
     "output_type": "stream",
     "text": [
      "[[ 7.30030000e+00  1.90000000e+01  7.96160000e+00  1.13760000e+00\n",
      "   1.92600000e+03  3.08160000e+00  3.84600000e+01 -1.22680000e+02]\n",
      " [ 5.95470000e+00  1.80000000e+01  6.54732510e+00  1.10288066e+00\n",
      "   5.47000000e+02  2.25102881e+00  3.29500000e+01 -1.17240000e+02]\n",
      " [ 3.21250000e+00  1.90000000e+01  5.20754717e+00  1.21698113e+00\n",
      "   3.14000000e+02  2.96226415e+00  3.46800000e+01 -1.18270000e+02]]\n",
      "[[ 4.15180000e+00  2.20000000e+01  5.66307278e+00  1.07547170e+00\n",
      "   1.55100000e+03  4.18059299e+00  3.25800000e+01 -1.17050000e+02]\n",
      " [ 5.77960000e+00  3.20000000e+01  6.10722611e+00  9.27738928e-01\n",
      "   1.29600000e+03  3.02097902e+00  3.39200000e+01 -1.17970000e+02]\n",
      " [ 4.34870000e+00  2.90000000e+01  5.93071161e+00  1.02621723e+00\n",
      "   1.55400000e+03  2.91011236e+00  3.86500000e+01 -1.21840000e+02]]\n"
     ]
    }
   ],
   "source": [
    "print(X_train[:3])\n",
    "print(X_test[:3])"
   ]
  },
  {
   "cell_type": "code",
   "execution_count": 28,
   "metadata": {},
   "outputs": [
    {
     "name": "stdout",
     "output_type": "stream",
     "text": [
      "transformed shape: (15480, 8)\n",
      "per-feature minimum before scaling:\n",
      " [   0.4999        1.            0.84615385    0.33333333    3.\n",
      "    0.75         32.54       -124.35      ]\n",
      "per-feature maximum before scaling:\n",
      " [ 1.50001000e+01  5.20000000e+01  1.41909091e+02  3.40666667e+01\n",
      "  3.56820000e+04  5.99714286e+02  4.19500000e+01 -1.14310000e+02]\n",
      "per-feature minimum after scaling:\n",
      " [0. 0. 0. 0. 0. 0. 0. 0.]\n",
      "per-feature maximum after scaling:\n",
      " [1. 1. 1. 1. 1. 1. 1. 1.]\n"
     ]
    }
   ],
   "source": [
    "scaler = MinMaxScaler()\n",
    "X_train_scaled = scaler.fit_transform(X_train)\n",
    "\n",
    "# print dataset properties before and after scaling\n",
    "print(\"transformed shape: {}\".format(X_train_scaled.shape))\n",
    "print(\"per-feature minimum before scaling:\\n {}\".format(X_train.min(axis=0)))\n",
    "print(\"per-feature maximum before scaling:\\n {}\".format(X_train.max(axis=0)))\n",
    "print(\"per-feature minimum after scaling:\\n {}\".format(\n",
    " X_train_scaled.min(axis=0)))\n",
    "print(\"per-feature maximum after scaling:\\n {}\".format(\n",
    " X_train_scaled.max(axis=0)))"
   ]
  },
  {
   "cell_type": "markdown",
   "metadata": {},
   "source": [
    "데이터 수는 변하지 않음. 그러나 Min, Max가 동일하게 0과 1로 바뀜."
   ]
  },
  {
   "cell_type": "code",
   "execution_count": 8,
   "metadata": {},
   "outputs": [
    {
     "name": "stdout",
     "output_type": "stream",
     "text": [
      "per-feature minimum after scaling:\n",
      "[ 0.0336031   0.0226581   0.03144219  0.01141039  0.14128374  0.04406704\n",
      "  0.          0.          0.1540404  -0.00615249 -0.00137796  0.00594501\n",
      "  0.00430665  0.00079567  0.03919502  0.0112206   0.          0.\n",
      " -0.03191387  0.00664013  0.02660975  0.05810235  0.02031974  0.00943767\n",
      "  0.1094235   0.02637792  0.          0.         -0.00023764 -0.00182032]\n",
      "per-feature maximum after scaling:\n",
      "[0.9578778  0.81501522 0.95577362 0.89353128 0.81132075 1.21958701\n",
      " 0.87956888 0.9333996  0.93232323 1.0371347  0.42669616 0.49765736\n",
      " 0.44117231 0.28371044 0.48703131 0.73863671 0.76717172 0.62928585\n",
      " 1.33685792 0.39057253 0.89612238 0.79317697 0.84859804 0.74488793\n",
      " 0.9154725  1.13188961 1.07008547 0.92371134 1.20532319 1.63068851]\n"
     ]
    }
   ],
   "source": [
    "# transform test data\n",
    "X_test_scaled = scaler.transform(X_test)\n",
    "# print test data properties after scaling\n",
    "print(\"per-feature minimum after scaling:\\n{}\".format(X_test_scaled.min(axis=0)))\n",
    "print(\"per-feature maximum after scaling:\\n{}\".format(X_test_scaled.max(axis=0)))"
   ]
  },
  {
   "cell_type": "code",
   "execution_count": 14,
   "metadata": {},
   "outputs": [
    {
     "name": "stderr",
     "output_type": "stream",
     "text": [
      "C:\\Users\\nsun5\\AppData\\Local\\Temp\\ipykernel_31996\\1470856839.py:9: UserWarning: *c* argument looks like a single numeric RGB or RGBA sequence, which should be avoided as value-mapping will have precedence in case its length matches with *x* & *y*.  Please use the *color* keyword-argument or provide a 2D array with a single row if you intend to specify the same RGB or RGBA value for all points.\n",
      "  axes[0].scatter(X_train[:, 0], X_train[:, 1], c=mglearn.cm2(0), label=\"Training set\", s=60)\n",
      "C:\\Users\\nsun5\\AppData\\Local\\Temp\\ipykernel_31996\\1470856839.py:10: UserWarning: *c* argument looks like a single numeric RGB or RGBA sequence, which should be avoided as value-mapping will have precedence in case its length matches with *x* & *y*.  Please use the *color* keyword-argument or provide a 2D array with a single row if you intend to specify the same RGB or RGBA value for all points.\n",
      "  axes[0].scatter(X_test[:, 0], X_test[:, 1], marker='^', c=mglearn.cm2(1), label=\"Test set\", s=60)\n",
      "C:\\Users\\nsun5\\AppData\\Local\\Temp\\ipykernel_31996\\1470856839.py:19: UserWarning: *c* argument looks like a single numeric RGB or RGBA sequence, which should be avoided as value-mapping will have precedence in case its length matches with *x* & *y*.  Please use the *color* keyword-argument or provide a 2D array with a single row if you intend to specify the same RGB or RGBA value for all points.\n",
      "  axes[1].scatter(X_train_scaled[:, 0], X_train_scaled[:, 1], c=mglearn.cm2(0), label=\"Training set\", s=60)\n",
      "C:\\Users\\nsun5\\AppData\\Local\\Temp\\ipykernel_31996\\1470856839.py:20: UserWarning: *c* argument looks like a single numeric RGB or RGBA sequence, which should be avoided as value-mapping will have precedence in case its length matches with *x* & *y*.  Please use the *color* keyword-argument or provide a 2D array with a single row if you intend to specify the same RGB or RGBA value for all points.\n",
      "  axes[1].scatter(X_test_scaled[:, 0], X_test_scaled[:, 1], marker='^', c=mglearn.cm2(1), label=\"Test set\", s=60)\n",
      "C:\\Users\\nsun5\\AppData\\Local\\Temp\\ipykernel_31996\\1470856839.py:28: UserWarning: *c* argument looks like a single numeric RGB or RGBA sequence, which should be avoided as value-mapping will have precedence in case its length matches with *x* & *y*.  Please use the *color* keyword-argument or provide a 2D array with a single row if you intend to specify the same RGB or RGBA value for all points.\n",
      "  axes[2].scatter(X_train_scaled[:, 0], X_train_scaled[:, 1], c=mglearn.cm2(0), label=\"training set\", s=60)\n",
      "C:\\Users\\nsun5\\AppData\\Local\\Temp\\ipykernel_31996\\1470856839.py:29: UserWarning: *c* argument looks like a single numeric RGB or RGBA sequence, which should be avoided as value-mapping will have precedence in case its length matches with *x* & *y*.  Please use the *color* keyword-argument or provide a 2D array with a single row if you intend to specify the same RGB or RGBA value for all points.\n",
      "  axes[2].scatter(X_test_scaled_badly[:, 0], X_test_scaled_badly[:, 1], marker='^', c=mglearn.cm2(1), label=\"test set\", s=60)\n"
     ]
    },
    {
     "data": {
      "image/png": "[encoded data removed]",
      "text/plain": [
       "<Figure size 1300x400 with 3 Axes>"
      ]
     },
     "metadata": {},
     "output_type": "display_data"
    }
   ],
   "source": [
    "# make synthetic data\n",
    "X, _ = make_blobs(n_samples=50, centers=5, random_state=4, cluster_std=2)\n",
    "\n",
    "# split it into training and test sets\n",
    "X_train, X_test = train_test_split(X, random_state=5, test_size=.1)\n",
    "\n",
    "# plot the training and test sets\n",
    "fig, axes = plt.subplots(1, 3, figsize=(13, 4))\n",
    "axes[0].scatter(X_train[:, 0], X_train[:, 1], c=mglearn.cm2(0), label=\"Training set\", s=60)\n",
    "axes[0].scatter(X_test[:, 0], X_test[:, 1], marker='^', c=mglearn.cm2(1), label=\"Test set\", s=60)\n",
    "axes[0].legend(loc='upper left')\n",
    "axes[0].set_title(\"Original Data\")\n",
    "\n",
    "# scale the data using MinMaxScaler\n",
    "scaler = MinMaxScaler()\n",
    "X_train_scaled = scaler.fit_transform(X_train)\n",
    "X_test_scaled = scaler.transform(X_test)\n",
    "# visualize the properly scaled data\n",
    "axes[1].scatter(X_train_scaled[:, 0], X_train_scaled[:, 1], c=mglearn.cm2(0), label=\"Training set\", s=60)\n",
    "axes[1].scatter(X_test_scaled[:, 0], X_test_scaled[:, 1], marker='^', c=mglearn.cm2(1), label=\"Test set\", s=60)\n",
    "axes[1].set_title(\"Scaled Data\")\n",
    "# rescale the test set separately\n",
    "# so test set min is 0 and test set max is 1\n",
    "# DO NOT DO THIS! For illustration purposes only.\n",
    "test_scaler = MinMaxScaler()\n",
    "X_test_scaled_badly = test_scaler.fit_transform(X_test)\n",
    "# visualize wrongly scaled data\n",
    "axes[2].scatter(X_train_scaled[:, 0], X_train_scaled[:, 1], c=mglearn.cm2(0), label=\"training set\", s=60)\n",
    "axes[2].scatter(X_test_scaled_badly[:, 0], X_test_scaled_badly[:, 1], marker='^', c=mglearn.cm2(1), label=\"test set\", s=60)\n",
    "axes[2].set_title(\"Improperly Scaled Data\")\n",
    "for ax in axes:\n",
    " ax.set_xlabel(\"Feature 0\")\n",
    " ax.set_ylabel(\"Feature 1\")\n",
    "fig.tight_layout()"
   ]
  },
  {
   "cell_type": "markdown",
   "metadata": {},
   "source": [
    "train set을 scale한 걸로 test set을 scale해야지,\\\n",
    "무작정 test set을 새로운 scaler로 scale 하면 이게 다시 0부터 1까지 퍼져서 영 딴판이 된다."
   ]
  },
  {
   "cell_type": "code",
   "execution_count": 12,
   "metadata": {},
   "outputs": [],
   "source": [
    "housing = fetch_california_housing()"
   ]
  },
  {
   "cell_type": "code",
   "execution_count": 15,
   "metadata": {},
   "outputs": [],
   "source": [
    "X_train, X_test, y_train, y_test = train_test_split(housing['data'], housing['target'], random_state=0)"
   ]
  },
  {
   "cell_type": "code",
   "execution_count": 16,
   "metadata": {},
   "outputs": [
    {
     "name": "stdout",
     "output_type": "stream",
     "text": [
      "per-feature minimum after scaling:\n",
      "[ 0.00000000e+00  0.00000000e+00  4.39236267e-03  4.94071146e-03\n",
      "  1.40138457e-04 -9.63201130e-05  2.12539851e-03  4.98007968e-03]\n",
      "per-feature maximum after scaling:\n",
      "[1.         1.         0.39289609 0.29457323 0.45690742 2.0745533\n",
      " 0.98831031 0.97310757]\n"
     ]
    }
   ],
   "source": [
    "scaler = MinMaxScaler()\n",
    "scaler.fit(X_train)\n",
    "X_train_scaled = scaler.transform(X_train)\n",
    "X_test_scaled = scaler.transform(X_test)\n",
    "# print test data properties after scaling\n",
    "print(\"per-feature minimum after scaling:\\n{}\".format(X_test_scaled.min(axis=0)))\n",
    "print(\"per-feature maximum after scaling:\\n{}\".format(X_test_scaled.max(axis=0)))"
   ]
  },
  {
   "cell_type": "code",
   "execution_count": 17,
   "metadata": {},
   "outputs": [
    {
     "name": "stdout",
     "output_type": "stream",
     "text": [
      "per-feature minimum after scaling:\n",
      "[-1.78124741 -2.19289928 -1.56564957 -1.20843416 -1.23922768 -0.35275272\n",
      " -1.43447085 -2.35974834]\n",
      "per-feature maximum after scaling:\n",
      "[  5.87221111   1.85490544  20.0648285   18.6092873   13.00032825\n",
      " 186.53134437   2.9057227    2.48550381]\n"
     ]
    }
   ],
   "source": [
    "scaler = StandardScaler()\n",
    "scaler.fit(X_train)\n",
    "X_train_scaled = scaler.transform(X_train)\n",
    "X_test_scaled = scaler.transform(X_test)\n",
    "# print test data properties after scaling\n",
    "print(\"per-feature minimum after scaling:\\n{}\".format(X_test_scaled.min(axis=0)))\n",
    "print(\"per-feature maximum after scaling:\\n{}\".format(X_test_scaled.max(axis=0)))"
   ]
  },
  {
   "cell_type": "code",
   "execution_count": 18,
   "metadata": {},
   "outputs": [
    {
     "name": "stdout",
     "output_type": "stream",
     "text": [
      "number of coefficients: 8\n",
      "lr.coef_:\n",
      "['0.4391', '0.0096', '-0.1033', '0.6167', '-0.0000', '-0.0045', '-0.4174', '-0.4306']\n",
      "lr.intercept_: -36.6095937787143\n",
      "Training set score: 0.61\n",
      "Test set score: 0.59\n"
     ]
    }
   ],
   "source": [
    "lr = LinearRegression().fit(X_train, y_train)\n",
    "print(\"number of coefficients:\", len(lr.coef_))\n",
    "print(\"lr.coef_:\") \n",
    "print([\"{0:0.4f}\".format(i) for i in lr.coef_])\n",
    "print(\"lr.intercept_:\", lr.intercept_)\n",
    "print(\"Training set score: {:.2f}\".format(lr.score(X_train, y_train)))\n",
    "print(\"Test set score: {:.2f}\".format(lr.score(X_test, y_test)))"
   ]
  },
  {
   "cell_type": "code",
   "execution_count": 19,
   "metadata": {},
   "outputs": [
    {
     "name": "stdout",
     "output_type": "stream",
     "text": [
      "number of coefficients: 8\n",
      "lr.coef_:\n",
      "['0.8319', '0.1209', '-0.2618', '0.3041', '-0.0087', '-0.0298', '-0.8924', '-0.8639']\n",
      "lr.intercept_: 2.074372627906947\n",
      "Training set score: 0.61\n",
      "Test set score: 0.59\n"
     ]
    }
   ],
   "source": [
    "lr = LinearRegression().fit(X_train_scaled, y_train)\n",
    "print(\"number of coefficients:\", len(lr.coef_))\n",
    "print(\"lr.coef_:\") \n",
    "print([\"{0:0.4f}\".format(i) for i in lr.coef_])\n",
    "print(\"lr.intercept_:\", lr.intercept_)\n",
    "print(\"Training set score: {:.2f}\".format(lr.score(X_train_scaled, y_train)))\n",
    "print(\"Test set score: {:.2f}\".format(lr.score(X_test_scaled, y_test)))"
   ]
  },
  {
   "cell_type": "markdown",
   "metadata": {},
   "source": [
    "X만 scale함. y는 어차피 하나니 scale하지 않고 진행."
   ]
  },
  {
   "cell_type": "code",
   "execution_count": 20,
   "metadata": {},
   "outputs": [
    {
     "name": "stdout",
     "output_type": "stream",
     "text": [
      "[ 7.3003e+00  1.9000e+01  7.9616e+00  1.1376e+00  1.9260e+03  3.0816e+00\n",
      "  3.8460e+01 -1.2268e+02]\n",
      "[   6.993        13.            6.42857143    1.          120.\n",
      "    2.85714286   33.51       -117.18      ]\n"
     ]
    }
   ],
   "source": [
    "print(X_train[0])\n",
    "print(X_train[3])"
   ]
  },
  {
   "cell_type": "code",
   "execution_count": 21,
   "metadata": {},
   "outputs": [
    {
     "name": "stdout",
     "output_type": "stream",
     "text": [
      "per-feature minimum after scaling:\n",
      "[-1.39896337 -1.47368421 -2.35395361 -5.81987181 -1.2342918  -2.48966456\n",
      " -0.44708995 -1.52894737]\n",
      "per-feature maximum after scaling:\n",
      "[5.25204688e+00 1.21052632e+00 3.18785507e+01 9.78268087e+01\n",
      " 1.61214058e+01 1.45260610e+03 2.00793651e+00 1.02894737e+00]\n"
     ]
    }
   ],
   "source": [
    "scaler = RobustScaler()\n",
    "scaler.fit(X_train)\n",
    "X_train_scaled = scaler.transform(X_train)\n",
    "X_test_scaled = scaler.transform(X_test)\n",
    "# print test data properties after scaling\n",
    "print(\"per-feature minimum after scaling:\\n{}\".format(X_test_scaled.min(axis=0)))\n",
    "print(\"per-feature maximum after scaling:\\n{}\".format(X_test_scaled.max(axis=0)))\n"
   ]
  },
  {
   "cell_type": "code",
   "execution_count": 22,
   "metadata": {},
   "outputs": [
    {
     "name": "stdout",
     "output_type": "stream",
     "text": [
      "number of coefficients: 8\n",
      "lr.coef_:\n",
      "['0.9573', '0.1824', '-0.1654', '0.0581', '-0.0072', '-0.0038', '-1.5776', '-1.6363']\n",
      "lr.intercept_: 2.0410284706223414\n",
      "Training set score: 0.61\n",
      "Test set score: 0.59\n"
     ]
    }
   ],
   "source": [
    "lr = LinearRegression().fit(X_train_scaled, y_train)\n",
    "print(\"number of coefficients:\", len(lr.coef_))\n",
    "print(\"lr.coef_:\") \n",
    "print([\"{0:0.4f}\".format(i) for i in lr.coef_])\n",
    "print(\"lr.intercept_:\", lr.intercept_)\n",
    "print(\"Training set score: {:.2f}\".format(lr.score(X_train_scaled, y_train)))\n",
    "print(\"Test set score: {:.2f}\".format(lr.score(X_test_scaled, y_test)))"
   ]
  },
  {
   "cell_type": "markdown",
   "metadata": {},
   "source": [
    "scaler 종류를 바꾼다고 해서 모델의 결과가 바뀌진 않음 (점수는 동일)\\\n",
    "scaling의 의의는 베타값을 통해 특성 간 영향력 비교가 가능하다는 것."
   ]
  }
 ],
 "metadata": {
  "kernelspec": {
   "display_name": "base",
   "language": "python",
   "name": "python3"
  },
  "language_info": {
   "codemirror_mode": {
    "name": "ipython",
    "version": 3
   },
   "file_extension": ".py",
   "mimetype": "text/x-python",
   "name": "python",
   "nbconvert_exporter": "python",
   "pygments_lexer": "ipython3",
   "version": "3.10.9"
  }
 },
 "nbformat": 4,
 "nbformat_minor": 2
}
