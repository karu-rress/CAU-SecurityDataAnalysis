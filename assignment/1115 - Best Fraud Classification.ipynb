{
 "cells": [
  {
   "cell_type": "markdown",
   "metadata": {},
   "source": [
    "<h1 style='text-align:center;'>Best Fraud Classification Model</h1>\n",
    "\n",
    "## Assignment Notice\n",
    "Try to use all the techniques we learned (i.e., SMOTE, cross-validation, grid search, pipeline, PCA, etc...) to build the best fraud classification model.\n",
    "\n",
    "Note: The **'best'** should be defined before you build a model. For example, think of those questions. Which algorithm shows the best performance? Which scoring should be appropriate?\n",
    "\n",
    "***"
   ]
  },
  {
   "cell_type": "markdown",
   "metadata": {},
   "source": [
    "**Best란 무엇인가?**\n",
    "- 이제 Score만으로는 좋은 모델과 나쁜 모델을 분류할 수 없다는 걸 확인했다.\n",
    "- 특히 불균형 데이터의 경우, 사실 관계와 상관 없이 많은 클래스로 예측하면 성능 자체는 좋아진다.\n",
    "- **ConfusionMatrix**를 통해 TP, FP, FN, TN을 종합적으로 살펴보는 것이 필요하다.\n",
    "\n",
    "**Fraud Detection의 경우에는...**\n",
    "- 머신러닝 모델에서 Precision과 Recall은 반비례한다.\n",
    "- 즉, [1] 균형을 맞추거나 [2] Precision을 높이거나 [3] Recall을 높일지 선택해야 한다.\n",
    "- 그러나 Fraud Detection은 특성상 Type II Error를 낮추는 것이 매우 중요하다.\n",
    "  - FP(사기가 아닌데 사기로 분류)의 경우 약간의 불편함은 존재할 수 있지만, 현실적으로 구제 수단이 많으므로 큰 문제는 되지 않는다.\n",
    "  - FN(사기인데 일반적 거래로 분류)의 경우 **사기를 탐지할 수 없다**는 점에서 큰 문제가 발생한다.\n",
    "- 따라서 Fraud Detection에서는 **Recall이 높은 모델**을 좋은 모델로 분류하도록 한다."
   ]
  },
  {
   "cell_type": "markdown",
   "metadata": {},
   "source": [
    "## 1. Preparing & Refining Data"
   ]
  },
  {
   "cell_type": "markdown",
   "metadata": {},
   "source": [
    "이거 pipeline부터 다시 하기.\n",
    "shap도 쓰고."
   ]
  },
  {
   "cell_type": "code",
   "execution_count": 1,
   "metadata": {},
   "outputs": [
    {
     "ename": "ModuleNotFoundError",
     "evalue": "No module named 'lightgbm'",
     "output_type": "error",
     "traceback": [
      "\u001b[1;31m---------------------------------------------------------------------------\u001b[0m",
      "\u001b[1;31mModuleNotFoundError\u001b[0m                       Traceback (most recent call last)",
      "\u001b[1;32mf:\\OneDrive - 중앙대학교\\CAU\\Grade 1 Semester 2\\[전선] 보안데이터 분석\\Workspace\\assignment\\1115 - Best Fraud Classification.ipynb Cell 5\u001b[0m line \u001b[0;36m1\n\u001b[0;32m     <a href='vscode-notebook-cell:/f%3A/OneDrive%20-%20%EC%A4%91%EC%95%99%EB%8C%80%ED%95%99%EA%B5%90/CAU/Grade%201%20Semester%202/%5B%EC%A0%84%EC%84%A0%5D%20%EB%B3%B4%EC%95%88%EB%8D%B0%EC%9D%B4%ED%84%B0%20%EB%B6%84%EC%84%9D/Workspace/assignment/1115%20-%20Best%20Fraud%20Classification.ipynb#W4sZmlsZQ%3D%3D?line=9'>10</a>\u001b[0m \u001b[39mfrom\u001b[39;00m \u001b[39msklearn\u001b[39;00m\u001b[39m.\u001b[39;00m\u001b[39mtree\u001b[39;00m               \u001b[39mimport\u001b[39;00m plot_tree\n\u001b[0;32m     <a href='vscode-notebook-cell:/f%3A/OneDrive%20-%20%EC%A4%91%EC%95%99%EB%8C%80%ED%95%99%EA%B5%90/CAU/Grade%201%20Semester%202/%5B%EC%A0%84%EC%84%A0%5D%20%EB%B3%B4%EC%95%88%EB%8D%B0%EC%9D%B4%ED%84%B0%20%EB%B6%84%EC%84%9D/Workspace/assignment/1115%20-%20Best%20Fraud%20Classification.ipynb#W4sZmlsZQ%3D%3D?line=10'>11</a>\u001b[0m \u001b[39mimport\u001b[39;00m \u001b[39mnumpy\u001b[39;00m                    \u001b[39mas\u001b[39;00m \u001b[39mnp\u001b[39;00m\n\u001b[1;32m---> <a href='vscode-notebook-cell:/f%3A/OneDrive%20-%20%EC%A4%91%EC%95%99%EB%8C%80%ED%95%99%EA%B5%90/CAU/Grade%201%20Semester%202/%5B%EC%A0%84%EC%84%A0%5D%20%EB%B3%B4%EC%95%88%EB%8D%B0%EC%9D%B4%ED%84%B0%20%EB%B6%84%EC%84%9D/Workspace/assignment/1115%20-%20Best%20Fraud%20Classification.ipynb#W4sZmlsZQ%3D%3D?line=11'>12</a>\u001b[0m \u001b[39mimport\u001b[39;00m \u001b[39mlightgbm\u001b[39;00m                 \u001b[39mas\u001b[39;00m \u001b[39mlgb\u001b[39;00m\n\u001b[0;32m     <a href='vscode-notebook-cell:/f%3A/OneDrive%20-%20%EC%A4%91%EC%95%99%EB%8C%80%ED%95%99%EA%B5%90/CAU/Grade%201%20Semester%202/%5B%EC%A0%84%EC%84%A0%5D%20%EB%B3%B4%EC%95%88%EB%8D%B0%EC%9D%B4%ED%84%B0%20%EB%B6%84%EC%84%9D/Workspace/assignment/1115%20-%20Best%20Fraud%20Classification.ipynb#W4sZmlsZQ%3D%3D?line=12'>13</a>\u001b[0m \u001b[39mimport\u001b[39;00m \u001b[39mpandas\u001b[39;00m                   \u001b[39mas\u001b[39;00m \u001b[39mpd\u001b[39;00m\n\u001b[0;32m     <a href='vscode-notebook-cell:/f%3A/OneDrive%20-%20%EC%A4%91%EC%95%99%EB%8C%80%ED%95%99%EA%B5%90/CAU/Grade%201%20Semester%202/%5B%EC%A0%84%EC%84%A0%5D%20%EB%B3%B4%EC%95%88%EB%8D%B0%EC%9D%B4%ED%84%B0%20%EB%B6%84%EC%84%9D/Workspace/assignment/1115%20-%20Best%20Fraud%20Classification.ipynb#W4sZmlsZQ%3D%3D?line=13'>14</a>\u001b[0m \u001b[39mimport\u001b[39;00m \u001b[39mxgboost\u001b[39;00m                  \u001b[39mas\u001b[39;00m \u001b[39mxgb\u001b[39;00m\n",
      "\u001b[1;31mModuleNotFoundError\u001b[0m: No module named 'lightgbm'"
     ]
    }
   ],
   "source": [
    "from imblearn.over_sampling     import SMOTENC\n",
    "from sklearn.ensemble           import RandomForestClassifier\n",
    "from sklearn.metrics            import ConfusionMatrixDisplay\n",
    "from sklearn.metrics            import confusion_matrix\n",
    "from sklearn.model_selection    import train_test_split\n",
    "from sklearn.model_selection import cross_val_predict\n",
    "from sklearn.model_selection import cross_val_score\n",
    "from sklearn.model_selection import cross_validate\n",
    "from sklearn.tree               import DecisionTreeClassifier\n",
    "from sklearn.tree               import plot_tree\n",
    "import numpy                    as np\n",
    "import lightgbm                 as lgb\n",
    "import pandas                   as pd\n",
    "import xgboost                  as xgb\n",
    "import matplotlib.pyplot        as plt\n",
    "import seaborn                  as sns\n",
    "from sklearn.linear_model       import LinearRegression\n",
    "from sklearn.linear_model       import Lasso\n",
    "from sklearn.linear_model       import Ridge\n",
    "from sklearn.preprocessing      import RobustScaler\n",
    "from imblearn.over_sampling     import  RandomOverSampler\n",
    "from imblearn.over_sampling     import  BorderlineSMOTE\n",
    "from imblearn.over_sampling     import  SMOTE\n",
    "from imblearn.under_sampling    import  RandomUnderSampler\n",
    "from sklearn.neighbors          import  KNeighborsClassifier\n",
    "\n",
    "\n",
    "\n",
    "from sklearn.tree import DecisionTreeClassifier\n",
    "from sklearn.datasets import load_iris\n",
    "from sklearn.model_selection import GridSearchCV\n",
    "import shap\n",
    "from imblearn.pipeline          import Pipeline\n",
    "\n",
    "from sklearn.ensemble           import RandomForestClassifier\n",
    "from sklearn.ensemble           import RandomForestRegressor\n",
    "from sklearn.model_selection    import train_test_split\n",
    "import matplotlib.pyplot        as plt\n",
    "import numpy                    as np\n",
    "import pandas                   as pd\n",
    "import shap\n"
   ]
  },
  {
   "cell_type": "code",
   "execution_count": 16,
   "metadata": {},
   "outputs": [],
   "source": [
    "# making class as we use this so many times\n",
    "class Fraud:\n",
    "    def __init__(self):\n",
    "        self._file = '../data/2_fraud_ex.csv'\n",
    "        self._df_origin = pd.read_csv(self._file)\n",
    "        self._df_origin.rename(columns={'oldbalanceOrg':'oldbalanceOrig'}, inplace=True)\n",
    "        self._types = {'CASH_IN': 0, 'CASH_OUT': 1, 'PAYMENT': 2, 'DEBIT': 3}\n",
    "        self._df_origin = self._df_origin[['type', 'amount', 'oldbalanceOrig',\n",
    "            'oldbalanceDest', 'newbalanceDest', 'isFraud']]\n",
    "        self._df_origin['type'] = self._df_origin['type'].apply(lambda x: self._types.get(x, 4))\n",
    "        self.reset_df()\n",
    "        self.RAND_SEED = 0\n",
    "        self._clf = None\n",
    "    \n",
    "    @property\n",
    "    def types(self):\n",
    "        return self._types\n",
    "    \n",
    "    def reset_df(self):\n",
    "        self._df = self._df_origin.copy()\n",
    "        \n",
    "    @property\n",
    "    def df(self):\n",
    "        return self._df\n",
    "        \n",
    "    def head(self):\n",
    "        display(self._df.head())\n",
    "        \n",
    "    def make_small(self, ratio=0.1):\n",
    "        _, self._df_small_origin, _, _ = train_test_split(self._df, self._df['isFraud'],\n",
    "            test_size=ratio, random_state=self.RAND_SEED, stratify=self._df['isFraud'])\n",
    "        self.reset_df_small()\n",
    "        \n",
    "    @property\n",
    "    def df_small(self):\n",
    "        return self._df_small\n",
    "    \n",
    "    def prepare_set(self):\n",
    "        self._df_X = self._df_small.drop(columns='isFraud')\n",
    "        self._df_y = self._df_small.isFraud\n",
    "\n",
    "        self._X_train, self._X_test, self._y_train, self._y_test = train_test_split(\n",
    "            self._df_X, self._df_y, random_state=self.RAND_SEED, stratify=self._df_y)\n",
    "        self._sm = SMOTENC(categorical_features=[0], random_state=self.RAND_SEED, k_neighbors=7)\n",
    "        self._X_sm_train, self._y_sm_train = self._sm.fit_resample(self._X_train, self._y_train)\n",
    "        \n",
    "    def show_shapes(self):\n",
    "        print(f'X_train {self._X_train.shape} became {self._X_sm_train.shape}')\n",
    "        print(f'y_train {self._y_train.shape} became {self._y_sm_train.shape}')\n",
    "        \n",
    "    @property\n",
    "    def df_X(self):\n",
    "        return self._df_X\n",
    "    \n",
    "    @property\n",
    "    def df_y(self):\n",
    "        return self._df_y    \n",
    "    \n",
    "    def train_data(self):\n",
    "        return self._X_sm_train, self._y_sm_train\n",
    "    \n",
    "    def test_data(self):\n",
    "        return self._X_test, self._y_test\n",
    "    \n",
    "    @property\n",
    "    def clf(self):\n",
    "        return self._clf\n",
    "\n",
    "    @clf.setter\n",
    "    def clf(self, clf):\n",
    "        self._clf = clf\n",
    "    \n",
    "    def show_score(self, clf=None):\n",
    "        if clf == None:\n",
    "            print(f\"Train score: {self._clf.score(self._X_sm_train, self._y_sm_train):.3f}\")\n",
    "            print(f\"Test score: {self._clf.score(self._X_test, self._y_test):.3f}\")\n",
    "        else:\n",
    "            print(f\"Train score: {clf.score(self._X_sm_train, self._y_sm_train):.3f}\")\n",
    "            print(f\"Test score: {clf.score(self._X_test, self._y_test):.3f}\")\n",
    "    \n",
    "    def show_matrix(self, clf=None):\n",
    "        plt.figure(figsize=(7, 7))\n",
    "        if clf == None:\n",
    "            ConfusionMatrixDisplay.from_estimator(self._clf, self._X_test, self._y_test, display_labels=['Non-Fraud', 'Fraud'])\n",
    "        else:\n",
    "            ConfusionMatrixDisplay.from_estimator(clf, self._X_test, self._y_test, display_labels=['Non-Fraud', 'Fraud'])\n",
    "        plt.show()\n",
    "\n",
    "    def describe_matrix(self, clf=None):\n",
    "        if clf == None:\n",
    "            tn, fp, fn, tp = confusion_matrix(\n",
    "                self._y_test, self._clf.predict(self._X_test), labels=self._clf.classes_).ravel()\n",
    "        else:\n",
    "            tn, fp, fn, tp = confusion_matrix(\n",
    "                self._y_test, clf.predict(self._X_test), labels=clf.classes_).ravel()\n",
    "\n",
    "        precision, recall = tp / (tp+fp), tp / (tp+fn)\n",
    "        pd.options.display.float_format = '{:.3%}'.format\n",
    "        display(pd.DataFrame({\n",
    "            'name': ['Accuracy', 'Precision', 'Recall(TPR)', 'F-Score', 'FPR'],\n",
    "            'value': [(tp+tn) / (tp+tn+fp+fn), precision, recall,\n",
    "                        2 * (precision*recall) / (precision+recall), fp / (fp+tn)]\n",
    "        }))"
   ]
  },
  {
   "cell_type": "code",
   "execution_count": 17,
   "metadata": {},
   "outputs": [
    {
     "data": {
      "text/html": [
       "<div>\n",
       "<style scoped>\n",
       "    .dataframe tbody tr th:only-of-type {\n",
       "        vertical-align: middle;\n",
       "    }\n",
       "\n",
       "    .dataframe tbody tr th {\n",
       "        vertical-align: top;\n",
       "    }\n",
       "\n",
       "    .dataframe thead th {\n",
       "        text-align: right;\n",
       "    }\n",
       "</style>\n",
       "<table border=\"1\" class=\"dataframe\">\n",
       "  <thead>\n",
       "    <tr style=\"text-align: right;\">\n",
       "      <th></th>\n",
       "      <th>type</th>\n",
       "      <th>amount</th>\n",
       "      <th>oldbalanceOrig</th>\n",
       "      <th>oldbalanceDest</th>\n",
       "      <th>newbalanceDest</th>\n",
       "      <th>isFraud</th>\n",
       "    </tr>\n",
       "  </thead>\n",
       "  <tbody>\n",
       "    <tr>\n",
       "      <th>0</th>\n",
       "      <td>2</td>\n",
       "      <td>9839.64</td>\n",
       "      <td>170136.0</td>\n",
       "      <td>0.0</td>\n",
       "      <td>0.0</td>\n",
       "      <td>0</td>\n",
       "    </tr>\n",
       "    <tr>\n",
       "      <th>1</th>\n",
       "      <td>2</td>\n",
       "      <td>1864.28</td>\n",
       "      <td>21249.0</td>\n",
       "      <td>0.0</td>\n",
       "      <td>0.0</td>\n",
       "      <td>0</td>\n",
       "    </tr>\n",
       "    <tr>\n",
       "      <th>2</th>\n",
       "      <td>4</td>\n",
       "      <td>181.00</td>\n",
       "      <td>181.0</td>\n",
       "      <td>0.0</td>\n",
       "      <td>0.0</td>\n",
       "      <td>1</td>\n",
       "    </tr>\n",
       "    <tr>\n",
       "      <th>3</th>\n",
       "      <td>1</td>\n",
       "      <td>181.00</td>\n",
       "      <td>181.0</td>\n",
       "      <td>21182.0</td>\n",
       "      <td>0.0</td>\n",
       "      <td>1</td>\n",
       "    </tr>\n",
       "    <tr>\n",
       "      <th>4</th>\n",
       "      <td>2</td>\n",
       "      <td>11668.14</td>\n",
       "      <td>41554.0</td>\n",
       "      <td>0.0</td>\n",
       "      <td>0.0</td>\n",
       "      <td>0</td>\n",
       "    </tr>\n",
       "  </tbody>\n",
       "</table>\n",
       "</div>"
      ],
      "text/plain": [
       "   type    amount  oldbalanceOrig  oldbalanceDest  newbalanceDest  isFraud\n",
       "0     2   9839.64        170136.0             0.0             0.0        0\n",
       "1     2   1864.28         21249.0             0.0             0.0        0\n",
       "2     4    181.00           181.0             0.0             0.0        1\n",
       "3     1    181.00           181.0         21182.0             0.0        1\n",
       "4     2  11668.14         41554.0             0.0             0.0        0"
      ]
     },
     "metadata": {},
     "output_type": "display_data"
    },
    {
     "name": "stdout",
     "output_type": "stream",
     "text": [
      "X_train (477196, 5) became (953160, 5)\n",
      "y_train (477196,) became (953160,)\n"
     ]
    }
   ],
   "source": [
    "fraud = Fraud()\n",
    "fraud.head()\n",
    "\n",
    "fraud.make_small()\n",
    "fraud.prepare_set()\n",
    "fraud.show_shapes()"
   ]
  },
  {
   "cell_type": "markdown",
   "metadata": {},
   "source": [
    "SMOTE-NC를 활용하여 Imbalanced 문제까진 해결한 상태."
   ]
  },
  {
   "cell_type": "code",
   "execution_count": 18,
   "metadata": {},
   "outputs": [],
   "source": [
    "sm = SMOTENC(categorical_features=[0], random_state=fraud.RAND_SEED, k_neighbors=7)\n",
    "X_sm, y_sm = sm.fit_resample(fraud.df_X, fraud.df_y)"
   ]
  },
  {
   "cell_type": "code",
   "execution_count": 19,
   "metadata": {},
   "outputs": [
    {
     "name": "stdout",
     "output_type": "stream",
     "text": [
      "Cross-validation score: [0.99334716 0.9922495  0.98774865 0.9926783  0.98916105]\n"
     ]
    }
   ],
   "source": [
    "gbm = lgb.LGBMClassifier(num_leaves=5, learning_rate=0.5, random_state=0)\n",
    "scores = cross_val_score(gbm, X_sm, y_sm)\n",
    "print('Cross-validation score:', scores)"
   ]
  },
  {
   "cell_type": "code",
   "execution_count": 20,
   "metadata": {},
   "outputs": [
    {
     "data": {
      "text/html": [
       "<div>\n",
       "<style scoped>\n",
       "    .dataframe tbody tr th:only-of-type {\n",
       "        vertical-align: middle;\n",
       "    }\n",
       "\n",
       "    .dataframe tbody tr th {\n",
       "        vertical-align: top;\n",
       "    }\n",
       "\n",
       "    .dataframe thead th {\n",
       "        text-align: right;\n",
       "    }\n",
       "</style>\n",
       "<table border=\"1\" class=\"dataframe\">\n",
       "  <thead>\n",
       "    <tr style=\"text-align: right;\">\n",
       "      <th></th>\n",
       "      <th>fit_time</th>\n",
       "      <th>score_time</th>\n",
       "      <th>test_accuracy</th>\n",
       "      <th>test_roc_auc</th>\n",
       "      <th>test_recall_macro</th>\n",
       "      <th>test_recall_weighted</th>\n",
       "      <th>test_precision_macro</th>\n",
       "      <th>test_precision_weighted</th>\n",
       "      <th>test_precision</th>\n",
       "      <th>test_recall</th>\n",
       "      <th>test_f1</th>\n",
       "    </tr>\n",
       "  </thead>\n",
       "  <tbody>\n",
       "    <tr>\n",
       "      <th>0</th>\n",
       "      <td>1.587072</td>\n",
       "      <td>0.292154</td>\n",
       "      <td>0.992706</td>\n",
       "      <td>0.999427</td>\n",
       "      <td>0.992706</td>\n",
       "      <td>0.992706</td>\n",
       "      <td>0.992769</td>\n",
       "      <td>0.992769</td>\n",
       "      <td>0.987208</td>\n",
       "      <td>0.998348</td>\n",
       "      <td>0.992747</td>\n",
       "    </tr>\n",
       "    <tr>\n",
       "      <th>1</th>\n",
       "      <td>1.138693</td>\n",
       "      <td>0.349968</td>\n",
       "      <td>0.992997</td>\n",
       "      <td>0.999482</td>\n",
       "      <td>0.992997</td>\n",
       "      <td>0.992997</td>\n",
       "      <td>0.993053</td>\n",
       "      <td>0.993053</td>\n",
       "      <td>0.987793</td>\n",
       "      <td>0.998332</td>\n",
       "      <td>0.993034</td>\n",
       "    </tr>\n",
       "    <tr>\n",
       "      <th>2</th>\n",
       "      <td>1.309629</td>\n",
       "      <td>0.339085</td>\n",
       "      <td>0.992061</td>\n",
       "      <td>0.998704</td>\n",
       "      <td>0.992061</td>\n",
       "      <td>0.992061</td>\n",
       "      <td>0.992140</td>\n",
       "      <td>0.992140</td>\n",
       "      <td>0.985890</td>\n",
       "      <td>0.998411</td>\n",
       "      <td>0.992111</td>\n",
       "    </tr>\n",
       "    <tr>\n",
       "      <th>3</th>\n",
       "      <td>1.398356</td>\n",
       "      <td>0.519157</td>\n",
       "      <td>0.992509</td>\n",
       "      <td>0.999241</td>\n",
       "      <td>0.992509</td>\n",
       "      <td>0.992509</td>\n",
       "      <td>0.992578</td>\n",
       "      <td>0.992578</td>\n",
       "      <td>0.986734</td>\n",
       "      <td>0.998442</td>\n",
       "      <td>0.992553</td>\n",
       "    </tr>\n",
       "    <tr>\n",
       "      <th>4</th>\n",
       "      <td>1.874380</td>\n",
       "      <td>0.449655</td>\n",
       "      <td>0.989708</td>\n",
       "      <td>0.998959</td>\n",
       "      <td>0.989708</td>\n",
       "      <td>0.989708</td>\n",
       "      <td>0.989855</td>\n",
       "      <td>0.989855</td>\n",
       "      <td>0.981375</td>\n",
       "      <td>0.998363</td>\n",
       "      <td>0.989796</td>\n",
       "    </tr>\n",
       "    <tr>\n",
       "      <th>5</th>\n",
       "      <td>2.349110</td>\n",
       "      <td>0.654425</td>\n",
       "      <td>0.988984</td>\n",
       "      <td>0.998412</td>\n",
       "      <td>0.988984</td>\n",
       "      <td>0.988984</td>\n",
       "      <td>0.989139</td>\n",
       "      <td>0.989139</td>\n",
       "      <td>0.980440</td>\n",
       "      <td>0.997875</td>\n",
       "      <td>0.989081</td>\n",
       "    </tr>\n",
       "    <tr>\n",
       "      <th>6</th>\n",
       "      <td>2.126562</td>\n",
       "      <td>0.604433</td>\n",
       "      <td>0.991982</td>\n",
       "      <td>0.999270</td>\n",
       "      <td>0.991982</td>\n",
       "      <td>0.991982</td>\n",
       "      <td>0.992056</td>\n",
       "      <td>0.992056</td>\n",
       "      <td>0.986009</td>\n",
       "      <td>0.998127</td>\n",
       "      <td>0.992031</td>\n",
       "    </tr>\n",
       "    <tr>\n",
       "      <th>7</th>\n",
       "      <td>1.747336</td>\n",
       "      <td>0.449355</td>\n",
       "      <td>0.991722</td>\n",
       "      <td>0.999220</td>\n",
       "      <td>0.991722</td>\n",
       "      <td>0.991722</td>\n",
       "      <td>0.991811</td>\n",
       "      <td>0.991811</td>\n",
       "      <td>0.985201</td>\n",
       "      <td>0.998442</td>\n",
       "      <td>0.991778</td>\n",
       "    </tr>\n",
       "    <tr>\n",
       "      <th>8</th>\n",
       "      <td>2.181683</td>\n",
       "      <td>0.512395</td>\n",
       "      <td>0.989724</td>\n",
       "      <td>0.998559</td>\n",
       "      <td>0.989724</td>\n",
       "      <td>0.989724</td>\n",
       "      <td>0.989869</td>\n",
       "      <td>0.989869</td>\n",
       "      <td>0.981420</td>\n",
       "      <td>0.998348</td>\n",
       "      <td>0.989812</td>\n",
       "    </tr>\n",
       "    <tr>\n",
       "      <th>9</th>\n",
       "      <td>1.786832</td>\n",
       "      <td>0.441314</td>\n",
       "      <td>0.989527</td>\n",
       "      <td>0.996960</td>\n",
       "      <td>0.989527</td>\n",
       "      <td>0.989527</td>\n",
       "      <td>0.989642</td>\n",
       "      <td>0.989642</td>\n",
       "      <td>0.982144</td>\n",
       "      <td>0.997183</td>\n",
       "      <td>0.989607</td>\n",
       "    </tr>\n",
       "  </tbody>\n",
       "</table>\n",
       "</div>"
      ],
      "text/plain": [
       "   fit_time  score_time  test_accuracy  test_roc_auc  test_recall_macro  \\\n",
       "0  1.587072    0.292154       0.992706      0.999427           0.992706   \n",
       "1  1.138693    0.349968       0.992997      0.999482           0.992997   \n",
       "2  1.309629    0.339085       0.992061      0.998704           0.992061   \n",
       "3  1.398356    0.519157       0.992509      0.999241           0.992509   \n",
       "4  1.874380    0.449655       0.989708      0.998959           0.989708   \n",
       "5  2.349110    0.654425       0.988984      0.998412           0.988984   \n",
       "6  2.126562    0.604433       0.991982      0.999270           0.991982   \n",
       "7  1.747336    0.449355       0.991722      0.999220           0.991722   \n",
       "8  2.181683    0.512395       0.989724      0.998559           0.989724   \n",
       "9  1.786832    0.441314       0.989527      0.996960           0.989527   \n",
       "\n",
       "   test_recall_weighted  test_precision_macro  test_precision_weighted  \\\n",
       "0              0.992706              0.992769                 0.992769   \n",
       "1              0.992997              0.993053                 0.993053   \n",
       "2              0.992061              0.992140                 0.992140   \n",
       "3              0.992509              0.992578                 0.992578   \n",
       "4              0.989708              0.989855                 0.989855   \n",
       "5              0.988984              0.989139                 0.989139   \n",
       "6              0.991982              0.992056                 0.992056   \n",
       "7              0.991722              0.991811                 0.991811   \n",
       "8              0.989724              0.989869                 0.989869   \n",
       "9              0.989527              0.989642                 0.989642   \n",
       "\n",
       "   test_precision  test_recall   test_f1  \n",
       "0        0.987208     0.998348  0.992747  \n",
       "1        0.987793     0.998332  0.993034  \n",
       "2        0.985890     0.998411  0.992111  \n",
       "3        0.986734     0.998442  0.992553  \n",
       "4        0.981375     0.998363  0.989796  \n",
       "5        0.980440     0.997875  0.989081  \n",
       "6        0.986009     0.998127  0.992031  \n",
       "7        0.985201     0.998442  0.991778  \n",
       "8        0.981420     0.998348  0.989812  \n",
       "9        0.982144     0.997183  0.989607  "
      ]
     },
     "execution_count": 20,
     "metadata": {},
     "output_type": "execute_result"
    }
   ],
   "source": [
    "res = cross_validate(gbm, X_sm, y_sm, scoring=['accuracy', 'roc_auc', 'recall_macro', \"recall_weighted\", \n",
    "                                           \"precision_macro\", \"precision_weighted\",\"precision\", \"recall\", \"f1\"], cv=10)\n",
    "pd.DataFrame(res)"
   ]
  },
  {
   "cell_type": "code",
   "execution_count": 24,
   "metadata": {},
   "outputs": [
    {
     "data": {
      "text/html": [
       "<style>#sk-container-id-2 {color: black;background-color: white;}#sk-container-id-2 pre{padding: 0;}#sk-container-id-2 div.sk-toggleable {background-color: white;}#sk-container-id-2 label.sk-toggleable__label {cursor: pointer;display: block;width: 100%;margin-bottom: 0;padding: 0.3em;box-sizing: border-box;text-align: center;}#sk-container-id-2 label.sk-toggleable__label-arrow:before {content: \"▸\";float: left;margin-right: 0.25em;color: #696969;}#sk-container-id-2 label.sk-toggleable__label-arrow:hover:before {color: black;}#sk-container-id-2 div.sk-estimator:hover label.sk-toggleable__label-arrow:before {color: black;}#sk-container-id-2 div.sk-toggleable__content {max-height: 0;max-width: 0;overflow: hidden;text-align: left;background-color: #f0f8ff;}#sk-container-id-2 div.sk-toggleable__content pre {margin: 0.2em;color: black;border-radius: 0.25em;background-color: #f0f8ff;}#sk-container-id-2 input.sk-toggleable__control:checked~div.sk-toggleable__content {max-height: 200px;max-width: 100%;overflow: auto;}#sk-container-id-2 input.sk-toggleable__control:checked~label.sk-toggleable__label-arrow:before {content: \"▾\";}#sk-container-id-2 div.sk-estimator input.sk-toggleable__control:checked~label.sk-toggleable__label {background-color: #d4ebff;}#sk-container-id-2 div.sk-label input.sk-toggleable__control:checked~label.sk-toggleable__label {background-color: #d4ebff;}#sk-container-id-2 input.sk-hidden--visually {border: 0;clip: rect(1px 1px 1px 1px);clip: rect(1px, 1px, 1px, 1px);height: 1px;margin: -1px;overflow: hidden;padding: 0;position: absolute;width: 1px;}#sk-container-id-2 div.sk-estimator {font-family: monospace;background-color: #f0f8ff;border: 1px dotted black;border-radius: 0.25em;box-sizing: border-box;margin-bottom: 0.5em;}#sk-container-id-2 div.sk-estimator:hover {background-color: #d4ebff;}#sk-container-id-2 div.sk-parallel-item::after {content: \"\";width: 100%;border-bottom: 1px solid gray;flex-grow: 1;}#sk-container-id-2 div.sk-label:hover label.sk-toggleable__label {background-color: #d4ebff;}#sk-container-id-2 div.sk-serial::before {content: \"\";position: absolute;border-left: 1px solid gray;box-sizing: border-box;top: 0;bottom: 0;left: 50%;z-index: 0;}#sk-container-id-2 div.sk-serial {display: flex;flex-direction: column;align-items: center;background-color: white;padding-right: 0.2em;padding-left: 0.2em;position: relative;}#sk-container-id-2 div.sk-item {position: relative;z-index: 1;}#sk-container-id-2 div.sk-parallel {display: flex;align-items: stretch;justify-content: center;background-color: white;position: relative;}#sk-container-id-2 div.sk-item::before, #sk-container-id-2 div.sk-parallel-item::before {content: \"\";position: absolute;border-left: 1px solid gray;box-sizing: border-box;top: 0;bottom: 0;left: 50%;z-index: -1;}#sk-container-id-2 div.sk-parallel-item {display: flex;flex-direction: column;z-index: 1;position: relative;background-color: white;}#sk-container-id-2 div.sk-parallel-item:first-child::after {align-self: flex-end;width: 50%;}#sk-container-id-2 div.sk-parallel-item:last-child::after {align-self: flex-start;width: 50%;}#sk-container-id-2 div.sk-parallel-item:only-child::after {width: 0;}#sk-container-id-2 div.sk-dashed-wrapped {border: 1px dashed gray;margin: 0 0.4em 0.5em 0.4em;box-sizing: border-box;padding-bottom: 0.4em;background-color: white;}#sk-container-id-2 div.sk-label label {font-family: monospace;font-weight: bold;display: inline-block;line-height: 1.2em;}#sk-container-id-2 div.sk-label-container {text-align: center;}#sk-container-id-2 div.sk-container {/* jupyter's `normalize.less` sets `[hidden] { display: none; }` but bootstrap.min.css set `[hidden] { display: none !important; }` so we also need the `!important` here to be able to override the default hidden behavior on the sphinx rendered scikit-learn.org. See: https://github.com/scikit-learn/scikit-learn/issues/21755 */display: inline-block !important;position: relative;}#sk-container-id-2 div.sk-text-repr-fallback {display: none;}</style><div id=\"sk-container-id-2\" class=\"sk-top-container\"><div class=\"sk-text-repr-fallback\"><pre>GridSearchCV(cv=10, estimator=LGBMClassifier(),\n",
       "             param_grid={&#x27;learning_rate&#x27;: [0.001, 0.01, 0.1, 0.4, 0.7],\n",
       "                         &#x27;max_depth&#x27;: [-1, 3, 5, 7, 9, 11],\n",
       "                         &#x27;num_leaves&#x27;: [3, 5, 7, 9, 11, 13, 15, 17, 19, 21, 23,\n",
       "                                        25, 27, 29, 31]},\n",
       "             return_train_score=True, scoring=&#x27;recall&#x27;)</pre><b>In a Jupyter environment, please rerun this cell to show the HTML representation or trust the notebook. <br />On GitHub, the HTML representation is unable to render, please try loading this page with nbviewer.org.</b></div><div class=\"sk-container\" hidden><div class=\"sk-item sk-dashed-wrapped\"><div class=\"sk-label-container\"><div class=\"sk-label sk-toggleable\"><input class=\"sk-toggleable__control sk-hidden--visually\" id=\"sk-estimator-id-4\" type=\"checkbox\" ><label for=\"sk-estimator-id-4\" class=\"sk-toggleable__label sk-toggleable__label-arrow\">GridSearchCV</label><div class=\"sk-toggleable__content\"><pre>GridSearchCV(cv=10, estimator=LGBMClassifier(),\n",
       "             param_grid={&#x27;learning_rate&#x27;: [0.001, 0.01, 0.1, 0.4, 0.7],\n",
       "                         &#x27;max_depth&#x27;: [-1, 3, 5, 7, 9, 11],\n",
       "                         &#x27;num_leaves&#x27;: [3, 5, 7, 9, 11, 13, 15, 17, 19, 21, 23,\n",
       "                                        25, 27, 29, 31]},\n",
       "             return_train_score=True, scoring=&#x27;recall&#x27;)</pre></div></div></div><div class=\"sk-parallel\"><div class=\"sk-parallel-item\"><div class=\"sk-item\"><div class=\"sk-label-container\"><div class=\"sk-label sk-toggleable\"><input class=\"sk-toggleable__control sk-hidden--visually\" id=\"sk-estimator-id-5\" type=\"checkbox\" ><label for=\"sk-estimator-id-5\" class=\"sk-toggleable__label sk-toggleable__label-arrow\">estimator: LGBMClassifier</label><div class=\"sk-toggleable__content\"><pre>LGBMClassifier()</pre></div></div></div><div class=\"sk-serial\"><div class=\"sk-item\"><div class=\"sk-estimator sk-toggleable\"><input class=\"sk-toggleable__control sk-hidden--visually\" id=\"sk-estimator-id-6\" type=\"checkbox\" ><label for=\"sk-estimator-id-6\" class=\"sk-toggleable__label sk-toggleable__label-arrow\">LGBMClassifier</label><div class=\"sk-toggleable__content\"><pre>LGBMClassifier()</pre></div></div></div></div></div></div></div></div></div></div>"
      ],
      "text/plain": [
       "GridSearchCV(cv=10, estimator=LGBMClassifier(),\n",
       "             param_grid={'learning_rate': [0.001, 0.01, 0.1, 0.4, 0.7],\n",
       "                         'max_depth': [-1, 3, 5, 7, 9, 11],\n",
       "                         'num_leaves': [3, 5, 7, 9, 11, 13, 15, 17, 19, 21, 23,\n",
       "                                        25, 27, 29, 31]},\n",
       "             return_train_score=True, scoring='recall')"
      ]
     },
     "execution_count": 24,
     "metadata": {},
     "output_type": "execute_result"
    }
   ],
   "source": [
    "param_grid = {\n",
    "    'num_leaves': [*range(3, 33, 2)], # 3 to 31, step 2\n",
    "    'max_depth': [-1, *range(3, 13, 2)], # 3 to 11, step 2\n",
    "    \"learning_rate\": [0.001, 0.01, 0.1, 0.4, 0.7],\n",
    "}\n",
    "\n",
    "# Recall 값이 최대인 모델을 찾아 훈련\n",
    "grid_search = GridSearchCV(lgb.LGBMClassifier(), param_grid=param_grid, scoring=\"recall\", cv=10, return_train_score=True)\n",
    "grid_search.fit(*fraud.train_data())"
   ]
  },
  {
   "cell_type": "code",
   "execution_count": 25,
   "metadata": {},
   "outputs": [
    {
     "name": "stdout",
     "output_type": "stream",
     "text": [
      "Optimal Parameters: {'learning_rate': 0.1, 'max_depth': 3, 'num_leaves': 9}\n",
      "Best Performance Model: LGBMClassifier(max_depth=3, num_leaves=9)\n",
      "Best Cross Validation Score: 1.00\n",
      "Test set score: 0.98\n"
     ]
    }
   ],
   "source": [
    "print(\"Optimal Parameters:\", grid_search.best_params_)\n",
    "print(\"Best Performance Model:\", grid_search.best_estimator_)\n",
    "print(f\"Best Cross Validation Score: {grid_search.best_score_:.2f}\")\n",
    "print(f\"Test set score: {grid_search.score(*fraud.test_data()):.2f}\")"
   ]
  },
  {
   "cell_type": "code",
   "execution_count": 26,
   "metadata": {},
   "outputs": [
    {
     "name": "stdout",
     "output_type": "stream",
     "text": [
      "Train score: 0.982\n",
      "Test score: 0.964\n"
     ]
    },
    {
     "data": {
      "text/plain": [
       "<Figure size 700x700 with 0 Axes>"
      ]
     },
     "metadata": {},
     "output_type": "display_data"
    },
    {
     "data": {
      "image/png": "[encoded data removed]",
      "text/plain": [
       "<Figure size 640x480 with 2 Axes>"
      ]
     },
     "metadata": {},
     "output_type": "display_data"
    },
    {
     "data": {
      "text/html": [
       "<div>\n",
       "<style scoped>\n",
       "    .dataframe tbody tr th:only-of-type {\n",
       "        vertical-align: middle;\n",
       "    }\n",
       "\n",
       "    .dataframe tbody tr th {\n",
       "        vertical-align: top;\n",
       "    }\n",
       "\n",
       "    .dataframe thead th {\n",
       "        text-align: right;\n",
       "    }\n",
       "</style>\n",
       "<table border=\"1\" class=\"dataframe\">\n",
       "  <thead>\n",
       "    <tr style=\"text-align: right;\">\n",
       "      <th></th>\n",
       "      <th>name</th>\n",
       "      <th>value</th>\n",
       "    </tr>\n",
       "  </thead>\n",
       "  <tbody>\n",
       "    <tr>\n",
       "      <th>0</th>\n",
       "      <td>Accuracy</td>\n",
       "      <td>96.397%</td>\n",
       "    </tr>\n",
       "    <tr>\n",
       "      <th>1</th>\n",
       "      <td>Precision</td>\n",
       "      <td>3.375%</td>\n",
       "    </tr>\n",
       "    <tr>\n",
       "      <th>2</th>\n",
       "      <td>Recall(TPR)</td>\n",
       "      <td>97.561%</td>\n",
       "    </tr>\n",
       "    <tr>\n",
       "      <th>3</th>\n",
       "      <td>F-Score</td>\n",
       "      <td>6.524%</td>\n",
       "    </tr>\n",
       "    <tr>\n",
       "      <th>4</th>\n",
       "      <td>FPR</td>\n",
       "      <td>3.604%</td>\n",
       "    </tr>\n",
       "  </tbody>\n",
       "</table>\n",
       "</div>"
      ],
      "text/plain": [
       "          name   value\n",
       "0     Accuracy 96.397%\n",
       "1    Precision  3.375%\n",
       "2  Recall(TPR) 97.561%\n",
       "3      F-Score  6.524%\n",
       "4          FPR  3.604%"
      ]
     },
     "metadata": {},
     "output_type": "display_data"
    }
   ],
   "source": [
    "# parameter 수정\n",
    "gbm = lgb.LGBMClassifier(learning_rate=0.1, max_depth=3, num_leaves=9,\n",
    "        random_state=fraud.RAND_SEED).fit(*fraud.train_data())\n",
    "fraud.clf = gbm\n",
    "fraud.show_score()\n",
    "fraud.show_matrix()\n",
    "fraud.describe_matrix()"
   ]
  },
  {
   "cell_type": "markdown",
   "metadata": {},
   "source": [
    "**지난번 앙상블 결과**\n",
    "|name|value|\n",
    "|---|---|\n",
    "|Accuracy|98.816%|\n",
    "|Precision|9.620%|\n",
    "|Recall(TPR)|97.561%|\n",
    "|F-Score|17.513%|\n",
    "|FPR|1.183%|\n",
    "\n",
    "Accuracy가 오히려 떨어졌다. FP 값이 크게 늘었기 때문이다.\\\n",
    "그리드서치에서 accuracy 값을 고려하지 않아서 생긴 문제같으니,\\\n",
    "다시 돌려보자."
   ]
  },
  {
   "cell_type": "code",
   "execution_count": 28,
   "metadata": {},
   "outputs": [
    {
     "data": {
      "text/html": [
       "<style>#sk-container-id-3 {color: black;background-color: white;}#sk-container-id-3 pre{padding: 0;}#sk-container-id-3 div.sk-toggleable {background-color: white;}#sk-container-id-3 label.sk-toggleable__label {cursor: pointer;display: block;width: 100%;margin-bottom: 0;padding: 0.3em;box-sizing: border-box;text-align: center;}#sk-container-id-3 label.sk-toggleable__label-arrow:before {content: \"▸\";float: left;margin-right: 0.25em;color: #696969;}#sk-container-id-3 label.sk-toggleable__label-arrow:hover:before {color: black;}#sk-container-id-3 div.sk-estimator:hover label.sk-toggleable__label-arrow:before {color: black;}#sk-container-id-3 div.sk-toggleable__content {max-height: 0;max-width: 0;overflow: hidden;text-align: left;background-color: #f0f8ff;}#sk-container-id-3 div.sk-toggleable__content pre {margin: 0.2em;color: black;border-radius: 0.25em;background-color: #f0f8ff;}#sk-container-id-3 input.sk-toggleable__control:checked~div.sk-toggleable__content {max-height: 200px;max-width: 100%;overflow: auto;}#sk-container-id-3 input.sk-toggleable__control:checked~label.sk-toggleable__label-arrow:before {content: \"▾\";}#sk-container-id-3 div.sk-estimator input.sk-toggleable__control:checked~label.sk-toggleable__label {background-color: #d4ebff;}#sk-container-id-3 div.sk-label input.sk-toggleable__control:checked~label.sk-toggleable__label {background-color: #d4ebff;}#sk-container-id-3 input.sk-hidden--visually {border: 0;clip: rect(1px 1px 1px 1px);clip: rect(1px, 1px, 1px, 1px);height: 1px;margin: -1px;overflow: hidden;padding: 0;position: absolute;width: 1px;}#sk-container-id-3 div.sk-estimator {font-family: monospace;background-color: #f0f8ff;border: 1px dotted black;border-radius: 0.25em;box-sizing: border-box;margin-bottom: 0.5em;}#sk-container-id-3 div.sk-estimator:hover {background-color: #d4ebff;}#sk-container-id-3 div.sk-parallel-item::after {content: \"\";width: 100%;border-bottom: 1px solid gray;flex-grow: 1;}#sk-container-id-3 div.sk-label:hover label.sk-toggleable__label {background-color: #d4ebff;}#sk-container-id-3 div.sk-serial::before {content: \"\";position: absolute;border-left: 1px solid gray;box-sizing: border-box;top: 0;bottom: 0;left: 50%;z-index: 0;}#sk-container-id-3 div.sk-serial {display: flex;flex-direction: column;align-items: center;background-color: white;padding-right: 0.2em;padding-left: 0.2em;position: relative;}#sk-container-id-3 div.sk-item {position: relative;z-index: 1;}#sk-container-id-3 div.sk-parallel {display: flex;align-items: stretch;justify-content: center;background-color: white;position: relative;}#sk-container-id-3 div.sk-item::before, #sk-container-id-3 div.sk-parallel-item::before {content: \"\";position: absolute;border-left: 1px solid gray;box-sizing: border-box;top: 0;bottom: 0;left: 50%;z-index: -1;}#sk-container-id-3 div.sk-parallel-item {display: flex;flex-direction: column;z-index: 1;position: relative;background-color: white;}#sk-container-id-3 div.sk-parallel-item:first-child::after {align-self: flex-end;width: 50%;}#sk-container-id-3 div.sk-parallel-item:last-child::after {align-self: flex-start;width: 50%;}#sk-container-id-3 div.sk-parallel-item:only-child::after {width: 0;}#sk-container-id-3 div.sk-dashed-wrapped {border: 1px dashed gray;margin: 0 0.4em 0.5em 0.4em;box-sizing: border-box;padding-bottom: 0.4em;background-color: white;}#sk-container-id-3 div.sk-label label {font-family: monospace;font-weight: bold;display: inline-block;line-height: 1.2em;}#sk-container-id-3 div.sk-label-container {text-align: center;}#sk-container-id-3 div.sk-container {/* jupyter's `normalize.less` sets `[hidden] { display: none; }` but bootstrap.min.css set `[hidden] { display: none !important; }` so we also need the `!important` here to be able to override the default hidden behavior on the sphinx rendered scikit-learn.org. See: https://github.com/scikit-learn/scikit-learn/issues/21755 */display: inline-block !important;position: relative;}#sk-container-id-3 div.sk-text-repr-fallback {display: none;}</style><div id=\"sk-container-id-3\" class=\"sk-top-container\"><div class=\"sk-text-repr-fallback\"><pre>GridSearchCV(cv=10, estimator=LGBMClassifier(),\n",
       "             param_grid={&#x27;learning_rate&#x27;: [0.01, 0.1, 0.4],\n",
       "                         &#x27;max_depth&#x27;: [2, 3, 4], &#x27;num_leaves&#x27;: [7, 8, 9, 10]},\n",
       "             refit=&#x27;recall&#x27;, return_train_score=True,\n",
       "             scoring=[&#x27;recall&#x27;, &#x27;accuracy&#x27;])</pre><b>In a Jupyter environment, please rerun this cell to show the HTML representation or trust the notebook. <br />On GitHub, the HTML representation is unable to render, please try loading this page with nbviewer.org.</b></div><div class=\"sk-container\" hidden><div class=\"sk-item sk-dashed-wrapped\"><div class=\"sk-label-container\"><div class=\"sk-label sk-toggleable\"><input class=\"sk-toggleable__control sk-hidden--visually\" id=\"sk-estimator-id-7\" type=\"checkbox\" ><label for=\"sk-estimator-id-7\" class=\"sk-toggleable__label sk-toggleable__label-arrow\">GridSearchCV</label><div class=\"sk-toggleable__content\"><pre>GridSearchCV(cv=10, estimator=LGBMClassifier(),\n",
       "             param_grid={&#x27;learning_rate&#x27;: [0.01, 0.1, 0.4],\n",
       "                         &#x27;max_depth&#x27;: [2, 3, 4], &#x27;num_leaves&#x27;: [7, 8, 9, 10]},\n",
       "             refit=&#x27;recall&#x27;, return_train_score=True,\n",
       "             scoring=[&#x27;recall&#x27;, &#x27;accuracy&#x27;])</pre></div></div></div><div class=\"sk-parallel\"><div class=\"sk-parallel-item\"><div class=\"sk-item\"><div class=\"sk-label-container\"><div class=\"sk-label sk-toggleable\"><input class=\"sk-toggleable__control sk-hidden--visually\" id=\"sk-estimator-id-8\" type=\"checkbox\" ><label for=\"sk-estimator-id-8\" class=\"sk-toggleable__label sk-toggleable__label-arrow\">estimator: LGBMClassifier</label><div class=\"sk-toggleable__content\"><pre>LGBMClassifier()</pre></div></div></div><div class=\"sk-serial\"><div class=\"sk-item\"><div class=\"sk-estimator sk-toggleable\"><input class=\"sk-toggleable__control sk-hidden--visually\" id=\"sk-estimator-id-9\" type=\"checkbox\" ><label for=\"sk-estimator-id-9\" class=\"sk-toggleable__label sk-toggleable__label-arrow\">LGBMClassifier</label><div class=\"sk-toggleable__content\"><pre>LGBMClassifier()</pre></div></div></div></div></div></div></div></div></div></div>"
      ],
      "text/plain": [
       "GridSearchCV(cv=10, estimator=LGBMClassifier(),\n",
       "             param_grid={'learning_rate': [0.01, 0.1, 0.4],\n",
       "                         'max_depth': [2, 3, 4], 'num_leaves': [7, 8, 9, 10]},\n",
       "             refit='recall', return_train_score=True,\n",
       "             scoring=['recall', 'accuracy'])"
      ]
     },
     "execution_count": 28,
     "metadata": {},
     "output_type": "execute_result"
    }
   ],
   "source": [
    "param_grid = {\n",
    "    'num_leaves': [7, 8, 9, 10],\n",
    "    'max_depth': [2, 3, 4],\n",
    "    \"learning_rate\": [0.01, 0.1, 0.4],\n",
    "}\n",
    "\n",
    "# Recall 값이 최대인 모델을 찾아 훈련\n",
    "grid_search = GridSearchCV(lgb.LGBMClassifier(), param_grid=param_grid,\n",
    "        scoring=[\"recall\", \"accuracy\"], refit=\"recall\", cv=10, return_train_score=True)\n",
    "grid_search.fit(*fraud.train_data())"
   ]
  },
  {
   "cell_type": "code",
   "execution_count": 29,
   "metadata": {},
   "outputs": [
    {
     "name": "stdout",
     "output_type": "stream",
     "text": [
      "Optimal Parameters: {'learning_rate': 0.1, 'max_depth': 3, 'num_leaves': 8}\n",
      "Best Performance Model: LGBMClassifier(max_depth=3, num_leaves=8)\n",
      "Best Cross Validation Score: 1.00\n",
      "Test set score: 0.98\n"
     ]
    }
   ],
   "source": [
    "print(\"Optimal Parameters:\", grid_search.best_params_)\n",
    "print(\"Best Performance Model:\", grid_search.best_estimator_)\n",
    "print(f\"Best Cross Validation Score: {grid_search.best_score_:.2f}\")\n",
    "print(f\"Test set score: {grid_search.score(*fraud.test_data()):.2f}\")"
   ]
  },
  {
   "cell_type": "code",
   "execution_count": 30,
   "metadata": {},
   "outputs": [
    {
     "name": "stdout",
     "output_type": "stream",
     "text": [
      "Train score: 0.982\n",
      "Test score: 0.964\n"
     ]
    },
    {
     "data": {
      "text/plain": [
       "<Figure size 700x700 with 0 Axes>"
      ]
     },
     "metadata": {},
     "output_type": "display_data"
    },
    {
     "data": {
      "image/png": "[encoded data removed]",
      "text/plain": [
       "<Figure size 640x480 with 2 Axes>"
      ]
     },
     "metadata": {},
     "output_type": "display_data"
    },
    {
     "data": {
      "text/html": [
       "<div>\n",
       "<style scoped>\n",
       "    .dataframe tbody tr th:only-of-type {\n",
       "        vertical-align: middle;\n",
       "    }\n",
       "\n",
       "    .dataframe tbody tr th {\n",
       "        vertical-align: top;\n",
       "    }\n",
       "\n",
       "    .dataframe thead th {\n",
       "        text-align: right;\n",
       "    }\n",
       "</style>\n",
       "<table border=\"1\" class=\"dataframe\">\n",
       "  <thead>\n",
       "    <tr style=\"text-align: right;\">\n",
       "      <th></th>\n",
       "      <th>name</th>\n",
       "      <th>value</th>\n",
       "    </tr>\n",
       "  </thead>\n",
       "  <tbody>\n",
       "    <tr>\n",
       "      <th>0</th>\n",
       "      <td>Accuracy</td>\n",
       "      <td>96.397%</td>\n",
       "    </tr>\n",
       "    <tr>\n",
       "      <th>1</th>\n",
       "      <td>Precision</td>\n",
       "      <td>3.375%</td>\n",
       "    </tr>\n",
       "    <tr>\n",
       "      <th>2</th>\n",
       "      <td>Recall(TPR)</td>\n",
       "      <td>97.561%</td>\n",
       "    </tr>\n",
       "    <tr>\n",
       "      <th>3</th>\n",
       "      <td>F-Score</td>\n",
       "      <td>6.524%</td>\n",
       "    </tr>\n",
       "    <tr>\n",
       "      <th>4</th>\n",
       "      <td>FPR</td>\n",
       "      <td>3.604%</td>\n",
       "    </tr>\n",
       "  </tbody>\n",
       "</table>\n",
       "</div>"
      ],
      "text/plain": [
       "          name   value\n",
       "0     Accuracy 96.397%\n",
       "1    Precision  3.375%\n",
       "2  Recall(TPR) 97.561%\n",
       "3      F-Score  6.524%\n",
       "4          FPR  3.604%"
      ]
     },
     "metadata": {},
     "output_type": "display_data"
    }
   ],
   "source": [
    "# parameter 수정\n",
    "gbm = lgb.LGBMClassifier(learning_rate=0.1, max_depth=3, num_leaves=8,\n",
    "        random_state=fraud.RAND_SEED).fit(*fraud.train_data())\n",
    "fraud.clf = gbm\n",
    "fraud.show_score()\n",
    "fraud.show_matrix()\n",
    "fraud.describe_matrix()"
   ]
  },
  {
   "cell_type": "markdown",
   "metadata": {},
   "source": [
    "모델 빌드에 수 시간이 걸린 관계로 더 이상의 진행은 현실적으로 어렵다고 판단.\\\n",
    "그리드 서치에 사용되는 하이퍼파라미터를 늘리고, recall-accuracy 순으로 높은 모델을 찾는다면\\\n",
    "최적의 모델을 찾을 수 있을 것으로 기대한다."
   ]
  }
 ],
 "metadata": {
  "kernelspec": {
   "display_name": "base",
   "language": "python",
   "name": "python3"
  },
  "language_info": {
   "codemirror_mode": {
    "name": "ipython",
    "version": 3
   },
   "file_extension": ".py",
   "mimetype": "text/x-python",
   "name": "python",
   "nbconvert_exporter": "python",
   "pygments_lexer": "ipython3",
   "version": "3.10.9"
  }
 },
 "nbformat": 4,
 "nbformat_minor": 2
}
