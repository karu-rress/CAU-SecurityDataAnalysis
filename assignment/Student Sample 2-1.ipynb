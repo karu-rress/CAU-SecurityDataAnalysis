{
 "cells": [
  {
   "cell_type": "code",
   "execution_count": 143,
   "metadata": {
    "ExecuteTime": {
     "end_time": "2023-11-08T13:12:48.560711Z",
     "start_time": "2023-11-08T13:12:48.180454Z"
    }
   },
   "outputs": [],
   "source": [
    "import pandas as pd\n",
    "import matplotlib.pyplot as plt\n",
    "import numpy as np\n",
    "import seaborn as sns"
   ]
  },
  {
   "cell_type": "markdown",
   "metadata": {},
   "source": [
    "# 1. Exploratory Data Analysis: Skipping..."
   ]
  },
  {
   "cell_type": "code",
   "execution_count": 144,
   "metadata": {
    "ExecuteTime": {
     "end_time": "2023-11-08T13:12:55.710915Z",
     "start_time": "2023-11-08T13:12:48.192715Z"
    }
   },
   "outputs": [],
   "source": [
    "df = pd.read_csv('2_fraud_ex.csv')"
   ]
  },
  {
   "cell_type": "code",
   "execution_count": 145,
   "metadata": {
    "ExecuteTime": {
     "end_time": "2023-11-08T13:12:55.716560Z",
     "start_time": "2023-11-08T13:12:55.709445Z"
    }
   },
   "outputs": [],
   "source": [
    "df.rename(columns={'oldbalanceOrg': 'oldbalanceOrig'}, inplace=True)"
   ]
  },
  {
   "cell_type": "code",
   "execution_count": 146,
   "metadata": {
    "ExecuteTime": {
     "end_time": "2023-11-08T13:12:56.124Z",
     "start_time": "2023-11-08T13:12:55.747333Z"
    }
   },
   "outputs": [],
   "source": [
    "df['type'] = df['type'].astype('category')\n",
    "df['isFraud'] = df['isFraud'].astype('bool')\n",
    "df['isFlaggedFraud'] = df['isFlaggedFraud'].astype('bool')"
   ]
  },
  {
   "cell_type": "markdown",
   "metadata": {},
   "source": [
    "# 3. Feature Engineering: Using portions from the previous assignment."
   ]
  },
  {
   "cell_type": "code",
   "execution_count": 147,
   "metadata": {
    "ExecuteTime": {
     "end_time": "2023-11-08T13:12:56.506389Z",
     "start_time": "2023-11-08T13:12:56.125561Z"
    }
   },
   "outputs": [],
   "source": [
    "df_augmented = df.copy()"
   ]
  },
  {
   "cell_type": "code",
   "execution_count": 148,
   "metadata": {
    "ExecuteTime": {
     "end_time": "2023-11-08T13:12:57.435369Z",
     "start_time": "2023-11-08T13:12:56.669183Z"
    }
   },
   "outputs": [],
   "source": [
    "df_augmented['isMerchandise'] = df_augmented['nameDest'].str.contains('M')"
   ]
  },
  {
   "cell_type": "code",
   "execution_count": 149,
   "metadata": {
    "ExecuteTime": {
     "end_time": "2023-11-08T13:13:11.087769Z",
     "start_time": "2023-11-08T13:12:57.470984Z"
    }
   },
   "outputs": [],
   "source": [
    "df_augmented['numTransactionsForDest'] = df_augmented.groupby('nameDest')['nameDest'].transform('count')\n",
    "df_augmented['numTransactionsForOrig'] = df_augmented.groupby('nameOrig')['nameOrig'].transform('count')"
   ]
  },
  {
   "cell_type": "code",
   "execution_count": 150,
   "metadata": {
    "ExecuteTime": {
     "end_time": "2023-11-08T13:13:11.134656Z",
     "start_time": "2023-11-08T13:13:11.087554Z"
    }
   },
   "outputs": [],
   "source": [
    "df_augmented['dayOfWeek'] = df_augmented['step'] // 24 % 7\n",
    "df_augmented['hourOfDay'] = df_augmented['step'] % 24"
   ]
  },
  {
   "cell_type": "code",
   "execution_count": 151,
   "metadata": {
    "ExecuteTime": {
     "end_time": "2023-11-08T13:13:12.296609Z",
     "start_time": "2023-11-08T13:13:11.136081Z"
    }
   },
   "outputs": [],
   "source": [
    "df_augmented['isConsecutiveTransferCashOut'] = (\n",
    "    (\n",
    "            ((df_augmented['type'] == \"TRANSFER\") & (df_augmented['type'].shift(-1) == \"CASH_OUT\") & (\n",
    "                    df_augmented['amount'] == df_augmented.shift(-1)['amount'])) |\n",
    "            ((df_augmented['type'] == \"CASH_OUT\") & (df_augmented['type'].shift(1) == \"TRANSFER\") & (\n",
    "                    df_augmented['amount'] == df_augmented.shift(1)['amount']))\n",
    "    )\n",
    ")"
   ]
  },
  {
   "cell_type": "markdown",
   "metadata": {},
   "source": [
    "# 4. Feature Selection: Using portions from the previous assignment."
   ]
  },
  {
   "cell_type": "markdown",
   "metadata": {},
   "source": [
    "## 4.0. List of features"
   ]
  },
  {
   "cell_type": "code",
   "execution_count": 152,
   "metadata": {
    "ExecuteTime": {
     "end_time": "2023-11-08T13:13:12.630621Z",
     "start_time": "2023-11-08T13:13:12.297247Z"
    }
   },
   "outputs": [],
   "source": [
    "df_selected = df_augmented.copy()"
   ]
  },
  {
   "cell_type": "markdown",
   "metadata": {},
   "source": [
    "## 4.1. Evaluating each features"
   ]
  },
  {
   "cell_type": "code",
   "execution_count": 153,
   "metadata": {
    "ExecuteTime": {
     "end_time": "2023-11-08T13:13:12.868438Z",
     "start_time": "2023-11-08T13:13:12.658729Z"
    }
   },
   "outputs": [],
   "source": [
    "df_selected.drop(columns=['step'], inplace=True)"
   ]
  },
  {
   "cell_type": "code",
   "execution_count": 154,
   "metadata": {
    "ExecuteTime": {
     "end_time": "2023-11-08T13:13:12.878091Z",
     "start_time": "2023-11-08T13:13:12.870315Z"
    }
   },
   "outputs": [],
   "source": [
    "df_selected['type'] = df_selected['type'].cat.codes"
   ]
  },
  {
   "cell_type": "code",
   "execution_count": 155,
   "metadata": {
    "ExecuteTime": {
     "end_time": "2023-11-08T13:13:13.049583Z",
     "start_time": "2023-11-08T13:13:12.872554Z"
    }
   },
   "outputs": [],
   "source": [
    "df_selected.drop(columns=['nameOrig', 'nameDest'], inplace=True)"
   ]
  },
  {
   "cell_type": "code",
   "execution_count": 156,
   "metadata": {
    "ExecuteTime": {
     "end_time": "2023-11-08T13:13:13.101527Z",
     "start_time": "2023-11-08T13:13:13.100093Z"
    }
   },
   "outputs": [],
   "source": [
    "df_selected.drop(columns=['oldbalanceOrig', 'newbalanceOrig', 'oldbalanceDest', 'newbalanceDest'], inplace=True)"
   ]
  },
  {
   "cell_type": "code",
   "execution_count": 157,
   "metadata": {
    "ExecuteTime": {
     "end_time": "2023-11-08T13:13:13.104953Z",
     "start_time": "2023-11-08T13:13:13.102490Z"
    }
   },
   "outputs": [],
   "source": [
    "# df_selected.drop(columns=['numTransactionsForDest', 'numTransactionsForOrig'], inplace=True)"
   ]
  },
  {
   "cell_type": "code",
   "execution_count": 158,
   "metadata": {
    "ExecuteTime": {
     "end_time": "2023-11-08T13:13:13.110431Z",
     "start_time": "2023-11-08T13:13:13.104288Z"
    }
   },
   "outputs": [],
   "source": [
    "# df_selected.drop(columns=['isMerchandise'], inplace=True)"
   ]
  },
  {
   "cell_type": "code",
   "execution_count": 159,
   "metadata": {
    "ExecuteTime": {
     "end_time": "2023-11-08T13:13:13.342544Z",
     "start_time": "2023-11-08T13:13:13.114368Z"
    }
   },
   "outputs": [],
   "source": [
    "df_selected['dayOfWeekSin'] = np.sin(2 * np.pi * df_selected['dayOfWeek'] / 7)\n",
    "df_selected['dayOfWeekCos'] = np.cos(2 * np.pi * df_selected['dayOfWeek'] / 7)\n",
    "df_selected['hourOfDaySin'] = np.sin(2 * np.pi * df_selected['hourOfDay'] / 24)\n",
    "df_selected['hourOfDayCos'] = np.cos(2 * np.pi * df_selected['hourOfDay'] / 24)\n",
    "df_selected.drop(columns=['dayOfWeek', 'hourOfDay'], inplace=True)"
   ]
  },
  {
   "cell_type": "markdown",
   "metadata": {},
   "source": [
    "# 5. Splitting the Dataset"
   ]
  },
  {
   "cell_type": "code",
   "execution_count": 160,
   "metadata": {
    "ExecuteTime": {
     "end_time": "2023-11-08T13:13:15.272833Z",
     "start_time": "2023-11-08T13:13:13.431892Z"
    }
   },
   "outputs": [],
   "source": [
    "from sklearn.model_selection import train_test_split\n",
    "\n",
    "X = df_selected.drop(columns=['isFraud'])\n",
    "y = df_selected['isFraud']\n",
    "\n",
    "X_train, X_test, y_train, y_test = train_test_split(X, y, stratify=y, random_state=42)"
   ]
  },
  {
   "cell_type": "markdown",
   "metadata": {},
   "source": [
    "# 6. Feature Scaling"
   ]
  },
  {
   "cell_type": "code",
   "execution_count": 161,
   "metadata": {
    "ExecuteTime": {
     "end_time": "2023-11-08T13:13:15.727053Z",
     "start_time": "2023-11-08T13:13:15.312761Z"
    }
   },
   "outputs": [],
   "source": [
    "from sklearn.preprocessing import StandardScaler\n",
    "\n",
    "scaler = StandardScaler()\n",
    "scaling_columns = ['amount', 'dayOfWeekSin', 'dayOfWeekCos', 'hourOfDaySin', 'hourOfDayCos']\n",
    "\n",
    "X_train[scaling_columns] = scaler.fit_transform(X_train[scaling_columns])\n",
    "X_test[scaling_columns] = scaler.transform(X_test[scaling_columns])"
   ]
  },
  {
   "cell_type": "markdown",
   "metadata": {},
   "source": [
    "# 7. Handling Imbalanced Data: Oversampling"
   ]
  },
  {
   "cell_type": "code",
   "execution_count": 162,
   "metadata": {
    "ExecuteTime": {
     "end_time": "2023-11-08T13:13:15.739851Z",
     "start_time": "2023-11-08T13:13:15.735789Z"
    }
   },
   "outputs": [
    {
     "data": {
      "text/plain": [
       "False    4765805\n",
       "True        6160\n",
       "Name: isFraud, dtype: int64"
      ]
     },
     "execution_count": 162,
     "metadata": {},
     "output_type": "execute_result"
    }
   ],
   "source": [
    "y_train.value_counts()"
   ]
  },
  {
   "cell_type": "code",
   "execution_count": 163,
   "metadata": {
    "ExecuteTime": {
     "end_time": "2023-11-08T13:13:56.859405Z",
     "start_time": "2023-11-08T13:13:15.740328Z"
    }
   },
   "outputs": [
    {
     "data": {
      "text/plain": [
       "False    4765805\n",
       "True     4765805\n",
       "Name: isFraud, dtype: int64"
      ]
     },
     "execution_count": 163,
     "metadata": {},
     "output_type": "execute_result"
    }
   ],
   "source": [
    "from imblearn.over_sampling import SMOTENC\n",
    "\n",
    "sm = SMOTENC(categorical_features=[0], sampling_strategy='minority', random_state=42)\n",
    "X_train_res, y_train_res = sm.fit_resample(X_train, y_train)\n",
    "y_train_res.value_counts()"
   ]
  },
  {
   "cell_type": "markdown",
   "metadata": {},
   "source": [
    "# 8. Model: Decision Tree"
   ]
  },
  {
   "cell_type": "code",
   "execution_count": 164,
   "metadata": {
    "ExecuteTime": {
     "end_time": "2023-11-08T13:13:56.867429Z",
     "start_time": "2023-11-08T13:13:56.860365Z"
    }
   },
   "outputs": [],
   "source": [
    "from sklearn.metrics import confusion_matrix, classification_report\n",
    "from sklearn.tree import DecisionTreeClassifier\n",
    "\n",
    "feature_columns = ['type', 'amount',\n",
    "                   'dayOfWeekSin', 'dayOfWeekCos', 'hourOfDaySin', 'hourOfDayCos',\n",
    "                   'isConsecutiveTransferCashOut']\n",
    "\n",
    "def run_tree(tree):\n",
    "    tree.fit(X_train_res[feature_columns], y_train_res)\n",
    "    y_pred_test = tree.predict(X_test[feature_columns])\n",
    "\n",
    "    print(classification_report(y_test, y_pred_test))\n",
    "    print('Train Accuracy: ', tree.score(X_train[feature_columns], y_train))\n",
    "    print('Test Accuracy: ', tree.score(X_test[feature_columns], y_test))"
   ]
  },
  {
   "cell_type": "markdown",
   "metadata": {},
   "source": [
    "## 8.1. Decision Tree without pruning"
   ]
  },
  {
   "cell_type": "code",
   "execution_count": 165,
   "metadata": {
    "ExecuteTime": {
     "end_time": "2023-11-08T13:14:12.910771Z",
     "start_time": "2023-11-08T13:13:56.861315Z"
    }
   },
   "outputs": [
    {
     "name": "stdout",
     "output_type": "stream",
     "text": [
      "              precision    recall  f1-score   support\n",
      "\n",
      "       False       1.00      1.00      1.00   1588602\n",
      "        True       0.94      1.00      0.97      2053\n",
      "\n",
      "    accuracy                           1.00   1590655\n",
      "   macro avg       0.97      1.00      0.98   1590655\n",
      "weighted avg       1.00      1.00      1.00   1590655\n",
      "Train Accuracy:  1.0\n",
      "Test Accuracy:  0.9999082139118791\n"
     ]
    }
   ],
   "source": [
    "clf = DecisionTreeClassifier()\n",
    "run_tree(clf)"
   ]
  },
  {
   "cell_type": "markdown",
   "metadata": {},
   "source": [
    "## 8.2. Decision Tree with pruning (max_depth)"
   ]
  },
  {
   "cell_type": "code",
   "execution_count": 166,
   "metadata": {
    "ExecuteTime": {
     "end_time": "2023-11-08T13:14:20.605132Z",
     "start_time": "2023-11-08T13:14:12.973943Z"
    }
   },
   "outputs": [
    {
     "name": "stdout",
     "output_type": "stream",
     "text": [
      "              precision    recall  f1-score   support\n",
      "\n",
      "       False       1.00      1.00      1.00   1588602\n",
      "        True       1.00      1.00      1.00      2053\n",
      "\n",
      "    accuracy                           1.00   1590655\n",
      "   macro avg       1.00      1.00      1.00   1590655\n",
      "weighted avg       1.00      1.00      1.00   1590655\n",
      "Train Accuracy:  0.999983025860416\n",
      "Test Accuracy:  0.9999899412506169\n"
     ]
    }
   ],
   "source": [
    "clf_maxdepth_3 = DecisionTreeClassifier(max_depth=3)\n",
    "run_tree(clf_maxdepth_3)"
   ]
  },
  {
   "cell_type": "code",
   "execution_count": 167,
   "metadata": {
    "ExecuteTime": {
     "end_time": "2023-11-08T13:14:31.065387Z",
     "start_time": "2023-11-08T13:14:20.660043Z"
    }
   },
   "outputs": [
    {
     "name": "stdout",
     "output_type": "stream",
     "text": [
      "              precision    recall  f1-score   support\n",
      "\n",
      "       False       1.00      1.00      1.00   1588602\n",
      "        True       1.00      1.00      1.00      2053\n",
      "\n",
      "    accuracy                           1.00   1590655\n",
      "   macro avg       1.00      1.00      1.00   1590655\n",
      "weighted avg       1.00      1.00      1.00   1590655\n",
      "Train Accuracy:  0.9999911985942898\n",
      "Test Accuracy:  0.9999930846097991\n"
     ]
    }
   ],
   "source": [
    "clf_maxdepth_5 = DecisionTreeClassifier(max_depth=5)\n",
    "run_tree(clf_maxdepth_5) # Sweet spot!"
   ]
  },
  {
   "cell_type": "code",
   "execution_count": 168,
   "metadata": {
    "ExecuteTime": {
     "end_time": "2023-11-08T13:14:46.113281Z",
     "start_time": "2023-11-08T13:14:31.124456Z"
    }
   },
   "outputs": [
    {
     "name": "stdout",
     "output_type": "stream",
     "text": [
      "              precision    recall  f1-score   support\n",
      "\n",
      "       False       1.00      1.00      1.00   1588602\n",
      "        True       0.98      1.00      0.99      2053\n",
      "\n",
      "    accuracy                           1.00   1590655\n",
      "   macro avg       0.99      1.00      0.99   1590655\n",
      "weighted avg       1.00      1.00      1.00   1590655\n",
      "Train Accuracy:  0.9999777869284456\n",
      "Test Accuracy:  0.9999729671110329\n"
     ]
    }
   ],
   "source": [
    "clf_maxdepth_10 = DecisionTreeClassifier(max_depth=10)\n",
    "run_tree(clf_maxdepth_10)"
   ]
  },
  {
   "cell_type": "code",
   "execution_count": 169,
   "metadata": {
    "ExecuteTime": {
     "end_time": "2023-11-08T13:15:02.371313Z",
     "start_time": "2023-11-08T13:14:46.176548Z"
    }
   },
   "outputs": [
    {
     "name": "stdout",
     "output_type": "stream",
     "text": [
      "              precision    recall  f1-score   support\n",
      "\n",
      "       False       1.00      1.00      1.00   1588602\n",
      "        True       0.97      1.00      0.99      2053\n",
      "\n",
      "    accuracy                           1.00   1590655\n",
      "   macro avg       0.99      1.00      0.99   1590655\n",
      "weighted avg       1.00      1.00      1.00   1590655\n",
      "Train Accuracy:  0.9999985330990483\n",
      "Test Accuracy:  0.9999622796898133\n"
     ]
    }
   ],
   "source": [
    "clf_maxdepth_20 = DecisionTreeClassifier(max_depth=20)\n",
    "run_tree(clf_maxdepth_20)"
   ]
  },
  {
   "cell_type": "markdown",
   "metadata": {},
   "source": [
    "## 8.3. Decision Tree with pruning (min_samples_leaf)"
   ]
  },
  {
   "cell_type": "code",
   "execution_count": 170,
   "metadata": {
    "ExecuteTime": {
     "end_time": "2023-11-08T13:15:18.347359Z",
     "start_time": "2023-11-08T13:15:02.427339Z"
    }
   },
   "outputs": [
    {
     "name": "stdout",
     "output_type": "stream",
     "text": [
      "              precision    recall  f1-score   support\n",
      "\n",
      "       False       1.00      1.00      1.00   1588602\n",
      "        True       0.97      1.00      0.98      2053\n",
      "\n",
      "    accuracy                           1.00   1590655\n",
      "   macro avg       0.99      1.00      0.99   1590655\n",
      "weighted avg       1.00      1.00      1.00   1590655\n",
      "Train Accuracy:  0.9999738053401481\n",
      "Test Accuracy:  0.9999566216432854\n"
     ]
    }
   ],
   "source": [
    "clf_min_samples_leaf_10 = DecisionTreeClassifier(min_samples_leaf=3)\n",
    "run_tree(clf_min_samples_leaf_10)"
   ]
  },
  {
   "cell_type": "code",
   "execution_count": 171,
   "metadata": {
    "ExecuteTime": {
     "end_time": "2023-11-08T13:15:35.227553Z",
     "start_time": "2023-11-08T13:15:18.357091Z"
    }
   },
   "outputs": [
    {
     "name": "stdout",
     "output_type": "stream",
     "text": [
      "              precision    recall  f1-score   support\n",
      "\n",
      "       False       1.00      1.00      1.00   1588602\n",
      "        True       0.98      1.00      0.99      2053\n",
      "\n",
      "    accuracy                           1.00   1590655\n",
      "   macro avg       0.99      1.00      0.99   1590655\n",
      "weighted avg       1.00      1.00      1.00   1590655\n",
      "Train Accuracy:  0.9999794633866761\n",
      "Test Accuracy:  0.9999717097673599\n"
     ]
    }
   ],
   "source": [
    "clf_min_samples_leaf_50 = DecisionTreeClassifier(min_samples_leaf=50)\n",
    "run_tree(clf_min_samples_leaf_50) # Sweet spot!"
   ]
  },
  {
   "cell_type": "code",
   "execution_count": 172,
   "metadata": {
    "ExecuteTime": {
     "end_time": "2023-11-08T13:15:51.579226Z",
     "start_time": "2023-11-08T13:15:35.283250Z"
    }
   },
   "outputs": [
    {
     "name": "stdout",
     "output_type": "stream",
     "text": [
      "              precision    recall  f1-score   support\n",
      "\n",
      "       False       1.00      1.00      1.00   1588602\n",
      "        True       0.98      1.00      0.99      2053\n",
      "\n",
      "    accuracy                           1.00   1590655\n",
      "   macro avg       0.99      1.00      0.99   1590655\n",
      "weighted avg       1.00      1.00      1.00   1590655\n",
      "Train Accuracy:  0.9999685664081778\n",
      "Test Accuracy:  0.9999710810955236\n"
     ]
    }
   ],
   "source": [
    "clf_min_samples_leaf_100 = DecisionTreeClassifier(min_samples_leaf=100)\n",
    "run_tree(clf_min_samples_leaf_100)"
   ]
  },
  {
   "cell_type": "code",
   "execution_count": 173,
   "metadata": {
    "ExecuteTime": {
     "end_time": "2023-11-08T13:16:07.921989Z",
     "start_time": "2023-11-08T13:15:51.643532Z"
    }
   },
   "outputs": [
    {
     "name": "stdout",
     "output_type": "stream",
     "text": [
      "              precision    recall  f1-score   support\n",
      "\n",
      "       False       1.00      1.00      1.00   1588602\n",
      "        True       0.96      0.99      0.98      2053\n",
      "\n",
      "    accuracy                           1.00   1590655\n",
      "   macro avg       0.98      1.00      0.99   1590655\n",
      "weighted avg       1.00      1.00      1.00   1590655\n",
      "Train Accuracy:  0.9999474011230175\n",
      "Test Accuracy:  0.9999459342220658\n"
     ]
    }
   ],
   "source": [
    "clf_min_samples_leaf_500 = DecisionTreeClassifier(min_samples_leaf=500)\n",
    "run_tree(clf_min_samples_leaf_500)"
   ]
  },
  {
   "cell_type": "markdown",
   "metadata": {},
   "source": [
    "## 8.4. Decision Tree with pruning (min_samples_split)"
   ]
  },
  {
   "cell_type": "code",
   "execution_count": 174,
   "metadata": {
    "ExecuteTime": {
     "end_time": "2023-11-08T13:16:24.875393Z",
     "start_time": "2023-11-08T13:16:08.008040Z"
    }
   },
   "outputs": [
    {
     "name": "stdout",
     "output_type": "stream",
     "text": [
      "              precision    recall  f1-score   support\n",
      "\n",
      "       False       1.00      1.00      1.00   1588602\n",
      "        True       0.94      1.00      0.97      2053\n",
      "\n",
      "    accuracy                           1.00   1590655\n",
      "   macro avg       0.97      1.00      0.98   1590655\n",
      "weighted avg       1.00      1.00      1.00   1590655\n",
      "Train Accuracy:  0.99998763612055\n",
      "Test Accuracy:  0.9999182726612622\n"
     ]
    }
   ],
   "source": [
    "clf_min_samples_split_10 = DecisionTreeClassifier(min_samples_split=10)\n",
    "run_tree(clf_min_samples_split_10)"
   ]
  },
  {
   "cell_type": "code",
   "execution_count": 175,
   "metadata": {
    "ExecuteTime": {
     "end_time": "2023-11-08T13:16:41.989290Z",
     "start_time": "2023-11-08T13:16:24.944253Z"
    }
   },
   "outputs": [
    {
     "name": "stdout",
     "output_type": "stream",
     "text": [
      "              precision    recall  f1-score   support\n",
      "\n",
      "       False       1.00      1.00      1.00   1588602\n",
      "        True       0.97      1.00      0.98      2053\n",
      "\n",
      "    accuracy                           1.00   1590655\n",
      "   macro avg       0.99      1.00      0.99   1590655\n",
      "weighted avg       1.00      1.00      1.00   1590655\n",
      "Train Accuracy:  0.9999916177088474\n",
      "Test Accuracy:  0.999959136330631\n"
     ]
    }
   ],
   "source": [
    "clf_min_samples_split_50 = DecisionTreeClassifier(min_samples_split=50)\n",
    "run_tree(clf_min_samples_split_50)"
   ]
  },
  {
   "cell_type": "code",
   "execution_count": 176,
   "metadata": {
    "ExecuteTime": {
     "end_time": "2023-11-08T13:17:01.116890Z",
     "start_time": "2023-11-08T13:16:41.987523Z"
    }
   },
   "outputs": [
    {
     "name": "stdout",
     "output_type": "stream",
     "text": [
      "              precision    recall  f1-score   support\n",
      "\n",
      "       False       1.00      1.00      1.00   1588602\n",
      "        True       0.98      1.00      0.99      2053\n",
      "\n",
      "    accuracy                           1.00   1590655\n",
      "   macro avg       0.99      1.00      0.99   1590655\n",
      "weighted avg       1.00      1.00      1.00   1590655\n",
      "Train Accuracy:  0.9999947610680296\n",
      "Test Accuracy:  0.9999647943771591\n"
     ]
    }
   ],
   "source": [
    "clf_min_samples_split_100 = DecisionTreeClassifier(min_samples_split=100)\n",
    "run_tree(clf_min_samples_split_100)"
   ]
  },
  {
   "cell_type": "markdown",
   "metadata": {},
   "source": [
    "## 8.5. Decision Tree with pruning (max_leaf_nodes)"
   ]
  },
  {
   "cell_type": "code",
   "execution_count": 177,
   "metadata": {
    "ExecuteTime": {
     "end_time": "2023-11-08T13:17:12.083483Z",
     "start_time": "2023-11-08T13:17:01.308233Z"
    }
   },
   "outputs": [
    {
     "name": "stdout",
     "output_type": "stream",
     "text": [
      "              precision    recall  f1-score   support\n",
      "\n",
      "       False       1.00      1.00      1.00   1588602\n",
      "        True       1.00      1.00      1.00      2053\n",
      "\n",
      "    accuracy                           1.00   1590655\n",
      "   macro avg       1.00      1.00      1.00   1590655\n",
      "weighted avg       1.00      1.00      1.00   1590655\n",
      "Train Accuracy:  0.9999914081515686\n",
      "Test Accuracy:  0.9999930846097991\n"
     ]
    }
   ],
   "source": [
    "clf_max_leaf_nodes_10 = DecisionTreeClassifier(max_leaf_nodes=10)\n",
    "run_tree(clf_max_leaf_nodes_10)"
   ]
  },
  {
   "cell_type": "code",
   "execution_count": 178,
   "metadata": {
    "ExecuteTime": {
     "end_time": "2023-11-08T13:17:24.537492Z",
     "start_time": "2023-11-08T13:17:12.197940Z"
    }
   },
   "outputs": [
    {
     "name": "stdout",
     "output_type": "stream",
     "text": [
      "              precision    recall  f1-score   support\n",
      "\n",
      "       False       1.00      1.00      1.00   1588602\n",
      "        True       0.99      1.00      1.00      2053\n",
      "\n",
      "    accuracy                           1.00   1590655\n",
      "   macro avg       1.00      1.00      1.00   1590655\n",
      "weighted avg       1.00      1.00      1.00   1590655\n",
      "Train Accuracy:  0.9999888934642228\n",
      "Test Accuracy:  0.9999880552351076\n"
     ]
    }
   ],
   "source": [
    "clf_max_leaf_nodes_50 = DecisionTreeClassifier(max_leaf_nodes=50)\n",
    "run_tree(clf_max_leaf_nodes_50)"
   ]
  },
  {
   "cell_type": "code",
   "execution_count": 179,
   "metadata": {
    "ExecuteTime": {
     "end_time": "2023-11-08T13:17:36.751329Z",
     "start_time": "2023-11-08T13:17:24.657530Z"
    }
   },
   "outputs": [
    {
     "name": "stdout",
     "output_type": "stream",
     "text": [
      "              precision    recall  f1-score   support\n",
      "\n",
      "       False       1.00      1.00      1.00   1588602\n",
      "        True       0.99      1.00      0.99      2053\n",
      "\n",
      "    accuracy                           1.00   1590655\n",
      "   macro avg       0.99      1.00      1.00   1590655\n",
      "weighted avg       1.00      1.00      1.00   1590655\n",
      "Train Accuracy:  0.9999895221360593\n",
      "Test Accuracy:  0.9999811398449067\n"
     ]
    }
   ],
   "source": [
    "clf_max_leaf_nodes_100 = DecisionTreeClassifier(max_leaf_nodes=100)\n",
    "run_tree(clf_max_leaf_nodes_100)"
   ]
  },
  {
   "cell_type": "markdown",
   "metadata": {},
   "source": [
    "## 8.6. Decision Tree with pruning (max_features) ... 생략"
   ]
  }
 ],
 "metadata": {
  "kernelspec": {
   "display_name": "Python 3 (ipykernel)",
   "language": "python",
   "name": "python3"
  },
  "language_info": {
   "codemirror_mode": {
    "name": "ipython",
    "version": 3
   },
   "file_extension": ".py",
   "mimetype": "text/x-python",
   "name": "python",
   "nbconvert_exporter": "python",
   "pygments_lexer": "ipython3",
   "version": "3.11.4"
  }
 },
 "nbformat": 4,
 "nbformat_minor": 2
}
