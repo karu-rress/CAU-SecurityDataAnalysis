{
 "cells": [
  {
   "cell_type": "markdown",
   "metadata": {},
   "source": [
    "## Pandas"
   ]
  },
  {
   "cell_type": "code",
   "execution_count": 2,
   "metadata": {},
   "outputs": [],
   "source": [
    "# 과제 설명이나 질문의 경우 마크다운 셀을 이용할 것."
   ]
  },
  {
   "cell_type": "markdown",
   "metadata": {},
   "source": [
    "Pandas\n",
    "- 하나의 열 또는 행을 series data라고 함.\n",
    "- 전체 테이블을 data frame이라고 함."
   ]
  },
  {
   "cell_type": "code",
   "execution_count": 16,
   "metadata": {},
   "outputs": [
    {
     "name": "stdout",
     "output_type": "stream",
     "text": [
      "0    Gildong Hong\n",
      "1     Jane Austin\n",
      "2      Alia Bhatt\n",
      "dtype: object\n"
     ]
    }
   ],
   "source": [
    "import pandas as pd\n",
    "\n",
    "student = ['Gildong Hong', 'Jane Austin', 'Alia Bhatt']\n",
    "print(pd.Series(student))"
   ]
  },
  {
   "cell_type": "code",
   "execution_count": 55,
   "metadata": {},
   "outputs": [
    {
     "name": "stdout",
     "output_type": "stream",
     "text": [
      "0    1\n",
      "1    2\n",
      "2    3\n",
      "dtype: int64\n",
      "RangeIndex(start=0, stop=3, step=1)\n"
     ]
    }
   ],
   "source": [
    "numbers = [*range(1, 4)] # [1, 4)\n",
    "numbers_s = pd.Series(numbers)\n",
    "print(numbers_s)\n",
    "print(numbers_s.index) # index is created implicitly"
   ]
  },
  {
   "cell_type": "code",
   "execution_count": 6,
   "metadata": {},
   "outputs": [
    {
     "data": {
      "text/plain": [
       "10001    Gildong Hong\n",
       "10002     Jane Austin\n",
       "10003      Alia Bhatt\n",
       "10004      Tony Leung\n",
       "dtype: object"
      ]
     },
     "execution_count": 6,
     "metadata": {},
     "output_type": "execute_result"
    }
   ],
   "source": [
    "student_no_name = {'10001':'Gildong Hong',\n",
    "                   '10002':'Jane Austin',\n",
    "                   '10003':'Alia Bhatt',\n",
    "                   '10004':'Tony Leung'}\n",
    "student_info = pd.Series(student_no_name)\n",
    "student_info # explicit index specification"
   ]
  },
  {
   "cell_type": "code",
   "execution_count": 17,
   "metadata": {},
   "outputs": [
    {
     "data": {
      "text/plain": [
       "10001    Gildong Hong\n",
       "10002     Jane Austin\n",
       "10003      Alia Bhatt\n",
       "10004      Tony Leung\n",
       "dtype: object"
      ]
     },
     "execution_count": 17,
     "metadata": {},
     "output_type": "execute_result"
    }
   ],
   "source": [
    "student_no_name2 = { 10001:'Gildong Hong',\n",
    "                   10002:'Jane Austin',\n",
    "                   10003:'Alia Bhatt',\n",
    "                   10004:'Tony Leung'}\n",
    "student_info2 = pd.Series(student_no_name2)\n",
    "student_info2 # 정수도 가능..은 함."
   ]
  },
  {
   "cell_type": "code",
   "execution_count": 56,
   "metadata": {},
   "outputs": [
    {
     "name": "stdout",
     "output_type": "stream",
     "text": [
      "Index(['10001', '10002', '10003', '10004'], dtype='object')\n",
      "Int64Index([10001, 10002, 10003, 10004], dtype='int64')\n"
     ]
    }
   ],
   "source": [
    "print(student_info.index)\n",
    "print(student_info2.index)"
   ]
  },
  {
   "cell_type": "markdown",
   "metadata": {},
   "source": [
    "계산을 할 거라면 index를 정수형으로 쓰는 게 좋지만,  \n",
    "계산을 하지 않을 거라면 텍스트형이 좋음.  \n",
    "앞에 0이 오는 경우 텍스트형은 보존이 되지만, 정수는 0이 날아감."
   ]
  },
  {
   "cell_type": "code",
   "execution_count": 10,
   "metadata": {},
   "outputs": [
    {
     "data": {
      "text/plain": [
       "Index(['10011', '10012', '10013'], dtype='object')"
      ]
     },
     "execution_count": 10,
     "metadata": {},
     "output_type": "execute_result"
    }
   ],
   "source": [
    "student = pd.Series(['Gildong Hong', 'Jane Austin', 'Alia Bhat'], index=['10011', '10012', '10013'])\n",
    "student.index"
   ]
  },
  {
   "cell_type": "code",
   "execution_count": null,
   "metadata": {},
   "outputs": [],
   "source": [
    "student = pd.Series(['Gildong Hong', 'Jane Austin', 'Alia Bhat', 'ADDITIONAL NAME'],\n",
    "                    index=['10011', '10012', '10013'])\n",
    "student.index # items != index mismatch => ERROR"
   ]
  },
  {
   "cell_type": "code",
   "execution_count": 12,
   "metadata": {},
   "outputs": [
    {
     "data": {
      "text/plain": [
       "10001    Gildong Hong\n",
       "10002     Jane Austin\n",
       "10005             NaN\n",
       "dtype: object"
      ]
     },
     "execution_count": 12,
     "metadata": {},
     "output_type": "execute_result"
    }
   ],
   "source": [
    "student_no_name = {'10001':'Gildong Hong',\n",
    "                   '10002':'Jane Austin',\n",
    "                   '10003':'Alia Bhatt',\n",
    "                   '10004':'Tony Leung'}\n",
    "student_info = pd.Series(student_no_name, index=['10001', '10002', '10005'])\n",
    "student_info # student_no_name 기준으로 인덱스 지정"
   ]
  },
  {
   "cell_type": "code",
   "execution_count": 13,
   "metadata": {},
   "outputs": [
    {
     "name": "stdout",
     "output_type": "stream",
     "text": [
      "Jane Austin\n",
      "Jane Austin\n",
      "Tony Leung\n",
      "Tony Leung\n"
     ]
    }
   ],
   "source": [
    "student_info = pd.Series(student_no_name)\n",
    "\n",
    "print(student_info.iloc[1]) # 0, 1, 2, ...인덱스\n",
    "print(student_info[1]) \n",
    "print(student_info.loc['10004']) # 명시적으로 지정한 인덱스\n",
    "print(student_info['10004'])"
   ]
  },
  {
   "cell_type": "markdown",
   "metadata": {},
   "source": [
    "iloc, loc 생략해도 잘 작동은 함. **근데 그러지 말라.**"
   ]
  },
  {
   "cell_type": "code",
   "execution_count": 14,
   "metadata": {},
   "outputs": [
    {
     "data": {
      "text/plain": [
       "'Apple'"
      ]
     },
     "execution_count": 14,
     "metadata": {},
     "output_type": "execute_result"
    }
   ],
   "source": [
    "student_no_name2 = {1 : 'Apple', 2: 'Banana', 3: 'Cheese'}\n",
    "student_info2 = pd.Series(student_no_name2)\n",
    "\n",
    "student_info2[1] # 뭘까요? Banana? Apple? -- 헷갈림."
   ]
  },
  {
   "cell_type": "code",
   "execution_count": 15,
   "metadata": {},
   "outputs": [
    {
     "data": {
      "text/plain": [
       "10001    Gildong Hong\n",
       "10002     Jane Austin\n",
       "10003      Alia Bhatt\n",
       "10004      Tony Leung\n",
       "1               Apple\n",
       "2              Banana\n",
       "3              Cheese\n",
       "dtype: object"
      ]
     },
     "execution_count": 15,
     "metadata": {},
     "output_type": "execute_result"
    }
   ],
   "source": [
    "# student_list = student_info.append(student_info2)\n",
    "# deprectated...\n",
    "\n",
    "student_list = pd.concat([student_info, student_info2])\n",
    "student_list"
   ]
  },
  {
   "cell_type": "code",
   "execution_count": 70,
   "metadata": {},
   "outputs": [
    {
     "data": {
      "text/html": [
       "<div>\n",
       "<style scoped>\n",
       "    .dataframe tbody tr th:only-of-type {\n",
       "        vertical-align: middle;\n",
       "    }\n",
       "\n",
       "    .dataframe tbody tr th {\n",
       "        vertical-align: top;\n",
       "    }\n",
       "\n",
       "    .dataframe thead th {\n",
       "        text-align: right;\n",
       "    }\n",
       "</style>\n",
       "<table border=\"1\" class=\"dataframe\">\n",
       "  <thead>\n",
       "    <tr style=\"text-align: right;\">\n",
       "      <th></th>\n",
       "      <th>이름</th>\n",
       "      <th>전화번호</th>\n",
       "      <th>포인트</th>\n",
       "    </tr>\n",
       "  </thead>\n",
       "  <tbody>\n",
       "    <tr>\n",
       "      <th>0</th>\n",
       "      <td>홍길동</td>\n",
       "      <td>010-1234-1234</td>\n",
       "      <td>90.0</td>\n",
       "    </tr>\n",
       "    <tr>\n",
       "      <th>1</th>\n",
       "      <td>허춘삼</td>\n",
       "      <td>010-1674-1237</td>\n",
       "      <td>60.0</td>\n",
       "    </tr>\n",
       "    <tr>\n",
       "      <th>2</th>\n",
       "      <td>고길동</td>\n",
       "      <td>010-9764-1234</td>\n",
       "      <td>22.5</td>\n",
       "    </tr>\n",
       "  </tbody>\n",
       "</table>\n",
       "</div>"
      ],
      "text/plain": [
       "    이름           전화번호   포인트\n",
       "0  홍길동  010-1234-1234  90.0\n",
       "1  허춘삼  010-1674-1237  60.0\n",
       "2  고길동  010-9764-1234  22.5"
      ]
     },
     "metadata": {},
     "output_type": "display_data"
    },
    {
     "data": {
      "text/html": [
       "<div>\n",
       "<style scoped>\n",
       "    .dataframe tbody tr th:only-of-type {\n",
       "        vertical-align: middle;\n",
       "    }\n",
       "\n",
       "    .dataframe tbody tr th {\n",
       "        vertical-align: top;\n",
       "    }\n",
       "\n",
       "    .dataframe thead th {\n",
       "        text-align: right;\n",
       "    }\n",
       "</style>\n",
       "<table border=\"1\" class=\"dataframe\">\n",
       "  <thead>\n",
       "    <tr style=\"text-align: right;\">\n",
       "      <th></th>\n",
       "      <th>이름</th>\n",
       "      <th>전화번호</th>\n",
       "      <th>포인트</th>\n",
       "    </tr>\n",
       "  </thead>\n",
       "  <tbody>\n",
       "    <tr>\n",
       "      <th>10001</th>\n",
       "      <td>홍길동</td>\n",
       "      <td>010-1234-1234</td>\n",
       "      <td>90.0</td>\n",
       "    </tr>\n",
       "    <tr>\n",
       "      <th>10002</th>\n",
       "      <td>허춘삼</td>\n",
       "      <td>010-1674-1237</td>\n",
       "      <td>60.0</td>\n",
       "    </tr>\n",
       "    <tr>\n",
       "      <th>10003</th>\n",
       "      <td>고길동</td>\n",
       "      <td>010-9764-1234</td>\n",
       "      <td>22.5</td>\n",
       "    </tr>\n",
       "  </tbody>\n",
       "</table>\n",
       "</div>"
      ],
      "text/plain": [
       "        이름           전화번호   포인트\n",
       "10001  홍길동  010-1234-1234  90.0\n",
       "10002  허춘삼  010-1674-1237  60.0\n",
       "10003  고길동  010-9764-1234  22.5"
      ]
     },
     "metadata": {},
     "output_type": "display_data"
    }
   ],
   "source": [
    "students_1 = pd.Series({'이름':'홍길동', '전화번호':'010-1234-1234', '포인트':90})\n",
    "students_2 = pd.Series({'이름':'허춘삼', '전화번호':'010-1674-1237', '포인트':60})\n",
    "students_3 = pd.Series({'이름':'고길동', '전화번호':'010-9764-1234', '포인트':22.5})\n",
    "\n",
    "df = pd.DataFrame([students_1, students_2, students_3])\n",
    "display(df)\n",
    "\n",
    "df = pd.DataFrame([students_1, students_2, students_3], index=['10001', '10002', '10003'])\n",
    "display(df)"
   ]
  },
  {
   "cell_type": "code",
   "execution_count": 62,
   "metadata": {},
   "outputs": [
    {
     "name": "stdout",
     "output_type": "stream",
     "text": [
      "<class 'pandas.core.frame.DataFrame'>\n",
      "Index(['10001', '10002', '10003'], dtype='object')\n"
     ]
    }
   ],
   "source": [
    "print(type(df))\n",
    "print(df.index)"
   ]
  },
  {
   "cell_type": "code",
   "execution_count": 72,
   "metadata": {},
   "outputs": [
    {
     "name": "stdout",
     "output_type": "stream",
     "text": [
      "이름                허춘삼\n",
      "전화번호    010-1674-1237\n",
      "포인트              60.0\n",
      "Name: 10002, dtype: object\n",
      "\n",
      "이름                홍길동\n",
      "전화번호    010-1234-1234\n",
      "포인트              90.0\n",
      "Name: 10001, dtype: object\n"
     ]
    }
   ],
   "source": [
    "print(df.iloc[1]) # => 시리즈 데이터\n",
    "print()\n",
    "print(df.loc['10001']) # => 마찬가지로 시리즈 데이터"
   ]
  },
  {
   "cell_type": "code",
   "execution_count": null,
   "metadata": {},
   "outputs": [],
   "source": [
    "df['10001'] # ERROR!!!! 이건 column을 선택하는 거임."
   ]
  },
  {
   "cell_type": "code",
   "execution_count": 66,
   "metadata": {},
   "outputs": [
    {
     "data": {
      "text/plain": [
       "10001    홍길동\n",
       "10002    허춘삼\n",
       "10003    고길동\n",
       "Name: 이름, dtype: object"
      ]
     },
     "execution_count": 66,
     "metadata": {},
     "output_type": "execute_result"
    }
   ],
   "source": [
    "df['이름'] # iloc, loc 없으면 column 선택"
   ]
  },
  {
   "cell_type": "code",
   "execution_count": 69,
   "metadata": {},
   "outputs": [
    {
     "data": {
      "text/html": [
       "<div>\n",
       "<style scoped>\n",
       "    .dataframe tbody tr th:only-of-type {\n",
       "        vertical-align: middle;\n",
       "    }\n",
       "\n",
       "    .dataframe tbody tr th {\n",
       "        vertical-align: top;\n",
       "    }\n",
       "\n",
       "    .dataframe thead th {\n",
       "        text-align: right;\n",
       "    }\n",
       "</style>\n",
       "<table border=\"1\" class=\"dataframe\">\n",
       "  <thead>\n",
       "    <tr style=\"text-align: right;\">\n",
       "      <th></th>\n",
       "      <th>이름</th>\n",
       "      <th>전화번호</th>\n",
       "      <th>포인트</th>\n",
       "    </tr>\n",
       "  </thead>\n",
       "  <tbody>\n",
       "    <tr>\n",
       "      <th>10001</th>\n",
       "      <td>홍길동</td>\n",
       "      <td>010-1234-1234</td>\n",
       "      <td>90.0</td>\n",
       "    </tr>\n",
       "    <tr>\n",
       "      <th>10002</th>\n",
       "      <td>허춘삼</td>\n",
       "      <td>010-1674-1237</td>\n",
       "      <td>60.0</td>\n",
       "    </tr>\n",
       "    <tr>\n",
       "      <th>10003</th>\n",
       "      <td>고길동</td>\n",
       "      <td>010-9764-1234</td>\n",
       "      <td>22.5</td>\n",
       "    </tr>\n",
       "  </tbody>\n",
       "</table>\n",
       "</div>"
      ],
      "text/plain": [
       "        이름           전화번호   포인트\n",
       "10001  홍길동  010-1234-1234  90.0\n",
       "10002  허춘삼  010-1674-1237  60.0\n",
       "10003  고길동  010-9764-1234  22.5"
      ]
     },
     "metadata": {},
     "output_type": "display_data"
    },
    {
     "data": {
      "text/html": [
       "<div>\n",
       "<style scoped>\n",
       "    .dataframe tbody tr th:only-of-type {\n",
       "        vertical-align: middle;\n",
       "    }\n",
       "\n",
       "    .dataframe tbody tr th {\n",
       "        vertical-align: top;\n",
       "    }\n",
       "\n",
       "    .dataframe thead th {\n",
       "        text-align: right;\n",
       "    }\n",
       "</style>\n",
       "<table border=\"1\" class=\"dataframe\">\n",
       "  <thead>\n",
       "    <tr style=\"text-align: right;\">\n",
       "      <th></th>\n",
       "      <th>이름</th>\n",
       "      <th>전화번호</th>\n",
       "    </tr>\n",
       "  </thead>\n",
       "  <tbody>\n",
       "    <tr>\n",
       "      <th>10001</th>\n",
       "      <td>홍길동</td>\n",
       "      <td>010-1234-1234</td>\n",
       "    </tr>\n",
       "    <tr>\n",
       "      <th>10002</th>\n",
       "      <td>허춘삼</td>\n",
       "      <td>010-1674-1237</td>\n",
       "    </tr>\n",
       "  </tbody>\n",
       "</table>\n",
       "</div>"
      ],
      "text/plain": [
       "        이름           전화번호\n",
       "10001  홍길동  010-1234-1234\n",
       "10002  허춘삼  010-1674-1237"
      ]
     },
     "metadata": {},
     "output_type": "display_data"
    }
   ],
   "source": [
    "display(df.iloc[:,:]) # 행-열 (row, column)\n",
    "display(df.iloc[0:2,0:2])"
   ]
  },
  {
   "cell_type": "code",
   "execution_count": 41,
   "metadata": {},
   "outputs": [
    {
     "data": {
      "text/plain": [
       "10001    90.0\n",
       "10002    60.0\n",
       "10003    22.5\n",
       "Name: 포인트, dtype: float64"
      ]
     },
     "execution_count": 41,
     "metadata": {},
     "output_type": "execute_result"
    }
   ],
   "source": [
    "df['포인트']              # => Series"
   ]
  },
  {
   "cell_type": "code",
   "execution_count": 73,
   "metadata": {},
   "outputs": [
    {
     "data": {
      "text/html": [
       "<div>\n",
       "<style scoped>\n",
       "    .dataframe tbody tr th:only-of-type {\n",
       "        vertical-align: middle;\n",
       "    }\n",
       "\n",
       "    .dataframe tbody tr th {\n",
       "        vertical-align: top;\n",
       "    }\n",
       "\n",
       "    .dataframe thead th {\n",
       "        text-align: right;\n",
       "    }\n",
       "</style>\n",
       "<table border=\"1\" class=\"dataframe\">\n",
       "  <thead>\n",
       "    <tr style=\"text-align: right;\">\n",
       "      <th></th>\n",
       "      <th>이름</th>\n",
       "      <th>포인트</th>\n",
       "    </tr>\n",
       "  </thead>\n",
       "  <tbody>\n",
       "    <tr>\n",
       "      <th>10001</th>\n",
       "      <td>홍길동</td>\n",
       "      <td>90.0</td>\n",
       "    </tr>\n",
       "    <tr>\n",
       "      <th>10002</th>\n",
       "      <td>허춘삼</td>\n",
       "      <td>60.0</td>\n",
       "    </tr>\n",
       "    <tr>\n",
       "      <th>10003</th>\n",
       "      <td>고길동</td>\n",
       "      <td>22.5</td>\n",
       "    </tr>\n",
       "  </tbody>\n",
       "</table>\n",
       "</div>"
      ],
      "text/plain": [
       "        이름   포인트\n",
       "10001  홍길동  90.0\n",
       "10002  허춘삼  60.0\n",
       "10003  고길동  22.5"
      ]
     },
     "metadata": {},
     "output_type": "display_data"
    },
    {
     "data": {
      "text/html": [
       "<div>\n",
       "<style scoped>\n",
       "    .dataframe tbody tr th:only-of-type {\n",
       "        vertical-align: middle;\n",
       "    }\n",
       "\n",
       "    .dataframe tbody tr th {\n",
       "        vertical-align: top;\n",
       "    }\n",
       "\n",
       "    .dataframe thead th {\n",
       "        text-align: right;\n",
       "    }\n",
       "</style>\n",
       "<table border=\"1\" class=\"dataframe\">\n",
       "  <thead>\n",
       "    <tr style=\"text-align: right;\">\n",
       "      <th></th>\n",
       "      <th>이름</th>\n",
       "      <th>포인트</th>\n",
       "    </tr>\n",
       "  </thead>\n",
       "  <tbody>\n",
       "    <tr>\n",
       "      <th>10001</th>\n",
       "      <td>홍길동</td>\n",
       "      <td>90.0</td>\n",
       "    </tr>\n",
       "    <tr>\n",
       "      <th>10002</th>\n",
       "      <td>허춘삼</td>\n",
       "      <td>60.0</td>\n",
       "    </tr>\n",
       "    <tr>\n",
       "      <th>10003</th>\n",
       "      <td>고길동</td>\n",
       "      <td>22.5</td>\n",
       "    </tr>\n",
       "  </tbody>\n",
       "</table>\n",
       "</div>"
      ],
      "text/plain": [
       "        이름   포인트\n",
       "10001  홍길동  90.0\n",
       "10002  허춘삼  60.0\n",
       "10003  고길동  22.5"
      ]
     },
     "metadata": {},
     "output_type": "display_data"
    }
   ],
   "source": [
    "display(df[    ['이름', '포인트']      ]) # 2중 대괄호 사용 => DataFrame\n",
    "display(df.loc[:, ['이름', '포인트']]) # OK"
   ]
  },
  {
   "cell_type": "code",
   "execution_count": null,
   "metadata": {},
   "outputs": [],
   "source": [
    "df.loc[0:2, ['이름', '포인트']] # ERROR (loc => 암시적 인덱스가 올 수 없음.)"
   ]
  },
  {
   "cell_type": "code",
   "execution_count": 50,
   "metadata": {},
   "outputs": [
    {
     "data": {
      "text/html": [
       "<div>\n",
       "<style scoped>\n",
       "    .dataframe tbody tr th:only-of-type {\n",
       "        vertical-align: middle;\n",
       "    }\n",
       "\n",
       "    .dataframe tbody tr th {\n",
       "        vertical-align: top;\n",
       "    }\n",
       "\n",
       "    .dataframe thead th {\n",
       "        text-align: right;\n",
       "    }\n",
       "</style>\n",
       "<table border=\"1\" class=\"dataframe\">\n",
       "  <thead>\n",
       "    <tr style=\"text-align: right;\">\n",
       "      <th></th>\n",
       "      <th>이름</th>\n",
       "      <th>포인트</th>\n",
       "    </tr>\n",
       "  </thead>\n",
       "  <tbody>\n",
       "    <tr>\n",
       "      <th>10001</th>\n",
       "      <td>홍길동</td>\n",
       "      <td>90.0</td>\n",
       "    </tr>\n",
       "    <tr>\n",
       "      <th>10002</th>\n",
       "      <td>허춘삼</td>\n",
       "      <td>60.0</td>\n",
       "    </tr>\n",
       "  </tbody>\n",
       "</table>\n",
       "</div>"
      ],
      "text/plain": [
       "        이름   포인트\n",
       "10001  홍길동  90.0\n",
       "10002  허춘삼  60.0"
      ]
     },
     "execution_count": 50,
     "metadata": {},
     "output_type": "execute_result"
    }
   ],
   "source": [
    "df.loc[['10001','10002'], ['이름', '포인트']] # OK"
   ]
  },
  {
   "cell_type": "code",
   "execution_count": 53,
   "metadata": {},
   "outputs": [
    {
     "data": {
      "text/plain": [
       "10001     True\n",
       "10002    False\n",
       "10003    False\n",
       "Name: 이름, dtype: bool"
      ]
     },
     "execution_count": 53,
     "metadata": {},
     "output_type": "execute_result"
    }
   ],
   "source": [
    "df['이름'] == '홍길동'"
   ]
  },
  {
   "cell_type": "code",
   "execution_count": 54,
   "metadata": {},
   "outputs": [
    {
     "data": {
      "text/html": [
       "<div>\n",
       "<style scoped>\n",
       "    .dataframe tbody tr th:only-of-type {\n",
       "        vertical-align: middle;\n",
       "    }\n",
       "\n",
       "    .dataframe tbody tr th {\n",
       "        vertical-align: top;\n",
       "    }\n",
       "\n",
       "    .dataframe thead th {\n",
       "        text-align: right;\n",
       "    }\n",
       "</style>\n",
       "<table border=\"1\" class=\"dataframe\">\n",
       "  <thead>\n",
       "    <tr style=\"text-align: right;\">\n",
       "      <th></th>\n",
       "      <th>이름</th>\n",
       "      <th>전화번호</th>\n",
       "      <th>포인트</th>\n",
       "    </tr>\n",
       "  </thead>\n",
       "  <tbody>\n",
       "    <tr>\n",
       "      <th>10001</th>\n",
       "      <td>홍길동</td>\n",
       "      <td>010-1234-1234</td>\n",
       "      <td>90.0</td>\n",
       "    </tr>\n",
       "  </tbody>\n",
       "</table>\n",
       "</div>"
      ],
      "text/plain": [
       "        이름           전화번호   포인트\n",
       "10001  홍길동  010-1234-1234  90.0"
      ]
     },
     "execution_count": 54,
     "metadata": {},
     "output_type": "execute_result"
    }
   ],
   "source": [
    "df[     df['이름'] == '홍길동'     ]  # 위 결과를 다시 df로 전달해서 뽑아내기. Boolean Indexing?\n",
    "# SELECT * FROM df WHERE 이름 = '홍길동'"
   ]
  }
 ],
 "metadata": {
  "kernelspec": {
   "display_name": "base",
   "language": "python",
   "name": "python3"
  },
  "language_info": {
   "codemirror_mode": {
    "name": "ipython",
    "version": 3
   },
   "file_extension": ".py",
   "mimetype": "text/x-python",
   "name": "python",
   "nbconvert_exporter": "python",
   "pygments_lexer": "ipython3",
   "version": "3.10.9"
  },
  "orig_nbformat": 4
 },
 "nbformat": 4,
 "nbformat_minor": 2
}
